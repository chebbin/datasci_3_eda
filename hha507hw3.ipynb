{
  "nbformat": 4,
  "nbformat_minor": 0,
  "metadata": {
    "colab": {
      "provenance": [],
      "authorship_tag": "ABX9TyNzAKZBnLNa6Hj95qBd54u/",
      "include_colab_link": true
    },
    "kernelspec": {
      "name": "python3",
      "display_name": "Python 3"
    },
    "language_info": {
      "name": "python"
    },
    "widgets": {
      "application/vnd.jupyter.widget-state+json": {
        "91a9571bddea4c7980b111d68ad8a61c": {
          "model_module": "@jupyter-widgets/controls",
          "model_name": "HBoxModel",
          "model_module_version": "1.5.0",
          "state": {
            "_dom_classes": [],
            "_model_module": "@jupyter-widgets/controls",
            "_model_module_version": "1.5.0",
            "_model_name": "HBoxModel",
            "_view_count": null,
            "_view_module": "@jupyter-widgets/controls",
            "_view_module_version": "1.5.0",
            "_view_name": "HBoxView",
            "box_style": "",
            "children": [
              "IPY_MODEL_5cc41055dc9b4552b9a0a1e7693634c7",
              "IPY_MODEL_48788e57f71746839dfe0f150e7ebfac",
              "IPY_MODEL_fadf809af29d49b1ae8b6a4888018fdc"
            ],
            "layout": "IPY_MODEL_8eecc6266b794dd8bd78abf1a381079d"
          }
        },
        "5cc41055dc9b4552b9a0a1e7693634c7": {
          "model_module": "@jupyter-widgets/controls",
          "model_name": "HTMLModel",
          "model_module_version": "1.5.0",
          "state": {
            "_dom_classes": [],
            "_model_module": "@jupyter-widgets/controls",
            "_model_module_version": "1.5.0",
            "_model_name": "HTMLModel",
            "_view_count": null,
            "_view_module": "@jupyter-widgets/controls",
            "_view_module_version": "1.5.0",
            "_view_name": "HTMLView",
            "description": "",
            "description_tooltip": null,
            "layout": "IPY_MODEL_eaba23883ff54736a13b6a5681609bfc",
            "placeholder": "​",
            "style": "IPY_MODEL_f3fd12aae6c144e592523ba0745e0492",
            "value": "Summarize dataset: 100%"
          }
        },
        "48788e57f71746839dfe0f150e7ebfac": {
          "model_module": "@jupyter-widgets/controls",
          "model_name": "FloatProgressModel",
          "model_module_version": "1.5.0",
          "state": {
            "_dom_classes": [],
            "_model_module": "@jupyter-widgets/controls",
            "_model_module_version": "1.5.0",
            "_model_name": "FloatProgressModel",
            "_view_count": null,
            "_view_module": "@jupyter-widgets/controls",
            "_view_module_version": "1.5.0",
            "_view_name": "ProgressView",
            "bar_style": "success",
            "description": "",
            "description_tooltip": null,
            "layout": "IPY_MODEL_4ef96cd0eadb4199991e8ece7475ff3f",
            "max": 5,
            "min": 0,
            "orientation": "horizontal",
            "style": "IPY_MODEL_f677345b622644ad932f5f7cb109b07e",
            "value": 5
          }
        },
        "fadf809af29d49b1ae8b6a4888018fdc": {
          "model_module": "@jupyter-widgets/controls",
          "model_name": "HTMLModel",
          "model_module_version": "1.5.0",
          "state": {
            "_dom_classes": [],
            "_model_module": "@jupyter-widgets/controls",
            "_model_module_version": "1.5.0",
            "_model_name": "HTMLModel",
            "_view_count": null,
            "_view_module": "@jupyter-widgets/controls",
            "_view_module_version": "1.5.0",
            "_view_name": "HTMLView",
            "description": "",
            "description_tooltip": null,
            "layout": "IPY_MODEL_734f9bbf30864dd1ad91653184a6c2aa",
            "placeholder": "​",
            "style": "IPY_MODEL_d0c1956a35fb4557adb9011b82bdaaec",
            "value": " 26/26 [00:05&lt;00:00,  3.33it/s, Completed]"
          }
        },
        "8eecc6266b794dd8bd78abf1a381079d": {
          "model_module": "@jupyter-widgets/base",
          "model_name": "LayoutModel",
          "model_module_version": "1.2.0",
          "state": {
            "_model_module": "@jupyter-widgets/base",
            "_model_module_version": "1.2.0",
            "_model_name": "LayoutModel",
            "_view_count": null,
            "_view_module": "@jupyter-widgets/base",
            "_view_module_version": "1.2.0",
            "_view_name": "LayoutView",
            "align_content": null,
            "align_items": null,
            "align_self": null,
            "border": null,
            "bottom": null,
            "display": null,
            "flex": null,
            "flex_flow": null,
            "grid_area": null,
            "grid_auto_columns": null,
            "grid_auto_flow": null,
            "grid_auto_rows": null,
            "grid_column": null,
            "grid_gap": null,
            "grid_row": null,
            "grid_template_areas": null,
            "grid_template_columns": null,
            "grid_template_rows": null,
            "height": null,
            "justify_content": null,
            "justify_items": null,
            "left": null,
            "margin": null,
            "max_height": null,
            "max_width": null,
            "min_height": null,
            "min_width": null,
            "object_fit": null,
            "object_position": null,
            "order": null,
            "overflow": null,
            "overflow_x": null,
            "overflow_y": null,
            "padding": null,
            "right": null,
            "top": null,
            "visibility": null,
            "width": null
          }
        },
        "eaba23883ff54736a13b6a5681609bfc": {
          "model_module": "@jupyter-widgets/base",
          "model_name": "LayoutModel",
          "model_module_version": "1.2.0",
          "state": {
            "_model_module": "@jupyter-widgets/base",
            "_model_module_version": "1.2.0",
            "_model_name": "LayoutModel",
            "_view_count": null,
            "_view_module": "@jupyter-widgets/base",
            "_view_module_version": "1.2.0",
            "_view_name": "LayoutView",
            "align_content": null,
            "align_items": null,
            "align_self": null,
            "border": null,
            "bottom": null,
            "display": null,
            "flex": null,
            "flex_flow": null,
            "grid_area": null,
            "grid_auto_columns": null,
            "grid_auto_flow": null,
            "grid_auto_rows": null,
            "grid_column": null,
            "grid_gap": null,
            "grid_row": null,
            "grid_template_areas": null,
            "grid_template_columns": null,
            "grid_template_rows": null,
            "height": null,
            "justify_content": null,
            "justify_items": null,
            "left": null,
            "margin": null,
            "max_height": null,
            "max_width": null,
            "min_height": null,
            "min_width": null,
            "object_fit": null,
            "object_position": null,
            "order": null,
            "overflow": null,
            "overflow_x": null,
            "overflow_y": null,
            "padding": null,
            "right": null,
            "top": null,
            "visibility": null,
            "width": null
          }
        },
        "f3fd12aae6c144e592523ba0745e0492": {
          "model_module": "@jupyter-widgets/controls",
          "model_name": "DescriptionStyleModel",
          "model_module_version": "1.5.0",
          "state": {
            "_model_module": "@jupyter-widgets/controls",
            "_model_module_version": "1.5.0",
            "_model_name": "DescriptionStyleModel",
            "_view_count": null,
            "_view_module": "@jupyter-widgets/base",
            "_view_module_version": "1.2.0",
            "_view_name": "StyleView",
            "description_width": ""
          }
        },
        "4ef96cd0eadb4199991e8ece7475ff3f": {
          "model_module": "@jupyter-widgets/base",
          "model_name": "LayoutModel",
          "model_module_version": "1.2.0",
          "state": {
            "_model_module": "@jupyter-widgets/base",
            "_model_module_version": "1.2.0",
            "_model_name": "LayoutModel",
            "_view_count": null,
            "_view_module": "@jupyter-widgets/base",
            "_view_module_version": "1.2.0",
            "_view_name": "LayoutView",
            "align_content": null,
            "align_items": null,
            "align_self": null,
            "border": null,
            "bottom": null,
            "display": null,
            "flex": null,
            "flex_flow": null,
            "grid_area": null,
            "grid_auto_columns": null,
            "grid_auto_flow": null,
            "grid_auto_rows": null,
            "grid_column": null,
            "grid_gap": null,
            "grid_row": null,
            "grid_template_areas": null,
            "grid_template_columns": null,
            "grid_template_rows": null,
            "height": null,
            "justify_content": null,
            "justify_items": null,
            "left": null,
            "margin": null,
            "max_height": null,
            "max_width": null,
            "min_height": null,
            "min_width": null,
            "object_fit": null,
            "object_position": null,
            "order": null,
            "overflow": null,
            "overflow_x": null,
            "overflow_y": null,
            "padding": null,
            "right": null,
            "top": null,
            "visibility": null,
            "width": null
          }
        },
        "f677345b622644ad932f5f7cb109b07e": {
          "model_module": "@jupyter-widgets/controls",
          "model_name": "ProgressStyleModel",
          "model_module_version": "1.5.0",
          "state": {
            "_model_module": "@jupyter-widgets/controls",
            "_model_module_version": "1.5.0",
            "_model_name": "ProgressStyleModel",
            "_view_count": null,
            "_view_module": "@jupyter-widgets/base",
            "_view_module_version": "1.2.0",
            "_view_name": "StyleView",
            "bar_color": null,
            "description_width": ""
          }
        },
        "734f9bbf30864dd1ad91653184a6c2aa": {
          "model_module": "@jupyter-widgets/base",
          "model_name": "LayoutModel",
          "model_module_version": "1.2.0",
          "state": {
            "_model_module": "@jupyter-widgets/base",
            "_model_module_version": "1.2.0",
            "_model_name": "LayoutModel",
            "_view_count": null,
            "_view_module": "@jupyter-widgets/base",
            "_view_module_version": "1.2.0",
            "_view_name": "LayoutView",
            "align_content": null,
            "align_items": null,
            "align_self": null,
            "border": null,
            "bottom": null,
            "display": null,
            "flex": null,
            "flex_flow": null,
            "grid_area": null,
            "grid_auto_columns": null,
            "grid_auto_flow": null,
            "grid_auto_rows": null,
            "grid_column": null,
            "grid_gap": null,
            "grid_row": null,
            "grid_template_areas": null,
            "grid_template_columns": null,
            "grid_template_rows": null,
            "height": null,
            "justify_content": null,
            "justify_items": null,
            "left": null,
            "margin": null,
            "max_height": null,
            "max_width": null,
            "min_height": null,
            "min_width": null,
            "object_fit": null,
            "object_position": null,
            "order": null,
            "overflow": null,
            "overflow_x": null,
            "overflow_y": null,
            "padding": null,
            "right": null,
            "top": null,
            "visibility": null,
            "width": null
          }
        },
        "d0c1956a35fb4557adb9011b82bdaaec": {
          "model_module": "@jupyter-widgets/controls",
          "model_name": "DescriptionStyleModel",
          "model_module_version": "1.5.0",
          "state": {
            "_model_module": "@jupyter-widgets/controls",
            "_model_module_version": "1.5.0",
            "_model_name": "DescriptionStyleModel",
            "_view_count": null,
            "_view_module": "@jupyter-widgets/base",
            "_view_module_version": "1.2.0",
            "_view_name": "StyleView",
            "description_width": ""
          }
        },
        "edcaddda0ca7406abc35f5df60b23c46": {
          "model_module": "@jupyter-widgets/controls",
          "model_name": "HBoxModel",
          "model_module_version": "1.5.0",
          "state": {
            "_dom_classes": [],
            "_model_module": "@jupyter-widgets/controls",
            "_model_module_version": "1.5.0",
            "_model_name": "HBoxModel",
            "_view_count": null,
            "_view_module": "@jupyter-widgets/controls",
            "_view_module_version": "1.5.0",
            "_view_name": "HBoxView",
            "box_style": "",
            "children": [
              "IPY_MODEL_1bf65e2bcea648169b5c960f99320408",
              "IPY_MODEL_c13a0dfb16e94a2395cbaa3338af4b10",
              "IPY_MODEL_1df5b9690b26410496d970d1288c545f"
            ],
            "layout": "IPY_MODEL_1d743b9fe21543e6ae037a3f17fbe344"
          }
        },
        "1bf65e2bcea648169b5c960f99320408": {
          "model_module": "@jupyter-widgets/controls",
          "model_name": "HTMLModel",
          "model_module_version": "1.5.0",
          "state": {
            "_dom_classes": [],
            "_model_module": "@jupyter-widgets/controls",
            "_model_module_version": "1.5.0",
            "_model_name": "HTMLModel",
            "_view_count": null,
            "_view_module": "@jupyter-widgets/controls",
            "_view_module_version": "1.5.0",
            "_view_name": "HTMLView",
            "description": "",
            "description_tooltip": null,
            "layout": "IPY_MODEL_c8a1701de4334c61a0dadff4ce714036",
            "placeholder": "​",
            "style": "IPY_MODEL_72f1d6cbd9ba48cd8cbf867df69c8bbc",
            "value": "Generate report structure: 100%"
          }
        },
        "c13a0dfb16e94a2395cbaa3338af4b10": {
          "model_module": "@jupyter-widgets/controls",
          "model_name": "FloatProgressModel",
          "model_module_version": "1.5.0",
          "state": {
            "_dom_classes": [],
            "_model_module": "@jupyter-widgets/controls",
            "_model_module_version": "1.5.0",
            "_model_name": "FloatProgressModel",
            "_view_count": null,
            "_view_module": "@jupyter-widgets/controls",
            "_view_module_version": "1.5.0",
            "_view_name": "ProgressView",
            "bar_style": "success",
            "description": "",
            "description_tooltip": null,
            "layout": "IPY_MODEL_f3ba231f3c5b441fbbd8a732d58a1026",
            "max": 1,
            "min": 0,
            "orientation": "horizontal",
            "style": "IPY_MODEL_383f59ff712f403b98b8291fa1c8608c",
            "value": 1
          }
        },
        "1df5b9690b26410496d970d1288c545f": {
          "model_module": "@jupyter-widgets/controls",
          "model_name": "HTMLModel",
          "model_module_version": "1.5.0",
          "state": {
            "_dom_classes": [],
            "_model_module": "@jupyter-widgets/controls",
            "_model_module_version": "1.5.0",
            "_model_name": "HTMLModel",
            "_view_count": null,
            "_view_module": "@jupyter-widgets/controls",
            "_view_module_version": "1.5.0",
            "_view_name": "HTMLView",
            "description": "",
            "description_tooltip": null,
            "layout": "IPY_MODEL_2dea4e93c4d449568c261919f1ff0854",
            "placeholder": "​",
            "style": "IPY_MODEL_a03c99dca2f24a5b8664896b6d120b11",
            "value": " 1/1 [00:04&lt;00:00,  4.93s/it]"
          }
        },
        "1d743b9fe21543e6ae037a3f17fbe344": {
          "model_module": "@jupyter-widgets/base",
          "model_name": "LayoutModel",
          "model_module_version": "1.2.0",
          "state": {
            "_model_module": "@jupyter-widgets/base",
            "_model_module_version": "1.2.0",
            "_model_name": "LayoutModel",
            "_view_count": null,
            "_view_module": "@jupyter-widgets/base",
            "_view_module_version": "1.2.0",
            "_view_name": "LayoutView",
            "align_content": null,
            "align_items": null,
            "align_self": null,
            "border": null,
            "bottom": null,
            "display": null,
            "flex": null,
            "flex_flow": null,
            "grid_area": null,
            "grid_auto_columns": null,
            "grid_auto_flow": null,
            "grid_auto_rows": null,
            "grid_column": null,
            "grid_gap": null,
            "grid_row": null,
            "grid_template_areas": null,
            "grid_template_columns": null,
            "grid_template_rows": null,
            "height": null,
            "justify_content": null,
            "justify_items": null,
            "left": null,
            "margin": null,
            "max_height": null,
            "max_width": null,
            "min_height": null,
            "min_width": null,
            "object_fit": null,
            "object_position": null,
            "order": null,
            "overflow": null,
            "overflow_x": null,
            "overflow_y": null,
            "padding": null,
            "right": null,
            "top": null,
            "visibility": null,
            "width": null
          }
        },
        "c8a1701de4334c61a0dadff4ce714036": {
          "model_module": "@jupyter-widgets/base",
          "model_name": "LayoutModel",
          "model_module_version": "1.2.0",
          "state": {
            "_model_module": "@jupyter-widgets/base",
            "_model_module_version": "1.2.0",
            "_model_name": "LayoutModel",
            "_view_count": null,
            "_view_module": "@jupyter-widgets/base",
            "_view_module_version": "1.2.0",
            "_view_name": "LayoutView",
            "align_content": null,
            "align_items": null,
            "align_self": null,
            "border": null,
            "bottom": null,
            "display": null,
            "flex": null,
            "flex_flow": null,
            "grid_area": null,
            "grid_auto_columns": null,
            "grid_auto_flow": null,
            "grid_auto_rows": null,
            "grid_column": null,
            "grid_gap": null,
            "grid_row": null,
            "grid_template_areas": null,
            "grid_template_columns": null,
            "grid_template_rows": null,
            "height": null,
            "justify_content": null,
            "justify_items": null,
            "left": null,
            "margin": null,
            "max_height": null,
            "max_width": null,
            "min_height": null,
            "min_width": null,
            "object_fit": null,
            "object_position": null,
            "order": null,
            "overflow": null,
            "overflow_x": null,
            "overflow_y": null,
            "padding": null,
            "right": null,
            "top": null,
            "visibility": null,
            "width": null
          }
        },
        "72f1d6cbd9ba48cd8cbf867df69c8bbc": {
          "model_module": "@jupyter-widgets/controls",
          "model_name": "DescriptionStyleModel",
          "model_module_version": "1.5.0",
          "state": {
            "_model_module": "@jupyter-widgets/controls",
            "_model_module_version": "1.5.0",
            "_model_name": "DescriptionStyleModel",
            "_view_count": null,
            "_view_module": "@jupyter-widgets/base",
            "_view_module_version": "1.2.0",
            "_view_name": "StyleView",
            "description_width": ""
          }
        },
        "f3ba231f3c5b441fbbd8a732d58a1026": {
          "model_module": "@jupyter-widgets/base",
          "model_name": "LayoutModel",
          "model_module_version": "1.2.0",
          "state": {
            "_model_module": "@jupyter-widgets/base",
            "_model_module_version": "1.2.0",
            "_model_name": "LayoutModel",
            "_view_count": null,
            "_view_module": "@jupyter-widgets/base",
            "_view_module_version": "1.2.0",
            "_view_name": "LayoutView",
            "align_content": null,
            "align_items": null,
            "align_self": null,
            "border": null,
            "bottom": null,
            "display": null,
            "flex": null,
            "flex_flow": null,
            "grid_area": null,
            "grid_auto_columns": null,
            "grid_auto_flow": null,
            "grid_auto_rows": null,
            "grid_column": null,
            "grid_gap": null,
            "grid_row": null,
            "grid_template_areas": null,
            "grid_template_columns": null,
            "grid_template_rows": null,
            "height": null,
            "justify_content": null,
            "justify_items": null,
            "left": null,
            "margin": null,
            "max_height": null,
            "max_width": null,
            "min_height": null,
            "min_width": null,
            "object_fit": null,
            "object_position": null,
            "order": null,
            "overflow": null,
            "overflow_x": null,
            "overflow_y": null,
            "padding": null,
            "right": null,
            "top": null,
            "visibility": null,
            "width": null
          }
        },
        "383f59ff712f403b98b8291fa1c8608c": {
          "model_module": "@jupyter-widgets/controls",
          "model_name": "ProgressStyleModel",
          "model_module_version": "1.5.0",
          "state": {
            "_model_module": "@jupyter-widgets/controls",
            "_model_module_version": "1.5.0",
            "_model_name": "ProgressStyleModel",
            "_view_count": null,
            "_view_module": "@jupyter-widgets/base",
            "_view_module_version": "1.2.0",
            "_view_name": "StyleView",
            "bar_color": null,
            "description_width": ""
          }
        },
        "2dea4e93c4d449568c261919f1ff0854": {
          "model_module": "@jupyter-widgets/base",
          "model_name": "LayoutModel",
          "model_module_version": "1.2.0",
          "state": {
            "_model_module": "@jupyter-widgets/base",
            "_model_module_version": "1.2.0",
            "_model_name": "LayoutModel",
            "_view_count": null,
            "_view_module": "@jupyter-widgets/base",
            "_view_module_version": "1.2.0",
            "_view_name": "LayoutView",
            "align_content": null,
            "align_items": null,
            "align_self": null,
            "border": null,
            "bottom": null,
            "display": null,
            "flex": null,
            "flex_flow": null,
            "grid_area": null,
            "grid_auto_columns": null,
            "grid_auto_flow": null,
            "grid_auto_rows": null,
            "grid_column": null,
            "grid_gap": null,
            "grid_row": null,
            "grid_template_areas": null,
            "grid_template_columns": null,
            "grid_template_rows": null,
            "height": null,
            "justify_content": null,
            "justify_items": null,
            "left": null,
            "margin": null,
            "max_height": null,
            "max_width": null,
            "min_height": null,
            "min_width": null,
            "object_fit": null,
            "object_position": null,
            "order": null,
            "overflow": null,
            "overflow_x": null,
            "overflow_y": null,
            "padding": null,
            "right": null,
            "top": null,
            "visibility": null,
            "width": null
          }
        },
        "a03c99dca2f24a5b8664896b6d120b11": {
          "model_module": "@jupyter-widgets/controls",
          "model_name": "DescriptionStyleModel",
          "model_module_version": "1.5.0",
          "state": {
            "_model_module": "@jupyter-widgets/controls",
            "_model_module_version": "1.5.0",
            "_model_name": "DescriptionStyleModel",
            "_view_count": null,
            "_view_module": "@jupyter-widgets/base",
            "_view_module_version": "1.2.0",
            "_view_name": "StyleView",
            "description_width": ""
          }
        },
        "4933a76d911344088fb6bd7882653a3e": {
          "model_module": "@jupyter-widgets/controls",
          "model_name": "HBoxModel",
          "model_module_version": "1.5.0",
          "state": {
            "_dom_classes": [],
            "_model_module": "@jupyter-widgets/controls",
            "_model_module_version": "1.5.0",
            "_model_name": "HBoxModel",
            "_view_count": null,
            "_view_module": "@jupyter-widgets/controls",
            "_view_module_version": "1.5.0",
            "_view_name": "HBoxView",
            "box_style": "",
            "children": [
              "IPY_MODEL_3d46930cf24b42afa02680ceaca108ca",
              "IPY_MODEL_9655c89c56ab43ec90aa8f347629e3ea",
              "IPY_MODEL_9d86ddaada044489b915bc427270aba1"
            ],
            "layout": "IPY_MODEL_5795056764d84ffe8e7eacb07dc527d6"
          }
        },
        "3d46930cf24b42afa02680ceaca108ca": {
          "model_module": "@jupyter-widgets/controls",
          "model_name": "HTMLModel",
          "model_module_version": "1.5.0",
          "state": {
            "_dom_classes": [],
            "_model_module": "@jupyter-widgets/controls",
            "_model_module_version": "1.5.0",
            "_model_name": "HTMLModel",
            "_view_count": null,
            "_view_module": "@jupyter-widgets/controls",
            "_view_module_version": "1.5.0",
            "_view_name": "HTMLView",
            "description": "",
            "description_tooltip": null,
            "layout": "IPY_MODEL_6e6c3e84ff954442a93ad81524e0dcae",
            "placeholder": "​",
            "style": "IPY_MODEL_11bf0f887a6b430b98cec8766d938250",
            "value": "Render HTML: 100%"
          }
        },
        "9655c89c56ab43ec90aa8f347629e3ea": {
          "model_module": "@jupyter-widgets/controls",
          "model_name": "FloatProgressModel",
          "model_module_version": "1.5.0",
          "state": {
            "_dom_classes": [],
            "_model_module": "@jupyter-widgets/controls",
            "_model_module_version": "1.5.0",
            "_model_name": "FloatProgressModel",
            "_view_count": null,
            "_view_module": "@jupyter-widgets/controls",
            "_view_module_version": "1.5.0",
            "_view_name": "ProgressView",
            "bar_style": "success",
            "description": "",
            "description_tooltip": null,
            "layout": "IPY_MODEL_90f6d422929742b2b77393437716f2df",
            "max": 1,
            "min": 0,
            "orientation": "horizontal",
            "style": "IPY_MODEL_7c8e33a5afff40da89cc1dfc1760fa47",
            "value": 1
          }
        },
        "9d86ddaada044489b915bc427270aba1": {
          "model_module": "@jupyter-widgets/controls",
          "model_name": "HTMLModel",
          "model_module_version": "1.5.0",
          "state": {
            "_dom_classes": [],
            "_model_module": "@jupyter-widgets/controls",
            "_model_module_version": "1.5.0",
            "_model_name": "HTMLModel",
            "_view_count": null,
            "_view_module": "@jupyter-widgets/controls",
            "_view_module_version": "1.5.0",
            "_view_name": "HTMLView",
            "description": "",
            "description_tooltip": null,
            "layout": "IPY_MODEL_4e3a2d065c78453f924bd3b25fd0aa46",
            "placeholder": "​",
            "style": "IPY_MODEL_f446cd1dc96a4d33b56ebfa831a9e88d",
            "value": " 1/1 [00:00&lt;00:00,  1.61it/s]"
          }
        },
        "5795056764d84ffe8e7eacb07dc527d6": {
          "model_module": "@jupyter-widgets/base",
          "model_name": "LayoutModel",
          "model_module_version": "1.2.0",
          "state": {
            "_model_module": "@jupyter-widgets/base",
            "_model_module_version": "1.2.0",
            "_model_name": "LayoutModel",
            "_view_count": null,
            "_view_module": "@jupyter-widgets/base",
            "_view_module_version": "1.2.0",
            "_view_name": "LayoutView",
            "align_content": null,
            "align_items": null,
            "align_self": null,
            "border": null,
            "bottom": null,
            "display": null,
            "flex": null,
            "flex_flow": null,
            "grid_area": null,
            "grid_auto_columns": null,
            "grid_auto_flow": null,
            "grid_auto_rows": null,
            "grid_column": null,
            "grid_gap": null,
            "grid_row": null,
            "grid_template_areas": null,
            "grid_template_columns": null,
            "grid_template_rows": null,
            "height": null,
            "justify_content": null,
            "justify_items": null,
            "left": null,
            "margin": null,
            "max_height": null,
            "max_width": null,
            "min_height": null,
            "min_width": null,
            "object_fit": null,
            "object_position": null,
            "order": null,
            "overflow": null,
            "overflow_x": null,
            "overflow_y": null,
            "padding": null,
            "right": null,
            "top": null,
            "visibility": null,
            "width": null
          }
        },
        "6e6c3e84ff954442a93ad81524e0dcae": {
          "model_module": "@jupyter-widgets/base",
          "model_name": "LayoutModel",
          "model_module_version": "1.2.0",
          "state": {
            "_model_module": "@jupyter-widgets/base",
            "_model_module_version": "1.2.0",
            "_model_name": "LayoutModel",
            "_view_count": null,
            "_view_module": "@jupyter-widgets/base",
            "_view_module_version": "1.2.0",
            "_view_name": "LayoutView",
            "align_content": null,
            "align_items": null,
            "align_self": null,
            "border": null,
            "bottom": null,
            "display": null,
            "flex": null,
            "flex_flow": null,
            "grid_area": null,
            "grid_auto_columns": null,
            "grid_auto_flow": null,
            "grid_auto_rows": null,
            "grid_column": null,
            "grid_gap": null,
            "grid_row": null,
            "grid_template_areas": null,
            "grid_template_columns": null,
            "grid_template_rows": null,
            "height": null,
            "justify_content": null,
            "justify_items": null,
            "left": null,
            "margin": null,
            "max_height": null,
            "max_width": null,
            "min_height": null,
            "min_width": null,
            "object_fit": null,
            "object_position": null,
            "order": null,
            "overflow": null,
            "overflow_x": null,
            "overflow_y": null,
            "padding": null,
            "right": null,
            "top": null,
            "visibility": null,
            "width": null
          }
        },
        "11bf0f887a6b430b98cec8766d938250": {
          "model_module": "@jupyter-widgets/controls",
          "model_name": "DescriptionStyleModel",
          "model_module_version": "1.5.0",
          "state": {
            "_model_module": "@jupyter-widgets/controls",
            "_model_module_version": "1.5.0",
            "_model_name": "DescriptionStyleModel",
            "_view_count": null,
            "_view_module": "@jupyter-widgets/base",
            "_view_module_version": "1.2.0",
            "_view_name": "StyleView",
            "description_width": ""
          }
        },
        "90f6d422929742b2b77393437716f2df": {
          "model_module": "@jupyter-widgets/base",
          "model_name": "LayoutModel",
          "model_module_version": "1.2.0",
          "state": {
            "_model_module": "@jupyter-widgets/base",
            "_model_module_version": "1.2.0",
            "_model_name": "LayoutModel",
            "_view_count": null,
            "_view_module": "@jupyter-widgets/base",
            "_view_module_version": "1.2.0",
            "_view_name": "LayoutView",
            "align_content": null,
            "align_items": null,
            "align_self": null,
            "border": null,
            "bottom": null,
            "display": null,
            "flex": null,
            "flex_flow": null,
            "grid_area": null,
            "grid_auto_columns": null,
            "grid_auto_flow": null,
            "grid_auto_rows": null,
            "grid_column": null,
            "grid_gap": null,
            "grid_row": null,
            "grid_template_areas": null,
            "grid_template_columns": null,
            "grid_template_rows": null,
            "height": null,
            "justify_content": null,
            "justify_items": null,
            "left": null,
            "margin": null,
            "max_height": null,
            "max_width": null,
            "min_height": null,
            "min_width": null,
            "object_fit": null,
            "object_position": null,
            "order": null,
            "overflow": null,
            "overflow_x": null,
            "overflow_y": null,
            "padding": null,
            "right": null,
            "top": null,
            "visibility": null,
            "width": null
          }
        },
        "7c8e33a5afff40da89cc1dfc1760fa47": {
          "model_module": "@jupyter-widgets/controls",
          "model_name": "ProgressStyleModel",
          "model_module_version": "1.5.0",
          "state": {
            "_model_module": "@jupyter-widgets/controls",
            "_model_module_version": "1.5.0",
            "_model_name": "ProgressStyleModel",
            "_view_count": null,
            "_view_module": "@jupyter-widgets/base",
            "_view_module_version": "1.2.0",
            "_view_name": "StyleView",
            "bar_color": null,
            "description_width": ""
          }
        },
        "4e3a2d065c78453f924bd3b25fd0aa46": {
          "model_module": "@jupyter-widgets/base",
          "model_name": "LayoutModel",
          "model_module_version": "1.2.0",
          "state": {
            "_model_module": "@jupyter-widgets/base",
            "_model_module_version": "1.2.0",
            "_model_name": "LayoutModel",
            "_view_count": null,
            "_view_module": "@jupyter-widgets/base",
            "_view_module_version": "1.2.0",
            "_view_name": "LayoutView",
            "align_content": null,
            "align_items": null,
            "align_self": null,
            "border": null,
            "bottom": null,
            "display": null,
            "flex": null,
            "flex_flow": null,
            "grid_area": null,
            "grid_auto_columns": null,
            "grid_auto_flow": null,
            "grid_auto_rows": null,
            "grid_column": null,
            "grid_gap": null,
            "grid_row": null,
            "grid_template_areas": null,
            "grid_template_columns": null,
            "grid_template_rows": null,
            "height": null,
            "justify_content": null,
            "justify_items": null,
            "left": null,
            "margin": null,
            "max_height": null,
            "max_width": null,
            "min_height": null,
            "min_width": null,
            "object_fit": null,
            "object_position": null,
            "order": null,
            "overflow": null,
            "overflow_x": null,
            "overflow_y": null,
            "padding": null,
            "right": null,
            "top": null,
            "visibility": null,
            "width": null
          }
        },
        "f446cd1dc96a4d33b56ebfa831a9e88d": {
          "model_module": "@jupyter-widgets/controls",
          "model_name": "DescriptionStyleModel",
          "model_module_version": "1.5.0",
          "state": {
            "_model_module": "@jupyter-widgets/controls",
            "_model_module_version": "1.5.0",
            "_model_name": "DescriptionStyleModel",
            "_view_count": null,
            "_view_module": "@jupyter-widgets/base",
            "_view_module_version": "1.2.0",
            "_view_name": "StyleView",
            "description_width": ""
          }
        },
        "5c7a6cba6f8c496fa0c87d25ec446a3a": {
          "model_module": "@jupyter-widgets/controls",
          "model_name": "HBoxModel",
          "model_module_version": "1.5.0",
          "state": {
            "_dom_classes": [],
            "_model_module": "@jupyter-widgets/controls",
            "_model_module_version": "1.5.0",
            "_model_name": "HBoxModel",
            "_view_count": null,
            "_view_module": "@jupyter-widgets/controls",
            "_view_module_version": "1.5.0",
            "_view_name": "HBoxView",
            "box_style": "",
            "children": [
              "IPY_MODEL_16f6edf976bc4369821a02e7894b9704",
              "IPY_MODEL_92a59173bbf14f0994a5c7a547009991",
              "IPY_MODEL_c5c6324f68a54de2bafe863a4e8f491d"
            ],
            "layout": "IPY_MODEL_f1a702ade9e849a7b445af23ffd3585c"
          }
        },
        "16f6edf976bc4369821a02e7894b9704": {
          "model_module": "@jupyter-widgets/controls",
          "model_name": "HTMLModel",
          "model_module_version": "1.5.0",
          "state": {
            "_dom_classes": [],
            "_model_module": "@jupyter-widgets/controls",
            "_model_module_version": "1.5.0",
            "_model_name": "HTMLModel",
            "_view_count": null,
            "_view_module": "@jupyter-widgets/controls",
            "_view_module_version": "1.5.0",
            "_view_name": "HTMLView",
            "description": "",
            "description_tooltip": null,
            "layout": "IPY_MODEL_a17b529b45d14b17b0220539374c2e41",
            "placeholder": "​",
            "style": "IPY_MODEL_9bc7113a7eda4aec8c0f4585c5b83a55",
            "value": "Export report to file: 100%"
          }
        },
        "92a59173bbf14f0994a5c7a547009991": {
          "model_module": "@jupyter-widgets/controls",
          "model_name": "FloatProgressModel",
          "model_module_version": "1.5.0",
          "state": {
            "_dom_classes": [],
            "_model_module": "@jupyter-widgets/controls",
            "_model_module_version": "1.5.0",
            "_model_name": "FloatProgressModel",
            "_view_count": null,
            "_view_module": "@jupyter-widgets/controls",
            "_view_module_version": "1.5.0",
            "_view_name": "ProgressView",
            "bar_style": "success",
            "description": "",
            "description_tooltip": null,
            "layout": "IPY_MODEL_0576db461cd1484d9ff5387d9e35f5f0",
            "max": 1,
            "min": 0,
            "orientation": "horizontal",
            "style": "IPY_MODEL_c5da68499b0044fc8c16c44a48e90c4a",
            "value": 1
          }
        },
        "c5c6324f68a54de2bafe863a4e8f491d": {
          "model_module": "@jupyter-widgets/controls",
          "model_name": "HTMLModel",
          "model_module_version": "1.5.0",
          "state": {
            "_dom_classes": [],
            "_model_module": "@jupyter-widgets/controls",
            "_model_module_version": "1.5.0",
            "_model_name": "HTMLModel",
            "_view_count": null,
            "_view_module": "@jupyter-widgets/controls",
            "_view_module_version": "1.5.0",
            "_view_name": "HTMLView",
            "description": "",
            "description_tooltip": null,
            "layout": "IPY_MODEL_45bbfeefeb704f92b41c3a7c917c639b",
            "placeholder": "​",
            "style": "IPY_MODEL_d870dc923f454ce5a0bd57c3a63db01f",
            "value": " 1/1 [00:00&lt;00:00, 38.90it/s]"
          }
        },
        "f1a702ade9e849a7b445af23ffd3585c": {
          "model_module": "@jupyter-widgets/base",
          "model_name": "LayoutModel",
          "model_module_version": "1.2.0",
          "state": {
            "_model_module": "@jupyter-widgets/base",
            "_model_module_version": "1.2.0",
            "_model_name": "LayoutModel",
            "_view_count": null,
            "_view_module": "@jupyter-widgets/base",
            "_view_module_version": "1.2.0",
            "_view_name": "LayoutView",
            "align_content": null,
            "align_items": null,
            "align_self": null,
            "border": null,
            "bottom": null,
            "display": null,
            "flex": null,
            "flex_flow": null,
            "grid_area": null,
            "grid_auto_columns": null,
            "grid_auto_flow": null,
            "grid_auto_rows": null,
            "grid_column": null,
            "grid_gap": null,
            "grid_row": null,
            "grid_template_areas": null,
            "grid_template_columns": null,
            "grid_template_rows": null,
            "height": null,
            "justify_content": null,
            "justify_items": null,
            "left": null,
            "margin": null,
            "max_height": null,
            "max_width": null,
            "min_height": null,
            "min_width": null,
            "object_fit": null,
            "object_position": null,
            "order": null,
            "overflow": null,
            "overflow_x": null,
            "overflow_y": null,
            "padding": null,
            "right": null,
            "top": null,
            "visibility": null,
            "width": null
          }
        },
        "a17b529b45d14b17b0220539374c2e41": {
          "model_module": "@jupyter-widgets/base",
          "model_name": "LayoutModel",
          "model_module_version": "1.2.0",
          "state": {
            "_model_module": "@jupyter-widgets/base",
            "_model_module_version": "1.2.0",
            "_model_name": "LayoutModel",
            "_view_count": null,
            "_view_module": "@jupyter-widgets/base",
            "_view_module_version": "1.2.0",
            "_view_name": "LayoutView",
            "align_content": null,
            "align_items": null,
            "align_self": null,
            "border": null,
            "bottom": null,
            "display": null,
            "flex": null,
            "flex_flow": null,
            "grid_area": null,
            "grid_auto_columns": null,
            "grid_auto_flow": null,
            "grid_auto_rows": null,
            "grid_column": null,
            "grid_gap": null,
            "grid_row": null,
            "grid_template_areas": null,
            "grid_template_columns": null,
            "grid_template_rows": null,
            "height": null,
            "justify_content": null,
            "justify_items": null,
            "left": null,
            "margin": null,
            "max_height": null,
            "max_width": null,
            "min_height": null,
            "min_width": null,
            "object_fit": null,
            "object_position": null,
            "order": null,
            "overflow": null,
            "overflow_x": null,
            "overflow_y": null,
            "padding": null,
            "right": null,
            "top": null,
            "visibility": null,
            "width": null
          }
        },
        "9bc7113a7eda4aec8c0f4585c5b83a55": {
          "model_module": "@jupyter-widgets/controls",
          "model_name": "DescriptionStyleModel",
          "model_module_version": "1.5.0",
          "state": {
            "_model_module": "@jupyter-widgets/controls",
            "_model_module_version": "1.5.0",
            "_model_name": "DescriptionStyleModel",
            "_view_count": null,
            "_view_module": "@jupyter-widgets/base",
            "_view_module_version": "1.2.0",
            "_view_name": "StyleView",
            "description_width": ""
          }
        },
        "0576db461cd1484d9ff5387d9e35f5f0": {
          "model_module": "@jupyter-widgets/base",
          "model_name": "LayoutModel",
          "model_module_version": "1.2.0",
          "state": {
            "_model_module": "@jupyter-widgets/base",
            "_model_module_version": "1.2.0",
            "_model_name": "LayoutModel",
            "_view_count": null,
            "_view_module": "@jupyter-widgets/base",
            "_view_module_version": "1.2.0",
            "_view_name": "LayoutView",
            "align_content": null,
            "align_items": null,
            "align_self": null,
            "border": null,
            "bottom": null,
            "display": null,
            "flex": null,
            "flex_flow": null,
            "grid_area": null,
            "grid_auto_columns": null,
            "grid_auto_flow": null,
            "grid_auto_rows": null,
            "grid_column": null,
            "grid_gap": null,
            "grid_row": null,
            "grid_template_areas": null,
            "grid_template_columns": null,
            "grid_template_rows": null,
            "height": null,
            "justify_content": null,
            "justify_items": null,
            "left": null,
            "margin": null,
            "max_height": null,
            "max_width": null,
            "min_height": null,
            "min_width": null,
            "object_fit": null,
            "object_position": null,
            "order": null,
            "overflow": null,
            "overflow_x": null,
            "overflow_y": null,
            "padding": null,
            "right": null,
            "top": null,
            "visibility": null,
            "width": null
          }
        },
        "c5da68499b0044fc8c16c44a48e90c4a": {
          "model_module": "@jupyter-widgets/controls",
          "model_name": "ProgressStyleModel",
          "model_module_version": "1.5.0",
          "state": {
            "_model_module": "@jupyter-widgets/controls",
            "_model_module_version": "1.5.0",
            "_model_name": "ProgressStyleModel",
            "_view_count": null,
            "_view_module": "@jupyter-widgets/base",
            "_view_module_version": "1.2.0",
            "_view_name": "StyleView",
            "bar_color": null,
            "description_width": ""
          }
        },
        "45bbfeefeb704f92b41c3a7c917c639b": {
          "model_module": "@jupyter-widgets/base",
          "model_name": "LayoutModel",
          "model_module_version": "1.2.0",
          "state": {
            "_model_module": "@jupyter-widgets/base",
            "_model_module_version": "1.2.0",
            "_model_name": "LayoutModel",
            "_view_count": null,
            "_view_module": "@jupyter-widgets/base",
            "_view_module_version": "1.2.0",
            "_view_name": "LayoutView",
            "align_content": null,
            "align_items": null,
            "align_self": null,
            "border": null,
            "bottom": null,
            "display": null,
            "flex": null,
            "flex_flow": null,
            "grid_area": null,
            "grid_auto_columns": null,
            "grid_auto_flow": null,
            "grid_auto_rows": null,
            "grid_column": null,
            "grid_gap": null,
            "grid_row": null,
            "grid_template_areas": null,
            "grid_template_columns": null,
            "grid_template_rows": null,
            "height": null,
            "justify_content": null,
            "justify_items": null,
            "left": null,
            "margin": null,
            "max_height": null,
            "max_width": null,
            "min_height": null,
            "min_width": null,
            "object_fit": null,
            "object_position": null,
            "order": null,
            "overflow": null,
            "overflow_x": null,
            "overflow_y": null,
            "padding": null,
            "right": null,
            "top": null,
            "visibility": null,
            "width": null
          }
        },
        "d870dc923f454ce5a0bd57c3a63db01f": {
          "model_module": "@jupyter-widgets/controls",
          "model_name": "DescriptionStyleModel",
          "model_module_version": "1.5.0",
          "state": {
            "_model_module": "@jupyter-widgets/controls",
            "_model_module_version": "1.5.0",
            "_model_name": "DescriptionStyleModel",
            "_view_count": null,
            "_view_module": "@jupyter-widgets/base",
            "_view_module_version": "1.2.0",
            "_view_name": "StyleView",
            "description_width": ""
          }
        }
      }
    }
  },
  "cells": [
    {
      "cell_type": "markdown",
      "metadata": {
        "id": "view-in-github",
        "colab_type": "text"
      },
      "source": [
        "<a href=\"https://colab.research.google.com/github/chebbin/datasci_3_eda/blob/main/hha507hw3.ipynb\" target=\"_parent\"><img src=\"https://colab.research.google.com/assets/colab-badge.svg\" alt=\"Open In Colab\"/></a>"
      ]
    },
    {
      "cell_type": "code",
      "source": [
        "import pandas as pd\n",
        "import re\n",
        "import numpy as np\n",
        "import matplotlib.pyplot as plt\n",
        "from scipy.stats import skew, kurtosis, shapiro\n",
        "import seaborn as sns\n",
        "\n",
        "\n"
      ],
      "metadata": {
        "id": "fsLDpCQxNL9i"
      },
      "execution_count": 84,
      "outputs": []
    },
    {
      "cell_type": "markdown",
      "source": [
        "# Load in data"
      ],
      "metadata": {
        "id": "t__pCYCpZi8N"
      }
    },
    {
      "cell_type": "code",
      "source": [
        "df_lab = pd.read_csv('https://raw.githubusercontent.com/hantswilliams/HHA_507_2023/main/WK3/data/trinetx/lab_result.csv')\n",
        "df_lab.sample(20)\n"
      ],
      "metadata": {
        "colab": {
          "base_uri": "https://localhost:8080/",
          "height": 940
        },
        "id": "6VT01i9mSUaO",
        "outputId": "07830daf-2cb7-421c-d34c-91e4ca5d0b16"
      },
      "execution_count": 2,
      "outputs": [
        {
          "output_type": "execute_result",
          "data": {
            "text/plain": [
              "       patient_id encounter_id code_system     code      date  \\\n",
              "135174        Bgu        EAvJB       LOINC  59457-2  20150325   \n",
              "88231         BAK         EANu       LOINC  59458-0  20141006   \n",
              "170840        BA5        EwrSB       LOINC   9598-4  20220106   \n",
              "159233        BA2        EQ0NB       LOINC  76536-2  20200402   \n",
              "179702        BQ7        EA3TB       LOINC  76214-6  20131219   \n",
              "258804       BwpB        EgFzB       LOINC  89280-2  20170905   \n",
              "301401       BgeC        EAqNC       LOINC  59459-8  20181028   \n",
              "14654        BwCD         EA#I       LOINC   5802-4  20220323   \n",
              "152740        Bwx        EwtLB       LOINC    788-0  20100128   \n",
              "134665        BQu        EQUJB       LOINC  76536-2  20191013   \n",
              "336915       BQzC        EAKgC       LOINC  76536-2  20220417   \n",
              "206281       BgQB        EQcjB       LOINC  44250-9  20210209   \n",
              "76355        BA0D         Ewsk       LOINC  94500-6  20220721   \n",
              "303765       BgeC        EAqNC       LOINC  89280-2  20181025   \n",
              "101919        BAW         EgH3       LOINC  76536-2  20180123   \n",
              "152625        Bwx        EgsLB       LOINC    788-0  20080904   \n",
              "136803        BQv        EA4JB       LOINC  76536-2  20211221   \n",
              "263223       BwsB        Ewg3B       LOINC   5767-9  20080707   \n",
              "176539        BQ7        EA3TB       LOINC  33256-9  20131216   \n",
              "183885        BA9        EgVVB       LOINC   3151-8  20180320   \n",
              "\n",
              "        lab_result_num_val lab_result_text_val units_of_measure  \\\n",
              "135174                 NaN                 NaN            units   \n",
              "88231                  NaN                 NaN            units   \n",
              "170840                 NaN            Negative          boolean   \n",
              "159233                79.0                 NaN            units   \n",
              "179702                74.0                 NaN            units   \n",
              "258804               128.0                 NaN           mm[Hg]   \n",
              "301401                 NaN                 NaN            units   \n",
              "14654                  NaN            Negative          boolean   \n",
              "152740                13.5                 NaN                %   \n",
              "134665                84.0                 NaN            units   \n",
              "336915                79.0                 NaN            units   \n",
              "206281                 NaN                 NaN            units   \n",
              "76355                  NaN            Negative          boolean   \n",
              "303765               136.0                 NaN           mm[Hg]   \n",
              "101919                50.0                 NaN            units   \n",
              "152625                15.9                 NaN                %   \n",
              "136803                72.0                 NaN            units   \n",
              "263223                 NaN                 NaN            units   \n",
              "176539                24.1                 NaN          10*3/uL   \n",
              "183885                 2.0                 NaN            L/min   \n",
              "\n",
              "       derived_by_TriNetX source_id  \n",
              "135174                  F       EHR  \n",
              "88231                   F       EHR  \n",
              "170840                  F       EHR  \n",
              "159233                  F       EHR  \n",
              "179702                  F       EHR  \n",
              "258804                  F       EHR  \n",
              "301401                  F       EHR  \n",
              "14654                   F       EHR  \n",
              "152740                  F       EHR  \n",
              "134665                  F       EHR  \n",
              "336915                  F       EHR  \n",
              "206281                  F       EHR  \n",
              "76355                   F       EHR  \n",
              "303765                  F       EHR  \n",
              "101919                  F       EHR  \n",
              "152625                  F       EHR  \n",
              "136803                  F       EHR  \n",
              "263223                  F       EHR  \n",
              "176539                  F       EHR  \n",
              "183885                  F       EHR  "
            ],
            "text/html": [
              "\n",
              "  <div id=\"df-6ed818f9-d12c-4f6f-aa87-d153ed7e8e4d\" class=\"colab-df-container\">\n",
              "    <div>\n",
              "<style scoped>\n",
              "    .dataframe tbody tr th:only-of-type {\n",
              "        vertical-align: middle;\n",
              "    }\n",
              "\n",
              "    .dataframe tbody tr th {\n",
              "        vertical-align: top;\n",
              "    }\n",
              "\n",
              "    .dataframe thead th {\n",
              "        text-align: right;\n",
              "    }\n",
              "</style>\n",
              "<table border=\"1\" class=\"dataframe\">\n",
              "  <thead>\n",
              "    <tr style=\"text-align: right;\">\n",
              "      <th></th>\n",
              "      <th>patient_id</th>\n",
              "      <th>encounter_id</th>\n",
              "      <th>code_system</th>\n",
              "      <th>code</th>\n",
              "      <th>date</th>\n",
              "      <th>lab_result_num_val</th>\n",
              "      <th>lab_result_text_val</th>\n",
              "      <th>units_of_measure</th>\n",
              "      <th>derived_by_TriNetX</th>\n",
              "      <th>source_id</th>\n",
              "    </tr>\n",
              "  </thead>\n",
              "  <tbody>\n",
              "    <tr>\n",
              "      <th>135174</th>\n",
              "      <td>Bgu</td>\n",
              "      <td>EAvJB</td>\n",
              "      <td>LOINC</td>\n",
              "      <td>59457-2</td>\n",
              "      <td>20150325</td>\n",
              "      <td>NaN</td>\n",
              "      <td>NaN</td>\n",
              "      <td>units</td>\n",
              "      <td>F</td>\n",
              "      <td>EHR</td>\n",
              "    </tr>\n",
              "    <tr>\n",
              "      <th>88231</th>\n",
              "      <td>BAK</td>\n",
              "      <td>EANu</td>\n",
              "      <td>LOINC</td>\n",
              "      <td>59458-0</td>\n",
              "      <td>20141006</td>\n",
              "      <td>NaN</td>\n",
              "      <td>NaN</td>\n",
              "      <td>units</td>\n",
              "      <td>F</td>\n",
              "      <td>EHR</td>\n",
              "    </tr>\n",
              "    <tr>\n",
              "      <th>170840</th>\n",
              "      <td>BA5</td>\n",
              "      <td>EwrSB</td>\n",
              "      <td>LOINC</td>\n",
              "      <td>9598-4</td>\n",
              "      <td>20220106</td>\n",
              "      <td>NaN</td>\n",
              "      <td>Negative</td>\n",
              "      <td>boolean</td>\n",
              "      <td>F</td>\n",
              "      <td>EHR</td>\n",
              "    </tr>\n",
              "    <tr>\n",
              "      <th>159233</th>\n",
              "      <td>BA2</td>\n",
              "      <td>EQ0NB</td>\n",
              "      <td>LOINC</td>\n",
              "      <td>76536-2</td>\n",
              "      <td>20200402</td>\n",
              "      <td>79.0</td>\n",
              "      <td>NaN</td>\n",
              "      <td>units</td>\n",
              "      <td>F</td>\n",
              "      <td>EHR</td>\n",
              "    </tr>\n",
              "    <tr>\n",
              "      <th>179702</th>\n",
              "      <td>BQ7</td>\n",
              "      <td>EA3TB</td>\n",
              "      <td>LOINC</td>\n",
              "      <td>76214-6</td>\n",
              "      <td>20131219</td>\n",
              "      <td>74.0</td>\n",
              "      <td>NaN</td>\n",
              "      <td>units</td>\n",
              "      <td>F</td>\n",
              "      <td>EHR</td>\n",
              "    </tr>\n",
              "    <tr>\n",
              "      <th>258804</th>\n",
              "      <td>BwpB</td>\n",
              "      <td>EgFzB</td>\n",
              "      <td>LOINC</td>\n",
              "      <td>89280-2</td>\n",
              "      <td>20170905</td>\n",
              "      <td>128.0</td>\n",
              "      <td>NaN</td>\n",
              "      <td>mm[Hg]</td>\n",
              "      <td>F</td>\n",
              "      <td>EHR</td>\n",
              "    </tr>\n",
              "    <tr>\n",
              "      <th>301401</th>\n",
              "      <td>BgeC</td>\n",
              "      <td>EAqNC</td>\n",
              "      <td>LOINC</td>\n",
              "      <td>59459-8</td>\n",
              "      <td>20181028</td>\n",
              "      <td>NaN</td>\n",
              "      <td>NaN</td>\n",
              "      <td>units</td>\n",
              "      <td>F</td>\n",
              "      <td>EHR</td>\n",
              "    </tr>\n",
              "    <tr>\n",
              "      <th>14654</th>\n",
              "      <td>BwCD</td>\n",
              "      <td>EA#I</td>\n",
              "      <td>LOINC</td>\n",
              "      <td>5802-4</td>\n",
              "      <td>20220323</td>\n",
              "      <td>NaN</td>\n",
              "      <td>Negative</td>\n",
              "      <td>boolean</td>\n",
              "      <td>F</td>\n",
              "      <td>EHR</td>\n",
              "    </tr>\n",
              "    <tr>\n",
              "      <th>152740</th>\n",
              "      <td>Bwx</td>\n",
              "      <td>EwtLB</td>\n",
              "      <td>LOINC</td>\n",
              "      <td>788-0</td>\n",
              "      <td>20100128</td>\n",
              "      <td>13.5</td>\n",
              "      <td>NaN</td>\n",
              "      <td>%</td>\n",
              "      <td>F</td>\n",
              "      <td>EHR</td>\n",
              "    </tr>\n",
              "    <tr>\n",
              "      <th>134665</th>\n",
              "      <td>BQu</td>\n",
              "      <td>EQUJB</td>\n",
              "      <td>LOINC</td>\n",
              "      <td>76536-2</td>\n",
              "      <td>20191013</td>\n",
              "      <td>84.0</td>\n",
              "      <td>NaN</td>\n",
              "      <td>units</td>\n",
              "      <td>F</td>\n",
              "      <td>EHR</td>\n",
              "    </tr>\n",
              "    <tr>\n",
              "      <th>336915</th>\n",
              "      <td>BQzC</td>\n",
              "      <td>EAKgC</td>\n",
              "      <td>LOINC</td>\n",
              "      <td>76536-2</td>\n",
              "      <td>20220417</td>\n",
              "      <td>79.0</td>\n",
              "      <td>NaN</td>\n",
              "      <td>units</td>\n",
              "      <td>F</td>\n",
              "      <td>EHR</td>\n",
              "    </tr>\n",
              "    <tr>\n",
              "      <th>206281</th>\n",
              "      <td>BgQB</td>\n",
              "      <td>EQcjB</td>\n",
              "      <td>LOINC</td>\n",
              "      <td>44250-9</td>\n",
              "      <td>20210209</td>\n",
              "      <td>NaN</td>\n",
              "      <td>NaN</td>\n",
              "      <td>units</td>\n",
              "      <td>F</td>\n",
              "      <td>EHR</td>\n",
              "    </tr>\n",
              "    <tr>\n",
              "      <th>76355</th>\n",
              "      <td>BA0D</td>\n",
              "      <td>Ewsk</td>\n",
              "      <td>LOINC</td>\n",
              "      <td>94500-6</td>\n",
              "      <td>20220721</td>\n",
              "      <td>NaN</td>\n",
              "      <td>Negative</td>\n",
              "      <td>boolean</td>\n",
              "      <td>F</td>\n",
              "      <td>EHR</td>\n",
              "    </tr>\n",
              "    <tr>\n",
              "      <th>303765</th>\n",
              "      <td>BgeC</td>\n",
              "      <td>EAqNC</td>\n",
              "      <td>LOINC</td>\n",
              "      <td>89280-2</td>\n",
              "      <td>20181025</td>\n",
              "      <td>136.0</td>\n",
              "      <td>NaN</td>\n",
              "      <td>mm[Hg]</td>\n",
              "      <td>F</td>\n",
              "      <td>EHR</td>\n",
              "    </tr>\n",
              "    <tr>\n",
              "      <th>101919</th>\n",
              "      <td>BAW</td>\n",
              "      <td>EgH3</td>\n",
              "      <td>LOINC</td>\n",
              "      <td>76536-2</td>\n",
              "      <td>20180123</td>\n",
              "      <td>50.0</td>\n",
              "      <td>NaN</td>\n",
              "      <td>units</td>\n",
              "      <td>F</td>\n",
              "      <td>EHR</td>\n",
              "    </tr>\n",
              "    <tr>\n",
              "      <th>152625</th>\n",
              "      <td>Bwx</td>\n",
              "      <td>EgsLB</td>\n",
              "      <td>LOINC</td>\n",
              "      <td>788-0</td>\n",
              "      <td>20080904</td>\n",
              "      <td>15.9</td>\n",
              "      <td>NaN</td>\n",
              "      <td>%</td>\n",
              "      <td>F</td>\n",
              "      <td>EHR</td>\n",
              "    </tr>\n",
              "    <tr>\n",
              "      <th>136803</th>\n",
              "      <td>BQv</td>\n",
              "      <td>EA4JB</td>\n",
              "      <td>LOINC</td>\n",
              "      <td>76536-2</td>\n",
              "      <td>20211221</td>\n",
              "      <td>72.0</td>\n",
              "      <td>NaN</td>\n",
              "      <td>units</td>\n",
              "      <td>F</td>\n",
              "      <td>EHR</td>\n",
              "    </tr>\n",
              "    <tr>\n",
              "      <th>263223</th>\n",
              "      <td>BwsB</td>\n",
              "      <td>Ewg3B</td>\n",
              "      <td>LOINC</td>\n",
              "      <td>5767-9</td>\n",
              "      <td>20080707</td>\n",
              "      <td>NaN</td>\n",
              "      <td>NaN</td>\n",
              "      <td>units</td>\n",
              "      <td>F</td>\n",
              "      <td>EHR</td>\n",
              "    </tr>\n",
              "    <tr>\n",
              "      <th>176539</th>\n",
              "      <td>BQ7</td>\n",
              "      <td>EA3TB</td>\n",
              "      <td>LOINC</td>\n",
              "      <td>33256-9</td>\n",
              "      <td>20131216</td>\n",
              "      <td>24.1</td>\n",
              "      <td>NaN</td>\n",
              "      <td>10*3/uL</td>\n",
              "      <td>F</td>\n",
              "      <td>EHR</td>\n",
              "    </tr>\n",
              "    <tr>\n",
              "      <th>183885</th>\n",
              "      <td>BA9</td>\n",
              "      <td>EgVVB</td>\n",
              "      <td>LOINC</td>\n",
              "      <td>3151-8</td>\n",
              "      <td>20180320</td>\n",
              "      <td>2.0</td>\n",
              "      <td>NaN</td>\n",
              "      <td>L/min</td>\n",
              "      <td>F</td>\n",
              "      <td>EHR</td>\n",
              "    </tr>\n",
              "  </tbody>\n",
              "</table>\n",
              "</div>\n",
              "    <div class=\"colab-df-buttons\">\n",
              "\n",
              "  <div class=\"colab-df-container\">\n",
              "    <button class=\"colab-df-convert\" onclick=\"convertToInteractive('df-6ed818f9-d12c-4f6f-aa87-d153ed7e8e4d')\"\n",
              "            title=\"Convert this dataframe to an interactive table.\"\n",
              "            style=\"display:none;\">\n",
              "\n",
              "  <svg xmlns=\"http://www.w3.org/2000/svg\" height=\"24px\" viewBox=\"0 -960 960 960\">\n",
              "    <path d=\"M120-120v-720h720v720H120Zm60-500h600v-160H180v160Zm220 220h160v-160H400v160Zm0 220h160v-160H400v160ZM180-400h160v-160H180v160Zm440 0h160v-160H620v160ZM180-180h160v-160H180v160Zm440 0h160v-160H620v160Z\"/>\n",
              "  </svg>\n",
              "    </button>\n",
              "\n",
              "  <style>\n",
              "    .colab-df-container {\n",
              "      display:flex;\n",
              "      gap: 12px;\n",
              "    }\n",
              "\n",
              "    .colab-df-convert {\n",
              "      background-color: #E8F0FE;\n",
              "      border: none;\n",
              "      border-radius: 50%;\n",
              "      cursor: pointer;\n",
              "      display: none;\n",
              "      fill: #1967D2;\n",
              "      height: 32px;\n",
              "      padding: 0 0 0 0;\n",
              "      width: 32px;\n",
              "    }\n",
              "\n",
              "    .colab-df-convert:hover {\n",
              "      background-color: #E2EBFA;\n",
              "      box-shadow: 0px 1px 2px rgba(60, 64, 67, 0.3), 0px 1px 3px 1px rgba(60, 64, 67, 0.15);\n",
              "      fill: #174EA6;\n",
              "    }\n",
              "\n",
              "    .colab-df-buttons div {\n",
              "      margin-bottom: 4px;\n",
              "    }\n",
              "\n",
              "    [theme=dark] .colab-df-convert {\n",
              "      background-color: #3B4455;\n",
              "      fill: #D2E3FC;\n",
              "    }\n",
              "\n",
              "    [theme=dark] .colab-df-convert:hover {\n",
              "      background-color: #434B5C;\n",
              "      box-shadow: 0px 1px 3px 1px rgba(0, 0, 0, 0.15);\n",
              "      filter: drop-shadow(0px 1px 2px rgba(0, 0, 0, 0.3));\n",
              "      fill: #FFFFFF;\n",
              "    }\n",
              "  </style>\n",
              "\n",
              "    <script>\n",
              "      const buttonEl =\n",
              "        document.querySelector('#df-6ed818f9-d12c-4f6f-aa87-d153ed7e8e4d button.colab-df-convert');\n",
              "      buttonEl.style.display =\n",
              "        google.colab.kernel.accessAllowed ? 'block' : 'none';\n",
              "\n",
              "      async function convertToInteractive(key) {\n",
              "        const element = document.querySelector('#df-6ed818f9-d12c-4f6f-aa87-d153ed7e8e4d');\n",
              "        const dataTable =\n",
              "          await google.colab.kernel.invokeFunction('convertToInteractive',\n",
              "                                                    [key], {});\n",
              "        if (!dataTable) return;\n",
              "\n",
              "        const docLinkHtml = 'Like what you see? Visit the ' +\n",
              "          '<a target=\"_blank\" href=https://colab.research.google.com/notebooks/data_table.ipynb>data table notebook</a>'\n",
              "          + ' to learn more about interactive tables.';\n",
              "        element.innerHTML = '';\n",
              "        dataTable['output_type'] = 'display_data';\n",
              "        await google.colab.output.renderOutput(dataTable, element);\n",
              "        const docLink = document.createElement('div');\n",
              "        docLink.innerHTML = docLinkHtml;\n",
              "        element.appendChild(docLink);\n",
              "      }\n",
              "    </script>\n",
              "  </div>\n",
              "\n",
              "\n",
              "<div id=\"df-4d96689e-d2b5-4533-a8de-232f3016ba09\">\n",
              "  <button class=\"colab-df-quickchart\" onclick=\"quickchart('df-4d96689e-d2b5-4533-a8de-232f3016ba09')\"\n",
              "            title=\"Suggest charts.\"\n",
              "            style=\"display:none;\">\n",
              "\n",
              "<svg xmlns=\"http://www.w3.org/2000/svg\" height=\"24px\"viewBox=\"0 0 24 24\"\n",
              "     width=\"24px\">\n",
              "    <g>\n",
              "        <path d=\"M19 3H5c-1.1 0-2 .9-2 2v14c0 1.1.9 2 2 2h14c1.1 0 2-.9 2-2V5c0-1.1-.9-2-2-2zM9 17H7v-7h2v7zm4 0h-2V7h2v10zm4 0h-2v-4h2v4z\"/>\n",
              "    </g>\n",
              "</svg>\n",
              "  </button>\n",
              "\n",
              "<style>\n",
              "  .colab-df-quickchart {\n",
              "      --bg-color: #E8F0FE;\n",
              "      --fill-color: #1967D2;\n",
              "      --hover-bg-color: #E2EBFA;\n",
              "      --hover-fill-color: #174EA6;\n",
              "      --disabled-fill-color: #AAA;\n",
              "      --disabled-bg-color: #DDD;\n",
              "  }\n",
              "\n",
              "  [theme=dark] .colab-df-quickchart {\n",
              "      --bg-color: #3B4455;\n",
              "      --fill-color: #D2E3FC;\n",
              "      --hover-bg-color: #434B5C;\n",
              "      --hover-fill-color: #FFFFFF;\n",
              "      --disabled-bg-color: #3B4455;\n",
              "      --disabled-fill-color: #666;\n",
              "  }\n",
              "\n",
              "  .colab-df-quickchart {\n",
              "    background-color: var(--bg-color);\n",
              "    border: none;\n",
              "    border-radius: 50%;\n",
              "    cursor: pointer;\n",
              "    display: none;\n",
              "    fill: var(--fill-color);\n",
              "    height: 32px;\n",
              "    padding: 0;\n",
              "    width: 32px;\n",
              "  }\n",
              "\n",
              "  .colab-df-quickchart:hover {\n",
              "    background-color: var(--hover-bg-color);\n",
              "    box-shadow: 0 1px 2px rgba(60, 64, 67, 0.3), 0 1px 3px 1px rgba(60, 64, 67, 0.15);\n",
              "    fill: var(--button-hover-fill-color);\n",
              "  }\n",
              "\n",
              "  .colab-df-quickchart-complete:disabled,\n",
              "  .colab-df-quickchart-complete:disabled:hover {\n",
              "    background-color: var(--disabled-bg-color);\n",
              "    fill: var(--disabled-fill-color);\n",
              "    box-shadow: none;\n",
              "  }\n",
              "\n",
              "  .colab-df-spinner {\n",
              "    border: 2px solid var(--fill-color);\n",
              "    border-color: transparent;\n",
              "    border-bottom-color: var(--fill-color);\n",
              "    animation:\n",
              "      spin 1s steps(1) infinite;\n",
              "  }\n",
              "\n",
              "  @keyframes spin {\n",
              "    0% {\n",
              "      border-color: transparent;\n",
              "      border-bottom-color: var(--fill-color);\n",
              "      border-left-color: var(--fill-color);\n",
              "    }\n",
              "    20% {\n",
              "      border-color: transparent;\n",
              "      border-left-color: var(--fill-color);\n",
              "      border-top-color: var(--fill-color);\n",
              "    }\n",
              "    30% {\n",
              "      border-color: transparent;\n",
              "      border-left-color: var(--fill-color);\n",
              "      border-top-color: var(--fill-color);\n",
              "      border-right-color: var(--fill-color);\n",
              "    }\n",
              "    40% {\n",
              "      border-color: transparent;\n",
              "      border-right-color: var(--fill-color);\n",
              "      border-top-color: var(--fill-color);\n",
              "    }\n",
              "    60% {\n",
              "      border-color: transparent;\n",
              "      border-right-color: var(--fill-color);\n",
              "    }\n",
              "    80% {\n",
              "      border-color: transparent;\n",
              "      border-right-color: var(--fill-color);\n",
              "      border-bottom-color: var(--fill-color);\n",
              "    }\n",
              "    90% {\n",
              "      border-color: transparent;\n",
              "      border-bottom-color: var(--fill-color);\n",
              "    }\n",
              "  }\n",
              "</style>\n",
              "\n",
              "  <script>\n",
              "    async function quickchart(key) {\n",
              "      const quickchartButtonEl =\n",
              "        document.querySelector('#' + key + ' button');\n",
              "      quickchartButtonEl.disabled = true;  // To prevent multiple clicks.\n",
              "      quickchartButtonEl.classList.add('colab-df-spinner');\n",
              "      try {\n",
              "        const charts = await google.colab.kernel.invokeFunction(\n",
              "            'suggestCharts', [key], {});\n",
              "      } catch (error) {\n",
              "        console.error('Error during call to suggestCharts:', error);\n",
              "      }\n",
              "      quickchartButtonEl.classList.remove('colab-df-spinner');\n",
              "      quickchartButtonEl.classList.add('colab-df-quickchart-complete');\n",
              "    }\n",
              "    (() => {\n",
              "      let quickchartButtonEl =\n",
              "        document.querySelector('#df-4d96689e-d2b5-4533-a8de-232f3016ba09 button');\n",
              "      quickchartButtonEl.style.display =\n",
              "        google.colab.kernel.accessAllowed ? 'block' : 'none';\n",
              "    })();\n",
              "  </script>\n",
              "</div>\n",
              "    </div>\n",
              "  </div>\n"
            ]
          },
          "metadata": {},
          "execution_count": 2
        }
      ]
    },
    {
      "cell_type": "code",
      "source": [
        "df_lab.shape\n"
      ],
      "metadata": {
        "colab": {
          "base_uri": "https://localhost:8080/"
        },
        "id": "crxaj9TvZ1-U",
        "outputId": "5c165a2f-d7d8-4aab-ceca-b158f807e53a"
      },
      "execution_count": 3,
      "outputs": [
        {
          "output_type": "execute_result",
          "data": {
            "text/plain": [
              "(338198, 10)"
            ]
          },
          "metadata": {},
          "execution_count": 3
        }
      ]
    },
    {
      "cell_type": "code",
      "source": [
        "df_lab.columns\n"
      ],
      "metadata": {
        "colab": {
          "base_uri": "https://localhost:8080/"
        },
        "id": "7rtAgJpgaWDw",
        "outputId": "7b86f9ff-9e15-487e-b6a9-694f8302ab7b"
      },
      "execution_count": 4,
      "outputs": [
        {
          "output_type": "execute_result",
          "data": {
            "text/plain": [
              "Index(['patient_id', 'encounter_id', 'code_system', 'code', 'date',\n",
              "       'lab_result_num_val', 'lab_result_text_val', 'units_of_measure',\n",
              "       'derived_by_TriNetX', 'source_id'],\n",
              "      dtype='object')"
            ]
          },
          "metadata": {},
          "execution_count": 4
        }
      ]
    },
    {
      "cell_type": "markdown",
      "source": [
        "# How many unique LOINC codes are in this dataset?"
      ],
      "metadata": {
        "id": "LY7OejE5hMYO"
      }
    },
    {
      "cell_type": "code",
      "source": [
        "df_lab['code'].nunique()"
      ],
      "metadata": {
        "colab": {
          "base_uri": "https://localhost:8080/"
        },
        "id": "U3ucj0SdhTUS",
        "outputId": "e303c0fe-6a7f-4136-a7e5-f573115de062"
      },
      "execution_count": 5,
      "outputs": [
        {
          "output_type": "execute_result",
          "data": {
            "text/plain": [
              "1590"
            ]
          },
          "metadata": {},
          "execution_count": 5
        }
      ]
    },
    {
      "cell_type": "markdown",
      "source": [
        "# Describe the values for each LOINC code"
      ],
      "metadata": {
        "id": "K8vsAYWpf3Qb"
      }
    },
    {
      "cell_type": "code",
      "source": [
        "df_lab.groupby('code')['lab_result_num_val'].describe()\n"
      ],
      "metadata": {
        "colab": {
          "base_uri": "https://localhost:8080/",
          "height": 455
        },
        "id": "X-8BLjebbLAC",
        "outputId": "f137e5bc-8091-4373-b5eb-c8e0e0b65534"
      },
      "execution_count": 6,
      "outputs": [
        {
          "output_type": "execute_result",
          "data": {
            "text/plain": [
              "           count        mean        std      min        25%       50%  \\\n",
              "code                                                                    \n",
              "1007-4       0.0         NaN        NaN      NaN        NaN       NaN   \n",
              "10230-1    181.0   57.690608  14.664521  10.0000   55.00000   60.0000   \n",
              "10334-1     18.0   60.966667  53.159460  13.0000   25.05000   38.6500   \n",
              "10362-2      0.0         NaN        NaN      NaN        NaN       NaN   \n",
              "10368-9      5.0    3.180000   0.164317   3.0000    3.00000    3.3000   \n",
              "...          ...         ...        ...      ...        ...       ...   \n",
              "LP64598-3   62.0   64.702705   3.736011  56.9999   62.05115   64.9802   \n",
              "LP65139-5  129.0  174.105202  49.050715  89.9993  136.68700  167.5510   \n",
              "LP65487-8  384.0   37.138802   4.335497  36.1000   36.60000   36.7000   \n",
              "LP72199-0  344.0   18.674419   5.183944   8.0000   16.00000   17.0000   \n",
              "LP72677-5  446.0   89.033632  22.385614  46.0000   73.00000   85.0000   \n",
              "\n",
              "                 75%       max  \n",
              "code                            \n",
              "1007-4           NaN       NaN  \n",
              "10230-1     66.00000   83.0000  \n",
              "10334-1     69.40000  188.8000  \n",
              "10362-2          NaN       NaN  \n",
              "10368-9      3.30000    3.3000  \n",
              "...              ...       ...  \n",
              "LP64598-3   66.95855   74.9998  \n",
              "LP65139-5  198.41600  360.2350  \n",
              "LP65487-8   37.00000   99.0000  \n",
              "LP72199-0   20.00000   56.0000  \n",
              "LP72677-5   99.00000  193.0000  \n",
              "\n",
              "[1590 rows x 8 columns]"
            ],
            "text/html": [
              "\n",
              "  <div id=\"df-9c42843e-8b91-4ae1-99cf-f24455248ed4\" class=\"colab-df-container\">\n",
              "    <div>\n",
              "<style scoped>\n",
              "    .dataframe tbody tr th:only-of-type {\n",
              "        vertical-align: middle;\n",
              "    }\n",
              "\n",
              "    .dataframe tbody tr th {\n",
              "        vertical-align: top;\n",
              "    }\n",
              "\n",
              "    .dataframe thead th {\n",
              "        text-align: right;\n",
              "    }\n",
              "</style>\n",
              "<table border=\"1\" class=\"dataframe\">\n",
              "  <thead>\n",
              "    <tr style=\"text-align: right;\">\n",
              "      <th></th>\n",
              "      <th>count</th>\n",
              "      <th>mean</th>\n",
              "      <th>std</th>\n",
              "      <th>min</th>\n",
              "      <th>25%</th>\n",
              "      <th>50%</th>\n",
              "      <th>75%</th>\n",
              "      <th>max</th>\n",
              "    </tr>\n",
              "    <tr>\n",
              "      <th>code</th>\n",
              "      <th></th>\n",
              "      <th></th>\n",
              "      <th></th>\n",
              "      <th></th>\n",
              "      <th></th>\n",
              "      <th></th>\n",
              "      <th></th>\n",
              "      <th></th>\n",
              "    </tr>\n",
              "  </thead>\n",
              "  <tbody>\n",
              "    <tr>\n",
              "      <th>1007-4</th>\n",
              "      <td>0.0</td>\n",
              "      <td>NaN</td>\n",
              "      <td>NaN</td>\n",
              "      <td>NaN</td>\n",
              "      <td>NaN</td>\n",
              "      <td>NaN</td>\n",
              "      <td>NaN</td>\n",
              "      <td>NaN</td>\n",
              "    </tr>\n",
              "    <tr>\n",
              "      <th>10230-1</th>\n",
              "      <td>181.0</td>\n",
              "      <td>57.690608</td>\n",
              "      <td>14.664521</td>\n",
              "      <td>10.0000</td>\n",
              "      <td>55.00000</td>\n",
              "      <td>60.0000</td>\n",
              "      <td>66.00000</td>\n",
              "      <td>83.0000</td>\n",
              "    </tr>\n",
              "    <tr>\n",
              "      <th>10334-1</th>\n",
              "      <td>18.0</td>\n",
              "      <td>60.966667</td>\n",
              "      <td>53.159460</td>\n",
              "      <td>13.0000</td>\n",
              "      <td>25.05000</td>\n",
              "      <td>38.6500</td>\n",
              "      <td>69.40000</td>\n",
              "      <td>188.8000</td>\n",
              "    </tr>\n",
              "    <tr>\n",
              "      <th>10362-2</th>\n",
              "      <td>0.0</td>\n",
              "      <td>NaN</td>\n",
              "      <td>NaN</td>\n",
              "      <td>NaN</td>\n",
              "      <td>NaN</td>\n",
              "      <td>NaN</td>\n",
              "      <td>NaN</td>\n",
              "      <td>NaN</td>\n",
              "    </tr>\n",
              "    <tr>\n",
              "      <th>10368-9</th>\n",
              "      <td>5.0</td>\n",
              "      <td>3.180000</td>\n",
              "      <td>0.164317</td>\n",
              "      <td>3.0000</td>\n",
              "      <td>3.00000</td>\n",
              "      <td>3.3000</td>\n",
              "      <td>3.30000</td>\n",
              "      <td>3.3000</td>\n",
              "    </tr>\n",
              "    <tr>\n",
              "      <th>...</th>\n",
              "      <td>...</td>\n",
              "      <td>...</td>\n",
              "      <td>...</td>\n",
              "      <td>...</td>\n",
              "      <td>...</td>\n",
              "      <td>...</td>\n",
              "      <td>...</td>\n",
              "      <td>...</td>\n",
              "    </tr>\n",
              "    <tr>\n",
              "      <th>LP64598-3</th>\n",
              "      <td>62.0</td>\n",
              "      <td>64.702705</td>\n",
              "      <td>3.736011</td>\n",
              "      <td>56.9999</td>\n",
              "      <td>62.05115</td>\n",
              "      <td>64.9802</td>\n",
              "      <td>66.95855</td>\n",
              "      <td>74.9998</td>\n",
              "    </tr>\n",
              "    <tr>\n",
              "      <th>LP65139-5</th>\n",
              "      <td>129.0</td>\n",
              "      <td>174.105202</td>\n",
              "      <td>49.050715</td>\n",
              "      <td>89.9993</td>\n",
              "      <td>136.68700</td>\n",
              "      <td>167.5510</td>\n",
              "      <td>198.41600</td>\n",
              "      <td>360.2350</td>\n",
              "    </tr>\n",
              "    <tr>\n",
              "      <th>LP65487-8</th>\n",
              "      <td>384.0</td>\n",
              "      <td>37.138802</td>\n",
              "      <td>4.335497</td>\n",
              "      <td>36.1000</td>\n",
              "      <td>36.60000</td>\n",
              "      <td>36.7000</td>\n",
              "      <td>37.00000</td>\n",
              "      <td>99.0000</td>\n",
              "    </tr>\n",
              "    <tr>\n",
              "      <th>LP72199-0</th>\n",
              "      <td>344.0</td>\n",
              "      <td>18.674419</td>\n",
              "      <td>5.183944</td>\n",
              "      <td>8.0000</td>\n",
              "      <td>16.00000</td>\n",
              "      <td>17.0000</td>\n",
              "      <td>20.00000</td>\n",
              "      <td>56.0000</td>\n",
              "    </tr>\n",
              "    <tr>\n",
              "      <th>LP72677-5</th>\n",
              "      <td>446.0</td>\n",
              "      <td>89.033632</td>\n",
              "      <td>22.385614</td>\n",
              "      <td>46.0000</td>\n",
              "      <td>73.00000</td>\n",
              "      <td>85.0000</td>\n",
              "      <td>99.00000</td>\n",
              "      <td>193.0000</td>\n",
              "    </tr>\n",
              "  </tbody>\n",
              "</table>\n",
              "<p>1590 rows × 8 columns</p>\n",
              "</div>\n",
              "    <div class=\"colab-df-buttons\">\n",
              "\n",
              "  <div class=\"colab-df-container\">\n",
              "    <button class=\"colab-df-convert\" onclick=\"convertToInteractive('df-9c42843e-8b91-4ae1-99cf-f24455248ed4')\"\n",
              "            title=\"Convert this dataframe to an interactive table.\"\n",
              "            style=\"display:none;\">\n",
              "\n",
              "  <svg xmlns=\"http://www.w3.org/2000/svg\" height=\"24px\" viewBox=\"0 -960 960 960\">\n",
              "    <path d=\"M120-120v-720h720v720H120Zm60-500h600v-160H180v160Zm220 220h160v-160H400v160Zm0 220h160v-160H400v160ZM180-400h160v-160H180v160Zm440 0h160v-160H620v160ZM180-180h160v-160H180v160Zm440 0h160v-160H620v160Z\"/>\n",
              "  </svg>\n",
              "    </button>\n",
              "\n",
              "  <style>\n",
              "    .colab-df-container {\n",
              "      display:flex;\n",
              "      gap: 12px;\n",
              "    }\n",
              "\n",
              "    .colab-df-convert {\n",
              "      background-color: #E8F0FE;\n",
              "      border: none;\n",
              "      border-radius: 50%;\n",
              "      cursor: pointer;\n",
              "      display: none;\n",
              "      fill: #1967D2;\n",
              "      height: 32px;\n",
              "      padding: 0 0 0 0;\n",
              "      width: 32px;\n",
              "    }\n",
              "\n",
              "    .colab-df-convert:hover {\n",
              "      background-color: #E2EBFA;\n",
              "      box-shadow: 0px 1px 2px rgba(60, 64, 67, 0.3), 0px 1px 3px 1px rgba(60, 64, 67, 0.15);\n",
              "      fill: #174EA6;\n",
              "    }\n",
              "\n",
              "    .colab-df-buttons div {\n",
              "      margin-bottom: 4px;\n",
              "    }\n",
              "\n",
              "    [theme=dark] .colab-df-convert {\n",
              "      background-color: #3B4455;\n",
              "      fill: #D2E3FC;\n",
              "    }\n",
              "\n",
              "    [theme=dark] .colab-df-convert:hover {\n",
              "      background-color: #434B5C;\n",
              "      box-shadow: 0px 1px 3px 1px rgba(0, 0, 0, 0.15);\n",
              "      filter: drop-shadow(0px 1px 2px rgba(0, 0, 0, 0.3));\n",
              "      fill: #FFFFFF;\n",
              "    }\n",
              "  </style>\n",
              "\n",
              "    <script>\n",
              "      const buttonEl =\n",
              "        document.querySelector('#df-9c42843e-8b91-4ae1-99cf-f24455248ed4 button.colab-df-convert');\n",
              "      buttonEl.style.display =\n",
              "        google.colab.kernel.accessAllowed ? 'block' : 'none';\n",
              "\n",
              "      async function convertToInteractive(key) {\n",
              "        const element = document.querySelector('#df-9c42843e-8b91-4ae1-99cf-f24455248ed4');\n",
              "        const dataTable =\n",
              "          await google.colab.kernel.invokeFunction('convertToInteractive',\n",
              "                                                    [key], {});\n",
              "        if (!dataTable) return;\n",
              "\n",
              "        const docLinkHtml = 'Like what you see? Visit the ' +\n",
              "          '<a target=\"_blank\" href=https://colab.research.google.com/notebooks/data_table.ipynb>data table notebook</a>'\n",
              "          + ' to learn more about interactive tables.';\n",
              "        element.innerHTML = '';\n",
              "        dataTable['output_type'] = 'display_data';\n",
              "        await google.colab.output.renderOutput(dataTable, element);\n",
              "        const docLink = document.createElement('div');\n",
              "        docLink.innerHTML = docLinkHtml;\n",
              "        element.appendChild(docLink);\n",
              "      }\n",
              "    </script>\n",
              "  </div>\n",
              "\n",
              "\n",
              "<div id=\"df-8f0bf67c-b874-40b1-a4bc-453128467f03\">\n",
              "  <button class=\"colab-df-quickchart\" onclick=\"quickchart('df-8f0bf67c-b874-40b1-a4bc-453128467f03')\"\n",
              "            title=\"Suggest charts.\"\n",
              "            style=\"display:none;\">\n",
              "\n",
              "<svg xmlns=\"http://www.w3.org/2000/svg\" height=\"24px\"viewBox=\"0 0 24 24\"\n",
              "     width=\"24px\">\n",
              "    <g>\n",
              "        <path d=\"M19 3H5c-1.1 0-2 .9-2 2v14c0 1.1.9 2 2 2h14c1.1 0 2-.9 2-2V5c0-1.1-.9-2-2-2zM9 17H7v-7h2v7zm4 0h-2V7h2v10zm4 0h-2v-4h2v4z\"/>\n",
              "    </g>\n",
              "</svg>\n",
              "  </button>\n",
              "\n",
              "<style>\n",
              "  .colab-df-quickchart {\n",
              "      --bg-color: #E8F0FE;\n",
              "      --fill-color: #1967D2;\n",
              "      --hover-bg-color: #E2EBFA;\n",
              "      --hover-fill-color: #174EA6;\n",
              "      --disabled-fill-color: #AAA;\n",
              "      --disabled-bg-color: #DDD;\n",
              "  }\n",
              "\n",
              "  [theme=dark] .colab-df-quickchart {\n",
              "      --bg-color: #3B4455;\n",
              "      --fill-color: #D2E3FC;\n",
              "      --hover-bg-color: #434B5C;\n",
              "      --hover-fill-color: #FFFFFF;\n",
              "      --disabled-bg-color: #3B4455;\n",
              "      --disabled-fill-color: #666;\n",
              "  }\n",
              "\n",
              "  .colab-df-quickchart {\n",
              "    background-color: var(--bg-color);\n",
              "    border: none;\n",
              "    border-radius: 50%;\n",
              "    cursor: pointer;\n",
              "    display: none;\n",
              "    fill: var(--fill-color);\n",
              "    height: 32px;\n",
              "    padding: 0;\n",
              "    width: 32px;\n",
              "  }\n",
              "\n",
              "  .colab-df-quickchart:hover {\n",
              "    background-color: var(--hover-bg-color);\n",
              "    box-shadow: 0 1px 2px rgba(60, 64, 67, 0.3), 0 1px 3px 1px rgba(60, 64, 67, 0.15);\n",
              "    fill: var(--button-hover-fill-color);\n",
              "  }\n",
              "\n",
              "  .colab-df-quickchart-complete:disabled,\n",
              "  .colab-df-quickchart-complete:disabled:hover {\n",
              "    background-color: var(--disabled-bg-color);\n",
              "    fill: var(--disabled-fill-color);\n",
              "    box-shadow: none;\n",
              "  }\n",
              "\n",
              "  .colab-df-spinner {\n",
              "    border: 2px solid var(--fill-color);\n",
              "    border-color: transparent;\n",
              "    border-bottom-color: var(--fill-color);\n",
              "    animation:\n",
              "      spin 1s steps(1) infinite;\n",
              "  }\n",
              "\n",
              "  @keyframes spin {\n",
              "    0% {\n",
              "      border-color: transparent;\n",
              "      border-bottom-color: var(--fill-color);\n",
              "      border-left-color: var(--fill-color);\n",
              "    }\n",
              "    20% {\n",
              "      border-color: transparent;\n",
              "      border-left-color: var(--fill-color);\n",
              "      border-top-color: var(--fill-color);\n",
              "    }\n",
              "    30% {\n",
              "      border-color: transparent;\n",
              "      border-left-color: var(--fill-color);\n",
              "      border-top-color: var(--fill-color);\n",
              "      border-right-color: var(--fill-color);\n",
              "    }\n",
              "    40% {\n",
              "      border-color: transparent;\n",
              "      border-right-color: var(--fill-color);\n",
              "      border-top-color: var(--fill-color);\n",
              "    }\n",
              "    60% {\n",
              "      border-color: transparent;\n",
              "      border-right-color: var(--fill-color);\n",
              "    }\n",
              "    80% {\n",
              "      border-color: transparent;\n",
              "      border-right-color: var(--fill-color);\n",
              "      border-bottom-color: var(--fill-color);\n",
              "    }\n",
              "    90% {\n",
              "      border-color: transparent;\n",
              "      border-bottom-color: var(--fill-color);\n",
              "    }\n",
              "  }\n",
              "</style>\n",
              "\n",
              "  <script>\n",
              "    async function quickchart(key) {\n",
              "      const quickchartButtonEl =\n",
              "        document.querySelector('#' + key + ' button');\n",
              "      quickchartButtonEl.disabled = true;  // To prevent multiple clicks.\n",
              "      quickchartButtonEl.classList.add('colab-df-spinner');\n",
              "      try {\n",
              "        const charts = await google.colab.kernel.invokeFunction(\n",
              "            'suggestCharts', [key], {});\n",
              "      } catch (error) {\n",
              "        console.error('Error during call to suggestCharts:', error);\n",
              "      }\n",
              "      quickchartButtonEl.classList.remove('colab-df-spinner');\n",
              "      quickchartButtonEl.classList.add('colab-df-quickchart-complete');\n",
              "    }\n",
              "    (() => {\n",
              "      let quickchartButtonEl =\n",
              "        document.querySelector('#df-8f0bf67c-b874-40b1-a4bc-453128467f03 button');\n",
              "      quickchartButtonEl.style.display =\n",
              "        google.colab.kernel.accessAllowed ? 'block' : 'none';\n",
              "    })();\n",
              "  </script>\n",
              "</div>\n",
              "    </div>\n",
              "  </div>\n"
            ]
          },
          "metadata": {},
          "execution_count": 6
        }
      ]
    },
    {
      "cell_type": "markdown",
      "source": [
        "# See if the mean matches the description"
      ],
      "metadata": {
        "id": "famT6hBRkLnI"
      }
    },
    {
      "cell_type": "code",
      "source": [
        "df_lab.groupby('code')['lab_result_num_val'].mean()"
      ],
      "metadata": {
        "colab": {
          "base_uri": "https://localhost:8080/"
        },
        "id": "3OtuP4aZkUc8",
        "outputId": "23caa12a-b8d3-47f8-e393-8b182bd92ba2"
      },
      "execution_count": 7,
      "outputs": [
        {
          "output_type": "execute_result",
          "data": {
            "text/plain": [
              "code\n",
              "1007-4              NaN\n",
              "10230-1       57.690608\n",
              "10334-1       60.966667\n",
              "10362-2             NaN\n",
              "10368-9        3.180000\n",
              "                ...    \n",
              "LP64598-3     64.702705\n",
              "LP65139-5    174.105202\n",
              "LP65487-8     37.138802\n",
              "LP72199-0     18.674419\n",
              "LP72677-5     89.033632\n",
              "Name: lab_result_num_val, Length: 1590, dtype: float64"
            ]
          },
          "metadata": {},
          "execution_count": 7
        }
      ]
    },
    {
      "cell_type": "markdown",
      "source": [
        "# Find the median lab result for each code"
      ],
      "metadata": {
        "id": "K4J5Pm-MLHkM"
      }
    },
    {
      "cell_type": "code",
      "source": [
        "df_lab.groupby('code')['lab_result_num_val'].median()"
      ],
      "metadata": {
        "colab": {
          "base_uri": "https://localhost:8080/"
        },
        "id": "GBxIB7h3LVrS",
        "outputId": "79ff9ab0-59b6-45e4-8ed8-977795fe4c8a"
      },
      "execution_count": 36,
      "outputs": [
        {
          "output_type": "execute_result",
          "data": {
            "text/plain": [
              "code\n",
              "1007-4            NaN\n",
              "10230-1       60.0000\n",
              "10334-1       38.6500\n",
              "10362-2           NaN\n",
              "10368-9        3.3000\n",
              "               ...   \n",
              "LP64598-3     64.9802\n",
              "LP65139-5    167.5510\n",
              "LP65487-8     36.7000\n",
              "LP72199-0     17.0000\n",
              "LP72677-5     85.0000\n",
              "Name: lab_result_num_val, Length: 1590, dtype: float64"
            ]
          },
          "metadata": {},
          "execution_count": 36
        }
      ]
    },
    {
      "cell_type": "markdown",
      "source": [
        "# Find the mode for each code\n",
        "Dont know why this did not work"
      ],
      "metadata": {
        "id": "2N50ISQtLiSn"
      }
    },
    {
      "cell_type": "code",
      "source": [
        "df_lab.groupby('code')['lab_result_num_val'].mode()"
      ],
      "metadata": {
        "colab": {
          "base_uri": "https://localhost:8080/",
          "height": 298
        },
        "id": "2_bZOhg1LmJk",
        "outputId": "8b91066f-9259-4cee-f3a4-948fe6cfaa4d"
      },
      "execution_count": 37,
      "outputs": [
        {
          "output_type": "error",
          "ename": "AttributeError",
          "evalue": "ignored",
          "traceback": [
            "\u001b[0;31m---------------------------------------------------------------------------\u001b[0m",
            "\u001b[0;31mAttributeError\u001b[0m                            Traceback (most recent call last)",
            "\u001b[0;32m<ipython-input-37-1647ad752622>\u001b[0m in \u001b[0;36m<cell line: 1>\u001b[0;34m()\u001b[0m\n\u001b[0;32m----> 1\u001b[0;31m \u001b[0mdf_lab\u001b[0m\u001b[0;34m.\u001b[0m\u001b[0mgroupby\u001b[0m\u001b[0;34m(\u001b[0m\u001b[0;34m'code'\u001b[0m\u001b[0;34m)\u001b[0m\u001b[0;34m[\u001b[0m\u001b[0;34m'lab_result_num_val'\u001b[0m\u001b[0;34m]\u001b[0m\u001b[0;34m.\u001b[0m\u001b[0mmode\u001b[0m\u001b[0;34m(\u001b[0m\u001b[0;34m)\u001b[0m\u001b[0;34m\u001b[0m\u001b[0;34m\u001b[0m\u001b[0m\n\u001b[0m",
            "\u001b[0;32m/usr/local/lib/python3.10/dist-packages/pandas/core/groupby/groupby.py\u001b[0m in \u001b[0;36m__getattr__\u001b[0;34m(self, attr)\u001b[0m\n\u001b[1;32m    985\u001b[0m             \u001b[0;32mreturn\u001b[0m \u001b[0mself\u001b[0m\u001b[0;34m[\u001b[0m\u001b[0mattr\u001b[0m\u001b[0;34m]\u001b[0m\u001b[0;34m\u001b[0m\u001b[0;34m\u001b[0m\u001b[0m\n\u001b[1;32m    986\u001b[0m \u001b[0;34m\u001b[0m\u001b[0m\n\u001b[0;32m--> 987\u001b[0;31m         raise AttributeError(\n\u001b[0m\u001b[1;32m    988\u001b[0m             \u001b[0;34mf\"'{type(self).__name__}' object has no attribute '{attr}'\"\u001b[0m\u001b[0;34m\u001b[0m\u001b[0;34m\u001b[0m\u001b[0m\n\u001b[1;32m    989\u001b[0m         )\n",
            "\u001b[0;31mAttributeError\u001b[0m: 'SeriesGroupBy' object has no attribute 'mode'"
          ]
        }
      ]
    },
    {
      "cell_type": "markdown",
      "source": [
        "# How many unique values are in the lab result text value column?"
      ],
      "metadata": {
        "id": "nWJsuvEbmCkJ"
      }
    },
    {
      "cell_type": "code",
      "source": [
        "df_lab['lab_result_text_val'].nunique()"
      ],
      "metadata": {
        "colab": {
          "base_uri": "https://localhost:8080/"
        },
        "id": "XkNw0cdSmB2E",
        "outputId": "0ebaa31e-539b-472d-899d-1523b265e39f"
      },
      "execution_count": 8,
      "outputs": [
        {
          "output_type": "execute_result",
          "data": {
            "text/plain": [
              "9"
            ]
          },
          "metadata": {},
          "execution_count": 8
        }
      ]
    },
    {
      "cell_type": "markdown",
      "source": [
        "# What are the text lab values included in this data set?"
      ],
      "metadata": {
        "id": "cmRDcdfznAAQ"
      }
    },
    {
      "cell_type": "code",
      "source": [
        "print(df_lab['lab_result_text_val'].unique())"
      ],
      "metadata": {
        "colab": {
          "base_uri": "https://localhost:8080/"
        },
        "id": "au28kT_jl5Hq",
        "outputId": "b6d89900-4177-4b21-f376-54220a660822"
      },
      "execution_count": 9,
      "outputs": [
        {
          "output_type": "stream",
          "name": "stdout",
          "text": [
            "[nan 'Negative' 'Unknown' 'yellow' 'Positive' 'amber' 'red' 'clear'\n",
            " 'brown' 'dark yellow']\n"
          ]
        }
      ]
    },
    {
      "cell_type": "markdown",
      "source": [
        "# Analyze the distribution of the systolic blood pressures in this data set"
      ],
      "metadata": {
        "id": "IduCh6DTqWrn"
      }
    },
    {
      "cell_type": "code",
      "source": [
        "systolic_bp = df_lab[df_lab['code'] == '89280-2']\n",
        "systolic_bp['lab_result_num_val'].describe()\n"
      ],
      "metadata": {
        "colab": {
          "base_uri": "https://localhost:8080/"
        },
        "id": "iKZPeuIZuCFR",
        "outputId": "aeaf40ed-36c4-441f-dfcf-bc88c2394b39"
      },
      "execution_count": 10,
      "outputs": [
        {
          "output_type": "execute_result",
          "data": {
            "text/plain": [
              "count    9876.000000\n",
              "mean      119.161401\n",
              "std        31.633894\n",
              "min      -308.000000\n",
              "25%       103.000000\n",
              "50%       118.000000\n",
              "75%       134.000000\n",
              "max       334.000000\n",
              "Name: lab_result_num_val, dtype: float64"
            ]
          },
          "metadata": {},
          "execution_count": 10
        }
      ]
    },
    {
      "cell_type": "code",
      "source": [
        "plt.hist(systolic_bp['lab_result_num_val'], bins=30, density=True, alpha=0.7, color='blue', label='Normal Distribution')\n",
        "plt.title('Normal Distribution')\n",
        "plt.xlabel('Value')\n",
        "plt.ylabel('Probability Density')\n",
        "plt.legend()\n",
        "plt.grid(True)\n",
        "plt.show()"
      ],
      "metadata": {
        "colab": {
          "base_uri": "https://localhost:8080/",
          "height": 472
        },
        "id": "BBzU30eDqWDd",
        "outputId": "c58473a5-fe4b-491d-fbea-0c3c44363301"
      },
      "execution_count": 11,
      "outputs": [
        {
          "output_type": "display_data",
          "data": {
            "text/plain": [
              "<Figure size 640x480 with 1 Axes>"
            ],
            "image/png": "[encoded data removed]"
          },
          "metadata": {}
        }
      ]
    },
    {
      "cell_type": "markdown",
      "source": [
        "# Check for kurtosis and skewness\n",
        "The kurtosis of 15 shows a sharper peak than a normal distribution. It is \"skinny \"in the center, and features \"fat tails\"\n",
        "\n",
        "The skew number of -0.87 is a left-skewed distribution, demonstrated by the tail on the left side. It means that the left tail is longer than the right tail. The mass of the distribution is concentrated on the right."
      ],
      "metadata": {
        "id": "Gm9Dy0IVEjqv"
      }
    },
    {
      "cell_type": "code",
      "source": [
        "systolic_bp_kurt = kurtosis(systolic_bp['lab_result_num_val'], fisher=False)\n",
        "print(systolic_bp_kurt)"
      ],
      "metadata": {
        "colab": {
          "base_uri": "https://localhost:8080/"
        },
        "id": "kULaox4BDNsS",
        "outputId": "56f25c20-787b-4566-e00c-5f18a377413f"
      },
      "execution_count": 17,
      "outputs": [
        {
          "output_type": "stream",
          "name": "stdout",
          "text": [
            "15.686774878212237\n"
          ]
        }
      ]
    },
    {
      "cell_type": "code",
      "source": [
        "systolic_bp_skew = skew(systolic_bp['lab_result_num_val'])\n",
        "print(systolic_bp_skew)"
      ],
      "metadata": {
        "colab": {
          "base_uri": "https://localhost:8080/"
        },
        "id": "Yr8vgg1zEn0J",
        "outputId": "637b2ec3-8720-4004-9cb9-f3f7a754ff4f"
      },
      "execution_count": 20,
      "outputs": [
        {
          "output_type": "stream",
          "name": "stdout",
          "text": [
            "-0.8737914197241642\n"
          ]
        }
      ]
    },
    {
      "cell_type": "markdown",
      "source": [
        "# Check for Outliers using IQR"
      ],
      "metadata": {
        "id": "mp1J7t7oSDRM"
      }
    },
    {
      "cell_type": "code",
      "source": [
        "\n",
        "from scipy.stats import zscore\n",
        "import plotly.express as px"
      ],
      "metadata": {
        "id": "fO4cOvQnSfSe"
      },
      "execution_count": 86,
      "outputs": []
    },
    {
      "cell_type": "code",
      "source": [
        "fig = px.box(systolic_bp, y='lab_result_num_val')\n",
        "\n",
        "fig.show()"
      ],
      "metadata": {
        "colab": {
          "base_uri": "https://localhost:8080/",
          "height": 542
        },
        "id": "KWyDChMUVV5o",
        "outputId": "806092ba-8e6d-4b04-8791-0d33e33b642d"
      },
      "execution_count": 63,
      "outputs": [
        {
          "output_type": "display_data",
          "data": {
            "text/html": [
              "<html>\n",
              "<head><meta charset=\"utf-8\" /></head>\n",
              "<body>\n",
              "    <div>            <script src=\"https://cdnjs.cloudflare.com/ajax/libs/mathjax/2.7.5/MathJax.js?config=TeX-AMS-MML_SVG\"></script><script type=\"text/javascript\">if (window.MathJax && window.MathJax.Hub && window.MathJax.Hub.Config) {window.MathJax.Hub.Config({SVG: {font: \"STIX-Web\"}});}</script>                <script type=\"text/javascript\">window.PlotlyConfig = {MathJaxConfig: 'local'};</script>\n",
              "        <script charset=\"utf-8\" src=\"https://cdn.plot.ly/plotly-2.24.1.min.js\"></script>                <div id=\"033708f7-43f9-4601-841e-68691fa9c790\" class=\"plotly-graph-div\" style=\"height:525px; width:100%;\"></div>            <script type=\"text/javascript\">                                    window.PLOTLYENV=window.PLOTLYENV || {};                                    if (document.getElementById(\"033708f7-43f9-4601-841e-68691fa9c790\")) {                    Plotly.newPlot(                        \"033708f7-43f9-4601-841e-68691fa9c790\",                        [{\"alignmentgroup\":\"True\",\"hovertemplate\":\"lab_result_num_val=%{y}\\u003cextra\\u003e\\u003c\\u002fextra\\u003e\",\"legendgroup\":\"\",\"marker\":{\"color\":\"#636efa\"},\"name\":\"\",\"notched\":false,\"offsetgroup\":\"\",\"orientation\":\"v\",\"showlegend\":false,\"x0\":\" \",\"xaxis\":\"x\",\"y\":[121.0,148.0,173.0,187.0,195.0,131.0,135.0,137.0,139.0,140.0,148.0,149.0,150.0,153.0,156.0,160.0,171.0,188.0,224.0,231.0,233.0,131.0,134.0,136.0,139.0,142.0,143.0,145.0,146.0,147.0,150.0,151.0,152.0,156.0,159.0,168.0,169.0,135.0,138.0,139.0,146.0,150.0,155.0,157.0,164.0,165.0,167.0,172.0,178.0,197.0,97.0,98.0,103.0,108.0,112.0,113.0,114.0,115.0,116.0,117.0,131.0,145.0,152.0,96.0,84.0,85.0,90.0,93.0,94.0,95.0,96.0,100.0,107.0,121.0,104.0,116.0,118.0,119.0,120.0,121.0,122.0,123.0,126.0,127.0,129.0,130.0,132.0,135.0,138.0,103.0,106.0,108.0,110.0,116.0,117.0,118.0,131.0,120.0,126.0,127.0,130.0,85.0,93.0,94.0,96.0,97.0,98.0,99.0,100.0,101.0,102.0,103.0,104.0,105.0,106.0,108.0,109.0,110.0,111.0,112.0,113.0,114.0,115.0,116.0,117.0,121.0,123.0,126.0,151.0,165.0,70.0,95.0,96.0,99.0,100.0,101.0,102.0,103.0,104.0,105.0,106.0,107.0,108.0,109.0,110.0,111.0,112.0,113.0,114.0,115.0,117.0,118.0,120.0,122.0,124.0,126.0,129.0,133.0,96.0,98.0,101.0,102.0,103.0,106.0,107.0,109.0,112.0,114.0,115.0,116.0,119.0,120.0,121.0,122.0,123.0,124.0,125.0,126.0,127.0,128.0,129.0,130.0,131.0,132.0,134.0,137.0,144.0,145.0,88.0,107.0,108.0,109.0,110.0,111.0,112.0,113.0,114.0,115.0,116.0,117.0,118.0,119.0,120.0,121.0,122.0,123.0,124.0,125.0,126.0,127.0,128.0,129.0,130.0,134.0,137.0,108.0,109.0,114.0,115.0,119.0,120.0,121.0,122.0,127.0,142.0,163.0,99.0,103.0,104.0,110.0,117.0,120.0,108.0,112.0,115.0,138.0,140.0,100.0,113.0,121.0,122.0,123.0,124.0,126.0,127.0,128.0,129.0,130.0,131.0,132.0,133.0,134.0,135.0,136.0,137.0,138.0,140.0,141.0,145.0,146.0,151.0,153.0,154.0,155.0,76.0,79.0,86.0,92.0,94.0,96.0,98.0,99.0,100.0,104.0,105.0,106.0,107.0,108.0,109.0,110.0,112.0,113.0,114.0,116.0,118.0,120.0,121.0,126.0,127.0,128.0,129.0,132.0,135.0,136.0,138.0,142.0,143.0,146.0,148.0,149.0,150.0,151.0,153.0,155.0,156.0,157.0,159.0,167.0,104.0,105.0,108.0,109.0,110.0,112.0,113.0,115.0,116.0,117.0,120.0,121.0,122.0,123.0,124.0,125.0,127.0,128.0,131.0,133.0,135.0,136.0,138.0,140.0,141.0,142.0,143.0,144.0,145.0,146.0,147.0,148.0,149.0,151.0,153.0,155.0,156.0,157.0,159.0,145.0,147.0,149.0,156.0,93.0,95.0,96.0,97.0,98.0,99.0,100.0,103.0,104.0,110.0,116.0,120.0,126.0,137.0,136.0,140.0,148.0,93.0,94.0,95.0,97.0,98.0,99.0,105.0,108.0,110.0,112.0,115.0,118.0,126.0,134.0,97.0,98.0,101.0,105.0,-31.0,-30.0,-29.0,-28.0,-27.0,-21.0,-4.0,-3.0,-2.0,0.0,10.0,13.0,122.0,131.0,136.0,140.0,142.0,148.0,149.0,151.0,152.0,153.0,155.0,156.0,158.0,159.0,161.0,162.0,163.0,164.0,165.0,178.0,179.0,70.0,84.0,85.0,86.0,89.0,90.0,93.0,98.0,99.0,101.0,102.0,103.0,104.0,106.0,107.0,108.0,109.0,111.0,112.0,114.0,115.0,117.0,118.0,120.0,121.0,122.0,123.0,128.0,129.0,131.0,133.0,134.0,137.0,140.0,143.0,144.0,145.0,150.0,154.0,156.0,158.0,166.0,172.0,189.0,191.0,194.0,203.0,208.0,226.0,89.0,90.0,92.0,93.0,99.0,101.0,105.0,106.0,109.0,114.0,115.0,116.0,129.0,131.0,99.0,101.0,105.0,113.0,120.0,125.0,129.0,159.0,177.0,94.0,95.0,97.0,98.0,107.0,139.0,141.0,143.0,151.0,157.0,161.0,171.0,188.0,190.0,115.0,121.0,134.0,108.0,109.0,116.0,129.0,144.0,110.0,114.0,120.0,126.0,128.0,134.0,145.0,159.0,182.0,99.0,100.0,101.0,114.0,150.0,151.0,152.0,153.0,154.0,155.0,156.0,157.0,158.0,159.0,160.0,162.0,163.0,164.0,-6.0,-5.0,15.0,28.0,151.0,155.0,157.0,158.0,159.0,160.0,161.0,162.0,163.0,164.0,165.0,166.0,167.0,168.0,169.0,170.0,172.0,175.0,176.0,178.0,179.0,180.0,264.0,265.0,267.0,268.0,270.0,271.0,272.0,273.0,101.0,104.0,106.0,108.0,109.0,115.0,118.0,119.0,122.0,123.0,124.0,125.0,126.0,127.0,128.0,129.0,132.0,135.0,138.0,139.0,140.0,141.0,142.0,143.0,145.0,147.0,149.0,150.0,153.0,168.0,169.0,175.0,60.0,77.0,86.0,87.0,98.0,102.0,104.0,106.0,110.0,111.0,112.0,114.0,117.0,119.0,121.0,122.0,124.0,125.0,126.0,127.0,130.0,131.0,132.0,133.0,134.0,135.0,136.0,138.0,139.0,140.0,141.0,143.0,144.0,145.0,146.0,147.0,148.0,149.0,150.0,153.0,154.0,155.0,163.0,0.0,2.0,110.0,111.0,115.0,121.0,122.0,124.0,125.0,126.0,127.0,129.0,132.0,134.0,138.0,141.0,151.0,160.0,136.0,139.0,159.0,161.0,162.0,181.0,130.0,132.0,140.0,143.0,144.0,146.0,149.0,158.0,161.0,198.0,154.0,94.0,106.0,110.0,114.0,116.0,119.0,124.0,128.0,139.0,141.0,143.0,102.0,104.0,109.0,111.0,113.0,117.0,118.0,123.0,127.0,138.0,104.0,113.0,123.0,129.0,99.0,104.0,123.0,126.0,85.0,87.0,88.0,89.0,90.0,91.0,92.0,93.0,94.0,96.0,99.0,100.0,101.0,86.0,87.0,88.0,89.0,90.0,91.0,92.0,93.0,94.0,101.0,116.0,129.0,143.0,159.0,193.0,207.0,226.0,98.0,100.0,110.0,112.0,113.0,115.0,116.0,120.0,123.0,126.0,127.0,128.0,130.0,132.0,137.0,105.0,108.0,121.0,122.0,124.0,126.0,127.0,132.0,133.0,138.0,141.0,145.0,147.0,155.0,158.0,137.0,141.0,143.0,147.0,149.0,150.0,151.0,154.0,168.0,169.0,-31.0,-30.0,-29.0,-28.0,-31.0,-30.0,-29.0,-27.0,-26.0,-25.0,-24.0,-23.0,-7.0,-6.0,-5.0,-4.0,0.0,99.0,102.0,104.0,109.0,113.0,114.0,115.0,116.0,80.0,83.0,85.0,86.0,87.0,88.0,93.0,97.0,100.0,102.0,104.0,106.0,107.0,110.0,112.0,114.0,119.0,68.0,69.0,70.0,72.0,77.0,83.0,84.0,86.0,87.0,93.0,101.0,134.0,128.0,130.0,131.0,94.0,107.0,108.0,109.0,113.0,118.0,121.0,124.0,127.0,128.0,138.0,106.0,107.0,108.0,125.0,114.0,116.0,117.0,98.0,112.0,125.0,132.0,114.0,117.0,125.0,111.0,115.0,125.0,128.0,131.0,132.0,136.0,137.0,140.0,146.0,164.0,167.0,175.0,125.0,130.0,133.0,143.0,117.0,135.0,155.0,115.0,119.0,121.0,114.0,-17.0,15.0,41.0,95.0,107.0,116.0,118.0,123.0,158.0,176.0,214.0,234.0,235.0,236.0,237.0,238.0,239.0,240.0,241.0,242.0,243.0,244.0,45.0,54.0,91.0,93.0,98.0,100.0,103.0,105.0,107.0,109.0,110.0,111.0,113.0,115.0,116.0,118.0,121.0,122.0,123.0,124.0,125.0,126.0,127.0,128.0,129.0,130.0,132.0,133.0,135.0,137.0,138.0,139.0,142.0,144.0,146.0,150.0,151.0,155.0,156.0,157.0,161.0,162.0,167.0,172.0,177.0,186.0,66.0,83.0,87.0,89.0,93.0,94.0,97.0,99.0,100.0,101.0,102.0,106.0,107.0,109.0,110.0,111.0,112.0,114.0,117.0,119.0,120.0,121.0,123.0,124.0,125.0,126.0,127.0,128.0,131.0,134.0,135.0,138.0,141.0,143.0,144.0,146.0,148.0,149.0,153.0,157.0,160.0,161.0,169.0,98.0,99.0,100.0,101.0,102.0,104.0,106.0,108.0,109.0,110.0,111.0,113.0,114.0,115.0,116.0,117.0,118.0,119.0,120.0,122.0,127.0,128.0,129.0,132.0,133.0,134.0,135.0,136.0,137.0,138.0,140.0,143.0,144.0,147.0,152.0,157.0,159.0,167.0,183.0,52.0,88.0,93.0,94.0,97.0,99.0,100.0,101.0,102.0,103.0,104.0,105.0,106.0,107.0,108.0,110.0,111.0,112.0,113.0,114.0,115.0,116.0,117.0,119.0,120.0,121.0,123.0,124.0,125.0,126.0,127.0,128.0,131.0,134.0,138.0,139.0,141.0,152.0,153.0,160.0,52.0,94.0,96.0,97.0,100.0,101.0,102.0,103.0,104.0,105.0,106.0,107.0,108.0,109.0,111.0,112.0,113.0,114.0,116.0,117.0,118.0,119.0,120.0,121.0,122.0,123.0,124.0,125.0,126.0,127.0,128.0,129.0,130.0,133.0,134.0,136.0,137.0,139.0,98.0,104.0,110.0,112.0,113.0,114.0,115.0,116.0,117.0,118.0,120.0,121.0,123.0,124.0,125.0,126.0,128.0,131.0,135.0,139.0,143.0,148.0,97.0,105.0,109.0,112.0,113.0,117.0,119.0,121.0,122.0,123.0,124.0,125.0,126.0,127.0,128.0,129.0,131.0,133.0,134.0,136.0,138.0,139.0,140.0,141.0,142.0,143.0,144.0,145.0,147.0,149.0,150.0,152.0,153.0,90.0,91.0,92.0,94.0,95.0,96.0,101.0,107.0,112.0,113.0,117.0,119.0,120.0,121.0,124.0,126.0,127.0,128.0,129.0,130.0,131.0,132.0,133.0,134.0,135.0,136.0,137.0,138.0,139.0,140.0,141.0,144.0,145.0,148.0,149.0,153.0,154.0,159.0,161.0,-1.0,74.0,109.0,114.0,123.0,125.0,126.0,127.0,128.0,129.0,130.0,131.0,132.0,134.0,135.0,136.0,137.0,138.0,140.0,141.0,142.0,143.0,144.0,145.0,147.0,149.0,150.0,155.0,156.0,157.0,74.0,113.0,114.0,117.0,121.0,123.0,124.0,125.0,126.0,127.0,128.0,129.0,130.0,131.0,132.0,133.0,134.0,135.0,136.0,137.0,139.0,140.0,141.0,75.0,105.0,109.0,111.0,114.0,122.0,123.0,124.0,125.0,126.0,127.0,128.0,129.0,130.0,131.0,132.0,135.0,136.0,137.0,138.0,140.0,141.0,142.0,143.0,145.0,146.0,149.0,150.0,151.0,99.0,101.0,104.0,105.0,109.0,111.0,115.0,116.0,117.0,119.0,120.0,121.0,122.0,127.0,128.0,129.0,130.0,131.0,132.0,133.0,134.0,135.0,139.0,140.0,141.0,142.0,144.0,145.0,146.0,147.0,149.0,150.0,158.0,166.0,172.0,177.0,186.0,100.0,106.0,113.0,114.0,115.0,116.0,117.0,119.0,120.0,121.0,122.0,124.0,125.0,126.0,127.0,129.0,130.0,131.0,132.0,133.0,135.0,138.0,142.0,143.0,145.0,146.0,150.0,153.0,108.0,115.0,116.0,117.0,120.0,126.0,127.0,129.0,130.0,132.0,133.0,136.0,141.0,144.0,147.0,143.0,156.0,109.0,112.0,114.0,115.0,116.0,117.0,118.0,119.0,125.0,128.0,131.0,136.0,140.0,146.0,111.0,123.0,125.0,129.0,130.0,139.0,140.0,141.0,142.0,109.0,127.0,132.0,145.0,147.0,156.0,114.0,122.0,99.0,103.0,107.0,109.0,116.0,125.0,139.0,147.0,94.0,95.0,96.0,97.0,98.0,99.0,102.0,107.0,84.0,86.0,87.0,90.0,96.0,104.0,113.0,121.0,122.0,126.0,127.0,132.0,133.0,137.0,142.0,119.0,120.0,121.0,122.0,123.0,126.0,132.0,133.0,139.0,140.0,141.0,143.0,144.0,145.0,155.0,128.0,139.0,140.0,142.0,146.0,147.0,148.0,127.0,128.0,130.0,132.0,134.0,138.0,141.0,89.0,92.0,95.0,96.0,99.0,100.0,101.0,102.0,103.0,105.0,107.0,111.0,88.0,91.0,92.0,97.0,98.0,101.0,102.0,103.0,105.0,108.0,109.0,110.0,114.0,128.0,95.0,98.0,99.0,101.0,102.0,104.0,107.0,109.0,111.0,112.0,114.0,123.0,126.0,131.0,121.0,122.0,123.0,130.0,131.0,134.0,135.0,137.0,142.0,152.0,100.0,107.0,113.0,118.0,120.0,98.0,100.0,102.0,104.0,105.0,106.0,107.0,110.0,113.0,116.0,117.0,118.0,120.0,122.0,123.0,97.0,111.0,113.0,117.0,118.0,89.0,109.0,82.0,83.0,84.0,68.0,74.0,78.0,81.0,84.0,86.0,105.0,111.0,119.0,88.0,91.0,92.0,94.0,96.0,98.0,99.0,101.0,118.0,121.0,125.0,127.0,143.0,148.0,151.0,152.0,155.0,100.0,102.0,103.0,104.0,107.0,111.0,113.0,114.0,115.0,117.0,120.0,122.0,131.0,134.0,146.0,165.0,84.0,87.0,88.0,91.0,92.0,93.0,94.0,97.0,99.0,101.0,102.0,107.0,79.0,82.0,83.0,84.0,86.0,87.0,89.0,90.0,91.0,94.0,96.0,97.0,88.0,90.0,93.0,95.0,98.0,99.0,100.0,102.0,103.0,104.0,105.0,108.0,113.0,114.0,124.0,137.0,140.0,142.0,79.0,137.0,149.0,86.0,100.0,102.0,105.0,108.0,112.0,113.0,115.0,117.0,118.0,121.0,122.0,124.0,127.0,131.0,132.0,133.0,134.0,135.0,136.0,141.0,146.0,147.0,151.0,154.0,157.0,166.0,180.0,186.0,94.0,96.0,104.0,108.0,110.0,111.0,113.0,114.0,118.0,119.0,120.0,122.0,123.0,124.0,125.0,126.0,128.0,129.0,131.0,132.0,134.0,135.0,136.0,138.0,139.0,142.0,143.0,144.0,145.0,147.0,149.0,151.0,153.0,154.0,155.0,156.0,158.0,165.0,168.0,169.0,178.0,74.0,79.0,80.0,82.0,83.0,85.0,86.0,87.0,90.0,91.0,92.0,93.0,95.0,96.0,97.0,98.0,100.0,103.0,104.0,109.0,112.0,113.0,114.0,115.0,116.0,117.0,118.0,119.0,121.0,122.0,123.0,124.0,127.0,130.0,133.0,146.0,159.0,163.0,166.0,47.0,105.0,106.0,108.0,110.0,111.0,112.0,114.0,115.0,117.0,118.0,119.0,120.0,121.0,122.0,125.0,126.0,128.0,129.0,130.0,131.0,132.0,133.0,134.0,135.0,136.0,137.0,138.0,139.0,140.0,141.0,142.0,143.0,144.0,146.0,147.0,152.0,153.0,103.0,104.0,105.0,106.0,107.0,108.0,109.0,110.0,111.0,112.0,113.0,114.0,115.0,116.0,117.0,118.0,120.0,121.0,122.0,124.0,125.0,127.0,128.0,133.0,136.0,139.0,143.0,145.0,155.0,74.0,78.0,83.0,86.0,88.0,90.0,94.0,95.0,97.0,98.0,99.0,100.0,101.0,102.0,103.0,104.0,105.0,106.0,108.0,109.0,111.0,112.0,114.0,115.0,116.0,119.0,122.0,127.0,130.0,133.0,134.0,138.0,147.0,148.0,149.0,150.0,157.0,27.0,89.0,94.0,95.0,97.0,98.0,99.0,103.0,104.0,108.0,109.0,110.0,111.0,112.0,113.0,114.0,115.0,117.0,118.0,119.0,120.0,121.0,122.0,125.0,126.0,127.0,128.0,130.0,131.0,135.0,102.0,103.0,104.0,105.0,106.0,107.0,108.0,109.0,110.0,111.0,112.0,113.0,114.0,115.0,116.0,117.0,118.0,119.0,120.0,121.0,123.0,124.0,125.0,127.0,131.0,132.0,134.0,96.0,99.0,101.0,108.0,109.0,110.0,111.0,112.0,114.0,115.0,116.0,117.0,118.0,119.0,120.0,121.0,122.0,123.0,124.0,125.0,127.0,128.0,61.0,70.0,82.0,87.0,90.0,96.0,100.0,102.0,104.0,105.0,106.0,107.0,108.0,109.0,110.0,111.0,112.0,113.0,114.0,115.0,116.0,117.0,118.0,121.0,124.0,129.0,130.0,132.0,135.0,136.0,137.0,141.0,142.0,143.0,146.0,147.0,148.0,150.0,25.0,88.0,92.0,93.0,94.0,95.0,96.0,97.0,98.0,99.0,100.0,101.0,102.0,104.0,105.0,106.0,108.0,109.0,110.0,111.0,112.0,113.0,114.0,115.0,116.0,117.0,118.0,120.0,123.0,129.0,134.0,72.0,92.0,94.0,95.0,96.0,97.0,98.0,99.0,100.0,101.0,102.0,103.0,104.0,105.0,106.0,108.0,109.0,111.0,112.0,85.0,88.0,94.0,95.0,96.0,97.0,98.0,99.0,100.0,101.0,102.0,103.0,104.0,106.0,108.0,116.0,124.0,139.0,80.0,87.0,88.0,89.0,90.0,91.0,92.0,93.0,94.0,95.0,96.0,97.0,98.0,99.0,100.0,101.0,102.0,103.0,104.0,107.0,108.0,109.0,114.0,117.0,118.0,119.0,120.0,122.0,123.0,125.0,127.0,131.0,134.0,135.0,143.0,42.0,83.0,86.0,87.0,90.0,91.0,92.0,94.0,95.0,96.0,97.0,99.0,100.0,101.0,102.0,103.0,105.0,107.0,108.0,109.0,110.0,111.0,112.0,113.0,114.0,115.0,116.0,117.0,119.0,120.0,121.0,131.0,132.0,133.0,135.0,137.0,156.0,65.0,82.0,84.0,89.0,90.0,91.0,92.0,95.0,96.0,97.0,98.0,99.0,100.0,101.0,102.0,103.0,104.0,105.0,106.0,107.0,108.0,109.0,110.0,111.0,112.0,113.0,114.0,115.0,116.0,117.0,118.0,119.0,123.0,124.0,126.0,128.0,92.0,93.0,94.0,95.0,96.0,97.0,98.0,100.0,101.0,102.0,104.0,105.0,106.0,107.0,108.0,109.0,110.0,111.0,113.0,114.0,115.0,118.0,119.0,120.0,123.0,125.0,127.0,128.0,132.0,134.0,144.0,145.0,147.0,95.0,98.0,99.0,101.0,102.0,103.0,104.0,105.0,106.0,107.0,108.0,109.0,110.0,111.0,112.0,113.0,117.0,119.0,65.0,93.0,94.0,95.0,96.0,97.0,98.0,100.0,101.0,102.0,103.0,104.0,105.0,106.0,107.0,108.0,109.0,110.0,111.0,112.0,114.0,115.0,119.0,120.0,334.0,92.0,94.0,95.0,96.0,97.0,98.0,99.0,100.0,102.0,103.0,104.0,105.0,106.0,109.0,110.0,111.0,114.0,116.0,117.0,120.0,121.0,122.0,123.0,127.0,131.0,138.0,147.0,95.0,118.0,122.0,127.0,143.0,145.0,93.0,108.0,111.0,117.0,123.0,131.0,141.0,143.0,153.0,100.0,103.0,104.0,106.0,107.0,108.0,109.0,113.0,113.0,115.0,121.0,129.0,118.0,120.0,126.0,127.0,119.0,127.0,139.0,116.0,130.0,140.0,145.0,131.0,135.0,139.0,140.0,142.0,148.0,125.0,128.0,136.0,130.0,118.0,119.0,126.0,132.0,133.0,145.0,68.0,82.0,83.0,90.0,91.0,94.0,95.0,98.0,99.0,100.0,104.0,110.0,112.0,114.0,118.0,120.0,121.0,122.0,123.0,124.0,125.0,128.0,131.0,132.0,139.0,140.0,142.0,143.0,147.0,150.0,167.0,2.0,60.0,91.0,92.0,93.0,94.0,95.0,96.0,97.0,100.0,102.0,103.0,104.0,105.0,106.0,107.0,108.0,111.0,112.0,113.0,115.0,116.0,119.0,120.0,121.0,122.0,123.0,124.0,125.0,128.0,129.0,130.0,131.0,281.0,83.0,89.0,91.0,92.0,94.0,95.0,97.0,98.0,103.0,104.0,105.0,106.0,108.0,110.0,113.0,115.0,116.0,117.0,118.0,119.0,120.0,121.0,122.0,123.0,124.0,125.0,126.0,129.0,130.0,143.0,116.0,121.0,145.0,106.0,109.0,112.0,114.0,115.0,116.0,119.0,122.0,123.0,126.0,127.0,128.0,129.0,130.0,131.0,132.0,133.0,135.0,136.0,137.0,138.0,139.0,140.0,142.0,146.0,151.0,122.0,123.0,125.0,108.0,110.0,111.0,116.0,118.0,122.0,123.0,124.0,126.0,127.0,128.0,129.0,130.0,137.0,108.0,110.0,113.0,114.0,115.0,116.0,117.0,118.0,119.0,122.0,136.0,90.0,96.0,87.0,89.0,97.0,100.0,101.0,105.0,106.0,117.0,84.0,86.0,87.0,88.0,89.0,93.0,94.0,98.0,121.0,83.0,86.0,87.0,88.0,89.0,90.0,91.0,94.0,99.0,109.0,136.0,129.0,132.0,135.0,136.0,137.0,140.0,146.0,150.0,151.0,154.0,48.0,53.0,88.0,96.0,99.0,104.0,108.0,110.0,114.0,116.0,118.0,119.0,123.0,129.0,130.0,143.0,145.0,148.0,153.0,156.0,169.0,171.0,182.0,189.0,115.0,125.0,132.0,133.0,141.0,143.0,153.0,162.0,185.0,84.0,90.0,103.0,66.0,72.0,75.0,76.0,77.0,78.0,86.0,92.0,79.0,82.0,84.0,86.0,90.0,91.0,93.0,95.0,97.0,98.0,99.0,100.0,101.0,104.0,118.0,126.0,127.0,154.0,94.0,117.0,126.0,129.0,130.0,131.0,132.0,151.0,106.0,108.0,109.0,115.0,119.0,126.0,129.0,130.0,142.0,111.0,112.0,115.0,121.0,74.0,75.0,79.0,82.0,86.0,90.0,91.0,97.0,99.0,100.0,102.0,104.0,109.0,117.0,129.0,100.0,110.0,111.0,115.0,120.0,124.0,124.0,126.0,139.0,143.0,145.0,149.0,153.0,155.0,158.0,176.0,286.0,86.0,98.0,101.0,104.0,105.0,111.0,113.0,114.0,115.0,116.0,117.0,119.0,120.0,121.0,124.0,128.0,130.0,131.0,133.0,134.0,139.0,141.0,142.0,143.0,144.0,145.0,147.0,148.0,149.0,150.0,151.0,152.0,153.0,154.0,155.0,156.0,159.0,163.0,170.0,174.0,183.0,134.0,138.0,141.0,142.0,145.0,146.0,147.0,148.0,150.0,151.0,152.0,153.0,155.0,156.0,157.0,158.0,160.0,161.0,162.0,164.0,165.0,166.0,167.0,168.0,169.0,172.0,173.0,174.0,177.0,182.0,183.0,189.0,199.0,210.0,94.0,98.0,100.0,102.0,103.0,105.0,106.0,108.0,109.0,110.0,111.0,112.0,113.0,114.0,115.0,116.0,118.0,120.0,123.0,124.0,125.0,126.0,127.0,132.0,134.0,136.0,141.0,142.0,143.0,155.0,160.0,165.0,168.0,173.0,194.0,199.0,81.0,89.0,92.0,97.0,98.0,99.0,100.0,101.0,102.0,103.0,104.0,105.0,106.0,107.0,108.0,109.0,110.0,113.0,114.0,115.0,116.0,117.0,118.0,119.0,123.0,147.0,157.0,160.0,168.0,196.0,200.0,201.0,204.0,206.0,68.0,77.0,78.0,90.0,92.0,95.0,103.0,104.0,105.0,106.0,107.0,109.0,110.0,111.0,112.0,114.0,115.0,120.0,121.0,122.0,123.0,124.0,126.0,128.0,131.0,134.0,136.0,143.0,155.0,159.0,171.0,181.0,182.0,187.0,189.0,94.0,99.0,108.0,109.0,110.0,111.0,112.0,113.0,114.0,115.0,116.0,117.0,118.0,119.0,120.0,121.0,122.0,124.0,126.0,129.0,135.0,146.0,151.0,158.0,168.0,170.0,173.0,175.0,181.0,84.0,89.0,91.0,92.0,93.0,94.0,96.0,97.0,98.0,101.0,103.0,104.0,105.0,107.0,108.0,109.0,110.0,111.0,112.0,113.0,114.0,115.0,116.0,117.0,118.0,119.0,121.0,123.0,124.0,125.0,126.0,131.0,90.0,107.0,110.0,116.0,123.0,124.0,125.0,126.0,138.0,161.0,41.0,42.0,43.0,138.0,145.0,41.0,88.0,89.0,90.0,91.0,93.0,94.0,96.0,97.0,99.0,100.0,101.0,106.0,110.0,112.0,114.0,119.0,120.0,124.0,126.0,127.0,129.0,130.0,133.0,134.0,135.0,136.0,137.0,138.0,139.0,140.0,142.0,143.0,144.0,145.0,146.0,98.0,102.0,103.0,104.0,106.0,107.0,108.0,109.0,110.0,112.0,113.0,114.0,115.0,116.0,117.0,121.0,122.0,123.0,126.0,127.0,129.0,130.0,131.0,132.0,133.0,134.0,135.0,136.0,137.0,138.0,139.0,140.0,141.0,142.0,143.0,144.0,151.0,98.0,100.0,102.0,104.0,106.0,107.0,108.0,111.0,112.0,113.0,114.0,116.0,118.0,119.0,120.0,121.0,122.0,123.0,124.0,125.0,126.0,128.0,130.0,131.0,132.0,134.0,143.0,147.0,93.0,101.0,105.0,109.0,112.0,120.0,147.0,93.0,95.0,103.0,105.0,106.0,107.0,108.0,110.0,111.0,112.0,114.0,118.0,127.0,101.0,105.0,108.0,109.0,114.0,117.0,142.0,-4.0,-3.0,-2.0,-1.0,0.0,1.0,12.0,-10.0,-9.0,-8.0,-5.0,-3.0,-2.0,118.0,120.0,122.0,124.0,125.0,127.0,130.0,131.0,134.0,135.0,136.0,137.0,138.0,139.0,141.0,143.0,144.0,145.0,149.0,153.0,154.0,156.0,157.0,159.0,160.0,161.0,162.0,168.0,171.0,176.0,177.0,178.0,179.0,190.0,191.0,194.0,195.0,87.0,89.0,91.0,93.0,96.0,98.0,101.0,102.0,108.0,111.0,112.0,114.0,115.0,116.0,118.0,119.0,120.0,121.0,123.0,124.0,125.0,129.0,130.0,132.0,134.0,137.0,140.0,144.0,145.0,146.0,147.0,149.0,150.0,151.0,152.0,153.0,154.0,155.0,156.0,158.0,161.0,164.0,90.0,93.0,96.0,102.0,103.0,104.0,105.0,106.0,107.0,108.0,109.0,110.0,111.0,112.0,113.0,114.0,116.0,117.0,119.0,120.0,121.0,122.0,123.0,124.0,127.0,131.0,133.0,143.0,149.0,153.0,156.0,157.0,158.0,161.0,164.0,95.0,97.0,99.0,100.0,101.0,102.0,103.0,104.0,105.0,106.0,107.0,108.0,110.0,111.0,112.0,114.0,116.0,117.0,118.0,119.0,120.0,121.0,122.0,124.0,125.0,126.0,127.0,128.0,129.0,135.0,136.0,95.0,96.0,97.0,98.0,99.0,100.0,101.0,102.0,103.0,104.0,106.0,109.0,110.0,111.0,-1.0,110.0,113.0,119.0,123.0,110.0,111.0,114.0,118.0,105.0,109.0,130.0,99.0,108.0,110.0,126.0,112.0,124.0,134.0,137.0,131.0,132.0,136.0,110.0,120.0,128.0,121.0,129.0,137.0,142.0,133.0,143.0,146.0,157.0,138.0,143.0,150.0,111.0,115.0,116.0,134.0,111.0,117.0,124.0,125.0,127.0,130.0,132.0,140.0,143.0,102.0,105.0,123.0,125.0,126.0,127.0,128.0,130.0,134.0,153.0,132.0,147.0,151.0,152.0,161.0,179.0,106.0,108.0,112.0,115.0,116.0,117.0,119.0,120.0,121.0,122.0,124.0,125.0,126.0,127.0,128.0,129.0,132.0,134.0,135.0,142.0,146.0,150.0,161.0,105.0,106.0,111.0,112.0,113.0,115.0,117.0,119.0,123.0,124.0,127.0,129.0,130.0,133.0,137.0,113.0,120.0,140.0,145.0,116.0,118.0,119.0,125.0,126.0,127.0,133.0,134.0,136.0,144.0,158.0,159.0,163.0,128.0,156.0,-35.0,-34.0,-36.0,-35.0,-34.0,-37.0,-36.0,-35.0,143.0,-12.0,-5.0,-4.0,-3.0,-2.0,2.0,4.0,78.0,83.0,86.0,89.0,90.0,92.0,94.0,95.0,101.0,102.0,103.0,104.0,105.0,106.0,107.0,108.0,109.0,114.0,116.0,117.0,118.0,119.0,120.0,122.0,123.0,124.0,125.0,128.0,129.0,130.0,131.0,132.0,134.0,143.0,144.0,85.0,88.0,89.0,93.0,94.0,97.0,99.0,101.0,102.0,103.0,105.0,106.0,107.0,108.0,109.0,112.0,113.0,114.0,115.0,116.0,117.0,118.0,119.0,121.0,122.0,124.0,125.0,129.0,130.0,134.0,135.0,137.0,138.0,140.0,142.0,143.0,145.0,146.0,97.0,109.0,113.0,115.0,116.0,117.0,118.0,119.0,120.0,121.0,122.0,123.0,124.0,125.0,126.0,127.0,128.0,129.0,130.0,131.0,132.0,134.0,139.0,151.0,74.0,84.0,85.0,93.0,95.0,107.0,109.0,111.0,113.0,114.0,117.0,118.0,123.0,124.0,125.0,126.0,127.0,128.0,129.0,130.0,131.0,132.0,134.0,135.0,136.0,137.0,138.0,139.0,140.0,83.0,97.0,103.0,109.0,111.0,114.0,115.0,116.0,117.0,118.0,119.0,120.0,121.0,122.0,123.0,124.0,125.0,127.0,128.0,129.0,130.0,132.0,133.0,134.0,135.0,137.0,138.0,141.0,149.0,116.0,73.0,75.0,83.0,84.0,88.0,93.0,94.0,96.0,97.0,101.0,102.0,109.0,119.0,77.0,81.0,84.0,85.0,88.0,93.0,96.0,-39.0,-37.0,-21.0,-20.0,-19.0,-18.0,-17.0,-16.0,-15.0,22.0,99.0,104.0,108.0,109.0,110.0,112.0,113.0,116.0,118.0,119.0,120.0,121.0,122.0,123.0,125.0,129.0,131.0,137.0,96.0,98.0,101.0,102.0,104.0,105.0,106.0,107.0,108.0,109.0,110.0,111.0,112.0,114.0,115.0,116.0,117.0,118.0,119.0,120.0,121.0,123.0,124.0,125.0,127.0,129.0,131.0,132.0,133.0,103.0,114.0,115.0,116.0,117.0,118.0,119.0,120.0,121.0,122.0,123.0,124.0,125.0,126.0,127.0,128.0,130.0,132.0,133.0,134.0,135.0,136.0,137.0,138.0,140.0,141.0,143.0,145.0,148.0,149.0,102.0,111.0,115.0,117.0,118.0,120.0,121.0,122.0,123.0,124.0,125.0,126.0,127.0,128.0,129.0,130.0,131.0,132.0,134.0,140.0,114.0,115.0,117.0,118.0,119.0,121.0,122.0,123.0,124.0,125.0,126.0,127.0,128.0,129.0,130.0,131.0,132.0,133.0,134.0,135.0,136.0,138.0,139.0,140.0,84.0,99.0,100.0,107.0,112.0,113.0,114.0,115.0,117.0,118.0,120.0,121.0,122.0,123.0,124.0,125.0,126.0,127.0,128.0,129.0,130.0,131.0,132.0,133.0,134.0,135.0,136.0,137.0,96.0,98.0,100.0,103.0,105.0,106.0,107.0,109.0,110.0,111.0,114.0,115.0,116.0,121.0,130.0,149.0,156.0,173.0,176.0,189.0,71.0,75.0,79.0,83.0,86.0,88.0,91.0,94.0,98.0,99.0,102.0,104.0,105.0,110.0,112.0,114.0,127.0,158.0,170.0,90.0,92.0,95.0,97.0,100.0,101.0,103.0,105.0,107.0,112.0,113.0,114.0,115.0,120.0,121.0,122.0,107.0,108.0,109.0,111.0,113.0,115.0,116.0,133.0,154.0,158.0,178.0,81.0,95.0,99.0,69.0,82.0,85.0,87.0,91.0,93.0,83.0,73.0,83.0,86.0,87.0,91.0,94.0,96.0,100.0,65.0,67.0,70.0,72.0,74.0,76.0,78.0,79.0,82.0,84.0,85.0,87.0,89.0,91.0,93.0,96.0,97.0,98.0,100.0,101.0,102.0,73.0,74.0,75.0,76.0,77.0,78.0,79.0,80.0,81.0,82.0,83.0,84.0,85.0,86.0,87.0,89.0,90.0,91.0,93.0,94.0,101.0,107.0,118.0,126.0,148.0,160.0,169.0,119.0,122.0,125.0,127.0,129.0,111.0,114.0,116.0,118.0,125.0,151.0,161.0,169.0,110.0,112.0,114.0,115.0,116.0,117.0,119.0,120.0,121.0,122.0,124.0,126.0,127.0,132.0,117.0,118.0,124.0,129.0,131.0,132.0,133.0,136.0,139.0,142.0,117.0,121.0,134.0,139.0,96.0,101.0,103.0,105.0,109.0,122.0,123.0,127.0,134.0,142.0,144.0,147.0,91.0,92.0,93.0,94.0,95.0,97.0,100.0,102.0,152.0,87.0,93.0,95.0,96.0,98.0,99.0,101.0,102.0,103.0,104.0,105.0,106.0,107.0,108.0,111.0,116.0,128.0,93.0,95.0,96.0,97.0,98.0,99.0,101.0,122.0,99.0,103.0,107.0,110.0,113.0,115.0,146.0,149.0,108.0,116.0,122.0,125.0,137.0,138.0,140.0,145.0,92.0,94.0,96.0,105.0,106.0,109.0,110.0,111.0,115.0,126.0,127.0,128.0,132.0,133.0,134.0,135.0,136.0,139.0,102.0,107.0,108.0,110.0,113.0,116.0,117.0,118.0,119.0,120.0,123.0,124.0,131.0,136.0,104.0,109.0,110.0,113.0,115.0,118.0,119.0,122.0,125.0,126.0,127.0,128.0,131.0,133.0,135.0,141.0,157.0,173.0,193.0,209.0,76.0,90.0,103.0,119.0,120.0,149.0,159.0,89.0,92.0,94.0,96.0,105.0,116.0,117.0,131.0,138.0,140.0,152.0,159.0,97.0,102.0,103.0,105.0,106.0,107.0,108.0,111.0,126.0,162.0,114.0,115.0,116.0,117.0,119.0,120.0,122.0,124.0,125.0,126.0,128.0,132.0,133.0,139.0,146.0,165.0,128.0,129.0,130.0,132.0,133.0,134.0,135.0,136.0,137.0,138.0,139.0,140.0,141.0,144.0,124.0,126.0,128.0,130.0,132.0,133.0,134.0,135.0,136.0,137.0,139.0,140.0,122.0,123.0,124.0,126.0,129.0,130.0,132.0,133.0,134.0,135.0,138.0,128.0,134.0,136.0,137.0,139.0,140.0,145.0,133.0,139.0,82.0,87.0,107.0,112.0,115.0,124.0,130.0,131.0,138.0,140.0,143.0,145.0,147.0,151.0,152.0,82.0,102.0,110.0,111.0,116.0,117.0,121.0,124.0,149.0,170.0,180.0,187.0,116.0,120.0,121.0,122.0,123.0,125.0,128.0,132.0,135.0,137.0,122.0,124.0,125.0,132.0,118.0,128.0,131.0,110.0,111.0,112.0,124.0,111.0,112.0,115.0,116.0,115.0,118.0,117.0,105.0,124.0,116.0,125.0,134.0,130.0,129.0,131.0,132.0,135.0,142.0,119.0,121.0,133.0,135.0,169.0,126.0,128.0,129.0,127.0,130.0,134.0,135.0,113.0,116.0,125.0,129.0,130.0,136.0,128.0,129.0,130.0,131.0,132.0,135.0,138.0,140.0,111.0,116.0,92.0,94.0,95.0,96.0,103.0,105.0,106.0,107.0,108.0,109.0,110.0,111.0,113.0,114.0,115.0,116.0,117.0,118.0,120.0,121.0,122.0,123.0,127.0,128.0,130.0,124.0,128.0,133.0,142.0,95.0,104.0,106.0,107.0,68.0,71.0,75.0,77.0,79.0,81.0,94.0,110.0,116.0,119.0,139.0,67.0,68.0,69.0,70.0,71.0,73.0,75.0,77.0,80.0,82.0,69.0,74.0,75.0,78.0,95.0,96.0,99.0,102.0,89.0,91.0,92.0,94.0,97.0,98.0,102.0,104.0,106.0,111.0,116.0,88.0,95.0,96.0,97.0,98.0,99.0,100.0,101.0,102.0,103.0,89.0,91.0,111.0,114.0,114.0,142.0,142.0,145.0,147.0,148.0,151.0,152.0,155.0,163.0,111.0,117.0,118.0,119.0,137.0,107.0,129.0,131.0,113.0,117.0,120.0,122.0,126.0,128.0,129.0,130.0,134.0,100.0,114.0,116.0,117.0,118.0,119.0,123.0,125.0,127.0,131.0,138.0,143.0,145.0,147.0,149.0,150.0,167.0,184.0,104.0,109.0,114.0,118.0,119.0,121.0,122.0,127.0,129.0,131.0,133.0,145.0,149.0,85.0,88.0,90.0,94.0,97.0,100.0,101.0,104.0,109.0,113.0,116.0,108.0,123.0,130.0,141.0,172.0,118.0,131.0,142.0,144.0,149.0,150.0,153.0,161.0,164.0,116.0,118.0,121.0,124.0,98.0,106.0,112.0,114.0,110.0,113.0,115.0,116.0,115.0,127.0,140.0,114.0,117.0,119.0,126.0,110.0,111.0,114.0,130.0,135.0,137.0,145.0,114.0,118.0,123.0,129.0,116.0,117.0,120.0,123.0,122.0,129.0,132.0,141.0,121.0,132.0,133.0,131.0,135.0,136.0,137.0,130.0,140.0,147.0,163.0,111.0,115.0,116.0,124.0,125.0,129.0,131.0,133.0,136.0,140.0,145.0,147.0,148.0,150.0,154.0,156.0,159.0,118.0,127.0,128.0,129.0,130.0,131.0,132.0,134.0,136.0,137.0,138.0,139.0,142.0,148.0,150.0,162.0,129.0,132.0,134.0,124.0,130.0,132.0,136.0,139.0,141.0,142.0,147.0,126.0,130.0,137.0,120.0,121.0,133.0,135.0,119.0,126.0,127.0,132.0,105.0,109.0,115.0,119.0,116.0,127.0,140.0,123.0,125.0,130.0,149.0,108.0,113.0,116.0,109.0,124.0,128.0,129.0,121.0,123.0,127.0,132.0,108.0,111.0,112.0,117.0,111.0,118.0,126.0,117.0,130.0,143.0,125.0,129.0,130.0,131.0,134.0,135.0,136.0,137.0,139.0,140.0,141.0,144.0,149.0,135.0,136.0,137.0,139.0,140.0,141.0,143.0,145.0,147.0,116.0,128.0,133.0,134.0,135.0,138.0,98.0,124.0,125.0,129.0,131.0,135.0,144.0,122.0,128.0,130.0,133.0,118.0,125.0,126.0,127.0,112.0,114.0,115.0,160.0,111.0,128.0,132.0,134.0,120.0,131.0,136.0,123.0,128.0,132.0,137.0,134.0,137.0,142.0,145.0,133.0,157.0,118.0,134.0,136.0,138.0,119.0,145.0,155.0,159.0,100.0,101.0,107.0,112.0,113.0,118.0,119.0,121.0,122.0,124.0,125.0,126.0,127.0,130.0,132.0,134.0,136.0,138.0,141.0,142.0,144.0,145.0,98.0,102.0,105.0,107.0,112.0,118.0,119.0,120.0,123.0,127.0,102.0,104.0,110.0,111.0,114.0,115.0,116.0,117.0,118.0,121.0,122.0,123.0,128.0,130.0,132.0,133.0,139.0,156.0,166.0,113.0,115.0,116.0,119.0,120.0,121.0,123.0,124.0,125.0,127.0,128.0,134.0,102.0,107.0,116.0,118.0,123.0,126.0,131.0,134.0,142.0,145.0,146.0,163.0,164.0,166.0,170.0,175.0,177.0,179.0,185.0,196.0,221.0,227.0,244.0,105.0,106.0,107.0,108.0,109.0,119.0,121.0,124.0,139.0,140.0,143.0,145.0,147.0,148.0,149.0,153.0,158.0,163.0,164.0,169.0,171.0,172.0,115.0,125.0,128.0,132.0,143.0,153.0,159.0,166.0,128.0,114.0,121.0,123.0,125.0,126.0,129.0,130.0,132.0,134.0,139.0,145.0,116.0,126.0,128.0,130.0,131.0,133.0,134.0,136.0,142.0,151.0,132.0,141.0,143.0,145.0,147.0,158.0,123.0,126.0,129.0,131.0,132.0,134.0,135.0,160.0,112.0,113.0,114.0,133.0,184.0,80.0,81.0,85.0,87.0,91.0,107.0,108.0,114.0,116.0,130.0,138.0,143.0,77.0,79.0,82.0,88.0,90.0,130.0,152.0,163.0,89.0,91.0,96.0,97.0,101.0,109.0,119.0,128.0,131.0,147.0,113.0,121.0,132.0,161.0,164.0,94.0,100.0,103.0,104.0,106.0,107.0,115.0,119.0,124.0,136.0,147.0,150.0,152.0,153.0,154.0,155.0,158.0,64.0,90.0,91.0,97.0,101.0,105.0,113.0,115.0,117.0,124.0,127.0,128.0,129.0,131.0,133.0,135.0,136.0,87.0,92.0,93.0,94.0,95.0,96.0,97.0,99.0,100.0,101.0,102.0,106.0,108.0,79.0,85.0,87.0,91.0,94.0,97.0,98.0,99.0,101.0,104.0,105.0,106.0,109.0,114.0,116.0,88.0,92.0,93.0,94.0,98.0,101.0,102.0,105.0,108.0,109.0,113.0,122.0,86.0,97.0,98.0,99.0,110.0,115.0,102.0,105.0,107.0,108.0,111.0,112.0,114.0,117.0,120.0,99.0,109.0,110.0,113.0,119.0,77.0,81.0,83.0,87.0,90.0,108.0,132.0,117.0,128.0,137.0,95.0,100.0,104.0,105.0,109.0,125.0,140.0,161.0,109.0,110.0,123.0,137.0,141.0,148.0,135.0,137.0,127.0,131.0,169.0,127.0,131.0,133.0,138.0,101.0,104.0,105.0,106.0,108.0,136.0,137.0,113.0,115.0,116.0,118.0,119.0,120.0,121.0,124.0,126.0,127.0,130.0,133.0,134.0,114.0,115.0,116.0,117.0,119.0,121.0,124.0,167.0,116.0,123.0,125.0,127.0,132.0,134.0,138.0,139.0,140.0,141.0,154.0,157.0,170.0,112.0,131.0,137.0,138.0,139.0,141.0,143.0,144.0,150.0,152.0,153.0,158.0,108.0,109.0,113.0,117.0,174.0,77.0,94.0,99.0,101.0,105.0,110.0,111.0,113.0,115.0,117.0,118.0,119.0,120.0,135.0,138.0,142.0,145.0,160.0,154.0,129.0,146.0,153.0,155.0,177.0,179.0,110.0,114.0,117.0,120.0,159.0,178.0,88.0,90.0,94.0,99.0,100.0,101.0,106.0,107.0,109.0,113.0,115.0,121.0,123.0,125.0,138.0,147.0,156.0,174.0,101.0,105.0,106.0,107.0,109.0,110.0,112.0,118.0,120.0,121.0,122.0,123.0,124.0,126.0,128.0,140.0,106.0,111.0,112.0,114.0,116.0,121.0,122.0,124.0,130.0,135.0,141.0,79.0,93.0,104.0,109.0,115.0,119.0,138.0,84.0,85.0,86.0,88.0,94.0,95.0,97.0,98.0,99.0,100.0,101.0,103.0,104.0,109.0,112.0,115.0,134.0,160.0,85.0,90.0,93.0,96.0,97.0,99.0,102.0,110.0,111.0,112.0,113.0,114.0,115.0,116.0,119.0,121.0,124.0,128.0,130.0,132.0,106.0,107.0,108.0,110.0,111.0,112.0,113.0,114.0,115.0,116.0,118.0,120.0,121.0,122.0,123.0,124.0,130.0,104.0,105.0,112.0,113.0,114.0,115.0,116.0,117.0,118.0,120.0,121.0,130.0,131.0,129.0,130.0,133.0,134.0,137.0,142.0,95.0,119.0,120.0,129.0,140.0,162.0,167.0,182.0,187.0,209.0,226.0,90.0,95.0,96.0,101.0,112.0,114.0,123.0,143.0,148.0,155.0,158.0,164.0,168.0,171.0,174.0,177.0,205.0,103.0,113.0,114.0,121.0,125.0,132.0,137.0,140.0,142.0,143.0,144.0,151.0,152.0,155.0,164.0,166.0,168.0,171.0,174.0,187.0,99.0,100.0,102.0,103.0,106.0,111.0,118.0,121.0,125.0,135.0,138.0,140.0,141.0,142.0,143.0,145.0,147.0,149.0,154.0,87.0,89.0,91.0,96.0,97.0,99.0,101.0,104.0,105.0,112.0,113.0,118.0,120.0,123.0,126.0,133.0,143.0,86.0,94.0,105.0,108.0,113.0,116.0,117.0,118.0,122.0,124.0,125.0,126.0,129.0,130.0,131.0,132.0,135.0,160.0,92.0,107.0,110.0,133.0,95.0,114.0,118.0,125.0,157.0,162.0,164.0,128.0,143.0,146.0,147.0,153.0,96.0,97.0,113.0,115.0,120.0,121.0,122.0,125.0,133.0,153.0,162.0,163.0,167.0,174.0,181.0,100.0,120.0,122.0,124.0,126.0,127.0,131.0,150.0,155.0,157.0,161.0,164.0,172.0,106.0,107.0,109.0,119.0,142.0,152.0,179.0,121.0,129.0,137.0,150.0,125.0,131.0,134.0,136.0,139.0,120.0,121.0,131.0,156.0,160.0,130.0,134.0,135.0,136.0,137.0,143.0,145.0,158.0,169.0,176.0,118.0,135.0,136.0,137.0,152.0,163.0,171.0,77.0,79.0,85.0,89.0,94.0,97.0,98.0,100.0,103.0,107.0,109.0,110.0,111.0,113.0,114.0,122.0,104.0,105.0,107.0,108.0,111.0,112.0,113.0,114.0,115.0,116.0,121.0,123.0,126.0,130.0,105.0,106.0,108.0,110.0,112.0,122.0,126.0,138.0,146.0,149.0,170.0,75.0,77.0,79.0,80.0,84.0,91.0,97.0,99.0,100.0,105.0,112.0,113.0,125.0,91.0,92.0,93.0,94.0,95.0,96.0,97.0,98.0,106.0,108.0,115.0,117.0,118.0,125.0,132.0,108.0,109.0,112.0,114.0,115.0,118.0,121.0,124.0,129.0,130.0,131.0,136.0,80.0,83.0,84.0,87.0,91.0,94.0,98.0,104.0,128.0,78.0,82.0,89.0,94.0,96.0,101.0,102.0,105.0,108.0,110.0,111.0,113.0,114.0,115.0,123.0,125.0,128.0,91.0,92.0,93.0,103.0,104.0,118.0,123.0,70.0,72.0,80.0,88.0,90.0,104.0,105.0,113.0,72.0,86.0,87.0,97.0,101.0,102.0,104.0,105.0,106.0,112.0,113.0,114.0,115.0,119.0,121.0,122.0,124.0,132.0,81.0,85.0,89.0,91.0,93.0,95.0,97.0,100.0,107.0,108.0,111.0,113.0,115.0,117.0,118.0,119.0,123.0,128.0,86.0,88.0,89.0,90.0,91.0,92.0,94.0,96.0,97.0,98.0,99.0,100.0,101.0,103.0,106.0,86.0,87.0,91.0,92.0,93.0,97.0,100.0,103.0,108.0,111.0,123.0,101.0,137.0,149.0,150.0,82.0,90.0,98.0,100.0,101.0,104.0,108.0,113.0,128.0,138.0,80.0,83.0,93.0,94.0,95.0,106.0,107.0,134.0,136.0,142.0,100.0,105.0,110.0,115.0,120.0,121.0,131.0,133.0,145.0,140.0,143.0,145.0,149.0,150.0,124.0,132.0,136.0,137.0,138.0,144.0,146.0,147.0,156.0,128.0,131.0,134.0,141.0,142.0,171.0,149.0,151.0,153.0,158.0,140.0,160.0,168.0,131.0,138.0,174.0,144.0,147.0,156.0,156.0,164.0,170.0,171.0,172.0,140.0,146.0,148.0,152.0,173.0,139.0,144.0,146.0,147.0,85.0,89.0,108.0,113.0,114.0,116.0,118.0,119.0,122.0,123.0,124.0,127.0,129.0,131.0,132.0,135.0,136.0,138.0,139.0,140.0,141.0,142.0,145.0,150.0,110.0,114.0,119.0,120.0,126.0,129.0,96.0,104.0,105.0,108.0,109.0,110.0,111.0,112.0,113.0,114.0,115.0,116.0,117.0,118.0,120.0,131.0,88.0,92.0,100.0,102.0,104.0,105.0,108.0,110.0,111.0,114.0,116.0,117.0,118.0,120.0,122.0,123.0,124.0,130.0,134.0,135.0,137.0,138.0,139.0,140.0,142.0,111.0,90.0,101.0,111.0,113.0,116.0,122.0,128.0,137.0,140.0,95.0,99.0,100.0,101.0,102.0,103.0,104.0,105.0,106.0,109.0,110.0,113.0,114.0,115.0,116.0,118.0,103.0,104.0,105.0,106.0,107.0,110.0,113.0,133.0,138.0,80.0,83.0,93.0,94.0,95.0,96.0,97.0,99.0,97.0,99.0,101.0,102.0,103.0,106.0,109.0,110.0,118.0,124.0,125.0,130.0,135.0,136.0,137.0,141.0,176.0,68.0,76.0,107.0,110.0,111.0,113.0,117.0,122.0,125.0,92.0,95.0,96.0,97.0,98.0,101.0,103.0,105.0,110.0,112.0,113.0,116.0,124.0,94.0,111.0,112.0,117.0,132.0,167.0,100.0,104.0,105.0,94.0,106.0,109.0,110.0,115.0,125.0,128.0,132.0,136.0,138.0,147.0,148.0,149.0,170.0,180.0,97.0,98.0,100.0,108.0,109.0,113.0,117.0,118.0,122.0,127.0,135.0,141.0,144.0,146.0,147.0,150.0,108.0,109.0,111.0,113.0,120.0,150.0,151.0,156.0,158.0,159.0,162.0,172.0,104.0,120.0,130.0,134.0,136.0,147.0,129.0,130.0,141.0,143.0,135.0,142.0,133.0,136.0,150.0,139.0,141.0,155.0,110.0,123.0,131.0,103.0,118.0,124.0,132.0,134.0,149.0,164.0,166.0,119.0,122.0,125.0,142.0,125.0,127.0,141.0,144.0,138.0,140.0,141.0,144.0,119.0,133.0,142.0,183.0,119.0,126.0,125.0,130.0,138.0,147.0,136.0,140.0,141.0,149.0,153.0,196.0,85.0,87.0,90.0,91.0,93.0,94.0,95.0,100.0,103.0,106.0,113.0,121.0,124.0,127.0,128.0,130.0,133.0,135.0,138.0,139.0,144.0,83.0,86.0,88.0,89.0,91.0,102.0,104.0,105.0,107.0,108.0,109.0,110.0,111.0,112.0,128.0,143.0,157.0,162.0,164.0,207.0,90.0,93.0,97.0,106.0,109.0,115.0,120.0,123.0,126.0,128.0,129.0,136.0,138.0,141.0,142.0,160.0,98.0,103.0,104.0,107.0,108.0,111.0,120.0,121.0,123.0,124.0,98.0,100.0,101.0,103.0,104.0,107.0,108.0,115.0,116.0,117.0,123.0,126.0,127.0,129.0,137.0,149.0,95.0,97.0,103.0,105.0,106.0,107.0,108.0,113.0,115.0,117.0,119.0,121.0,130.0,95.0,103.0,181.0,-12.0,-6.0,-5.0,125.0,188.0,202.0,-6.0,88.0,90.0,91.0,92.0,93.0,94.0,95.0,96.0,97.0,98.0,99.0,100.0,101.0,102.0,103.0,104.0,105.0,106.0,109.0,111.0,113.0,114.0,115.0,117.0,118.0,123.0,126.0,133.0,138.0,146.0,149.0,190.0,91.0,92.0,93.0,95.0,96.0,98.0,100.0,101.0,102.0,103.0,104.0,105.0,106.0,107.0,108.0,109.0,110.0,111.0,112.0,113.0,114.0,115.0,116.0,117.0,118.0,120.0,121.0,122.0,123.0,138.0,139.0,144.0,151.0,160.0,169.0,109.0,112.0,116.0,118.0,119.0,120.0,121.0,122.0,123.0,124.0,125.0,126.0,127.0,128.0,129.0,130.0,140.0,143.0,145.0,146.0,148.0,149.0,152.0,153.0,155.0,156.0,159.0,161.0,162.0,85.0,86.0,87.0,88.0,89.0,90.0,91.0,93.0,94.0,95.0,96.0,97.0,98.0,99.0,100.0,101.0,102.0,104.0,105.0,106.0,107.0,108.0,109.0,110.0,112.0,113.0,114.0,115.0,132.0,138.0,75.0,84.0,85.0,87.0,90.0,91.0,94.0,96.0,99.0,102.0,103.0,113.0,114.0,116.0,117.0,118.0,119.0,122.0,123.0,124.0,127.0,128.0,0.0,1.0,6.0,7.0,10.0,140.0,153.0,7.0,144.0,145.0,148.0,150.0,152.0,153.0,154.0,158.0,159.0,160.0,161.0,164.0,165.0,166.0,167.0,168.0,169.0,170.0,172.0,173.0,174.0,175.0,176.0,178.0,179.0,180.0,181.0,182.0,183.0,184.0,185.0,190.0,151.0,158.0,159.0,161.0,162.0,163.0,164.0,165.0,166.0,167.0,168.0,170.0,171.0,172.0,173.0,174.0,175.0,176.0,177.0,178.0,180.0,181.0,182.0,184.0,186.0,187.0,193.0,194.0,200.0,208.0,209.0,210.0,213.0,105.0,109.0,112.0,114.0,115.0,121.0,122.0,124.0,127.0,128.0,129.0,131.0,132.0,133.0,135.0,137.0,138.0,139.0,140.0,141.0,142.0,143.0,145.0,146.0,147.0,148.0,153.0,156.0,157.0,159.0,163.0,166.0,168.0,179.0,181.0,183.0,187.0,191.0,123.0,74.0,87.0,92.0,94.0,98.0,106.0,113.0,114.0,116.0,117.0,118.0,119.0,123.0,124.0,125.0,132.0,147.0,122.0,125.0,128.0,129.0,131.0,186.0,192.0,196.0,70.0,75.0,76.0,80.0,107.0,110.0,115.0,118.0,121.0,124.0,131.0,138.0,140.0,141.0,143.0,150.0,104.0,121.0,122.0,127.0,128.0,130.0,135.0,136.0,140.0,141.0,144.0,147.0,152.0,153.0,166.0,201.0,211.0,215.0,235.0,79.0,92.0,95.0,96.0,98.0,99.0,101.0,103.0,105.0,106.0,114.0,116.0,118.0,122.0,153.0,94.0,95.0,96.0,105.0,106.0,119.0,84.0,86.0,88.0,90.0,91.0,93.0,95.0,98.0,99.0,119.0,89.0,94.0,96.0,98.0,99.0,100.0,102.0,114.0,90.0,96.0,97.0,98.0,99.0,100.0,106.0,110.0,127.0,89.0,91.0,97.0,98.0,99.0,100.0,101.0,102.0,82.0,84.0,85.0,86.0,87.0,88.0,91.0,101.0,103.0,80.0,90.0,104.0,105.0,111.0,116.0,119.0,123.0,136.0,106.0,107.0,109.0,110.0,115.0,155.0,157.0,162.0,164.0,143.0,157.0,168.0,71.0,78.0,88.0,97.0,100.0,104.0,107.0,111.0,118.0,121.0,122.0,123.0,128.0,147.0,151.0,152.0,64.0,68.0,85.0,89.0,90.0,91.0,94.0,97.0,98.0,100.0,103.0,105.0,109.0,114.0,117.0,122.0,84.0,89.0,91.0,93.0,95.0,106.0,110.0,118.0,92.0,122.0,68.0,82.0,84.0,85.0,86.0,87.0,89.0,90.0,91.0,97.0,106.0,91.0,93.0,94.0,103.0,109.0,80.0,88.0,89.0,90.0,92.0,93.0,95.0,97.0,99.0,102.0,108.0,87.0,89.0,90.0,91.0,93.0,94.0,95.0,96.0,97.0,98.0,100.0,82.0,94.0,96.0,97.0,98.0,104.0,119.0,144.0,150.0,170.0,174.0,113.0,115.0,117.0,129.0,134.0,146.0,84.0,88.0,93.0,95.0,101.0,106.0,107.0,110.0,117.0,120.0,123.0,144.0,164.0,170.0,91.0,94.0,105.0,107.0,108.0,114.0,115.0,117.0,118.0,126.0,127.0,128.0,129.0,132.0,134.0,135.0,143.0,151.0,125.0,128.0,129.0,139.0,140.0,147.0,148.0,150.0,157.0,161.0,192.0,78.0,82.0,87.0,92.0,94.0,95.0,96.0,99.0,103.0,105.0,106.0,109.0,111.0,117.0,118.0,120.0,122.0,123.0,134.0,140.0,141.0,83.0,85.0,86.0,87.0,88.0,89.0,90.0,91.0,93.0,94.0,95.0,97.0,98.0,100.0,101.0,103.0,104.0,105.0,106.0,107.0,109.0,110.0,112.0,113.0,115.0,116.0,118.0,119.0,124.0,125.0,127.0,129.0,131.0,249.0,260.0,97.0,98.0,99.0,101.0,102.0,104.0,105.0,106.0,107.0,108.0,109.0,110.0,111.0,112.0,113.0,114.0,115.0,116.0,117.0,118.0,119.0,120.0,121.0,122.0,124.0,126.0,314.0,84.0,85.0,86.0,88.0,92.0,93.0,94.0,95.0,96.0,97.0,98.0,99.0,100.0,101.0,102.0,103.0,104.0,105.0,106.0,107.0,108.0,116.0,-45.0,78.0,81.0,82.0,83.0,85.0,86.0,87.0,88.0,89.0,90.0,91.0,92.0,93.0,95.0,96.0,98.0,100.0,101.0,103.0,104.0,105.0,106.0,107.0,109.0,110.0,111.0,114.0,116.0,118.0,124.0,129.0,171.0,86.0,88.0,89.0,90.0,91.0,92.0,93.0,94.0,95.0,96.0,97.0,98.0,99.0,100.0,101.0,102.0,103.0,104.0,106.0,107.0,109.0,110.0,111.0,113.0,115.0,123.0,81.0,87.0,88.0,89.0,90.0,92.0,93.0,94.0,95.0,96.0,97.0,98.0,99.0,100.0,101.0,102.0,103.0,104.0,105.0,106.0,107.0,112.0,113.0,114.0,115.0,136.0,139.0,143.0,229.0,71.0,75.0,78.0,82.0,83.0,86.0,88.0,91.0,94.0,95.0,97.0,98.0,101.0,102.0,103.0,110.0,133.0,92.0,96.0,97.0,98.0,101.0,102.0,103.0,106.0,107.0,108.0,111.0,119.0,109.0,127.0,135.0,142.0,145.0,-16.0,-15.0,-14.0,-12.0,-11.0,-5.0,-53.0,-52.0,-51.0,-50.0,-49.0,-35.0,-34.0,-18.0,-17.0,-16.0,-15.0,-14.0,-13.0,97.0,99.0,101.0,105.0,106.0,108.0,115.0,124.0,126.0,79.0,82.0,83.0,85.0,86.0,88.0,90.0,91.0,93.0,94.0,95.0,96.0,97.0,98.0,99.0,100.0,101.0,102.0,103.0,104.0,105.0,106.0,108.0,109.0,110.0,111.0,115.0,116.0,119.0,121.0,122.0,124.0,125.0,127.0,131.0,132.0,79.0,91.0,92.0,93.0,94.0,95.0,96.0,98.0,99.0,100.0,101.0,102.0,103.0,104.0,105.0,106.0,107.0,108.0,109.0,110.0,112.0,113.0,115.0,116.0,117.0,118.0,120.0,121.0,123.0,124.0,125.0,127.0,129.0,131.0,81.0,83.0,91.0,92.0,93.0,94.0,95.0,96.0,98.0,99.0,100.0,101.0,102.0,103.0,105.0,106.0,107.0,108.0,109.0,111.0,112.0,114.0,117.0,119.0,120.0,121.0,123.0,124.0,125.0,126.0,75.0,82.0,90.0,94.0,96.0,97.0,99.0,100.0,101.0,102.0,103.0,104.0,105.0,106.0,107.0,108.0,109.0,110.0,111.0,113.0,115.0,116.0,118.0,119.0,120.0,81.0,84.0,87.0,89.0,90.0,91.0,92.0,95.0,96.0,99.0,100.0,101.0,102.0,103.0,104.0,105.0,106.0,107.0,108.0,109.0,110.0,111.0,112.0,113.0,114.0,115.0,116.0,117.0,118.0,119.0,122.0,60.0,61.0,63.0,64.0,65.0,67.0,68.0,69.0,70.0,72.0,73.0,74.0,75.0,76.0,77.0,79.0,80.0,84.0,85.0,86.0,87.0,88.0,89.0,92.0,93.0,95.0,96.0,97.0,98.0,101.0,102.0,103.0,104.0,111.0,115.0,117.0,119.0,134.0,82.0,83.0,84.0,85.0,86.0,87.0,88.0,89.0,90.0,91.0,92.0,93.0,94.0,95.0,96.0,97.0,98.0,101.0,105.0,108.0,112.0,113.0,125.0,127.0,128.0,154.0,91.0,93.0,95.0,97.0,98.0,99.0,100.0,101.0,102.0,103.0,105.0,106.0,107.0,109.0,110.0,111.0,112.0,113.0,114.0,115.0,116.0,117.0,118.0,119.0,120.0,121.0,123.0,124.0,125.0,127.0,128.0,129.0,98.0,100.0,109.0,111.0,113.0,114.0,115.0,116.0,117.0,118.0,119.0,120.0,121.0,122.0,123.0,124.0,125.0,126.0,128.0,129.0,130.0,113.0,114.0,116.0,119.0,123.0,124.0,125.0,126.0,127.0,128.0,129.0,130.0,131.0,132.0,133.0,134.0,135.0,136.0,137.0,138.0,140.0,122.0,127.0,75.0,87.0,88.0,90.0,92.0,95.0,97.0,109.0,110.0,112.0,116.0,118.0,119.0,120.0,121.0,127.0,132.0,140.0,146.0,117.0,123.0,85.0,86.0,93.0,94.0,96.0,101.0,102.0,103.0,105.0,106.0,109.0,110.0,112.0,104.0,106.0,108.0,109.0,110.0,131.0,133.0,134.0,77.0,79.0,83.0,84.0,86.0,60.0,69.0,78.0,79.0,80.0,84.0,119.0,83.0,88.0,91.0,95.0,100.0,80.0,83.0,85.0,86.0,87.0,89.0,91.0,93.0,94.0,95.0,96.0,97.0,98.0,100.0,102.0,111.0,144.0,146.0,177.0,276.0,277.0,278.0,282.0,85.0,89.0,91.0,93.0,94.0,95.0,96.0,100.0,101.0,103.0,105.0,107.0,108.0,113.0,114.0,115.0,117.0,120.0,121.0,122.0,124.0,129.0,130.0,132.0,135.0,136.0,141.0,142.0,143.0,147.0,150.0,152.0,161.0,162.0,173.0,180.0,182.0,203.0,273.0,274.0,275.0,276.0,277.0,95.0,97.0,98.0,99.0,100.0,101.0,102.0,103.0,104.0,105.0,106.0,108.0,110.0,111.0,112.0,113.0,114.0,115.0,116.0,117.0,118.0,119.0,120.0,122.0,123.0,124.0,125.0,129.0,130.0,133.0,134.0,84.0,85.0,87.0,91.0,95.0,96.0,97.0,98.0,99.0,101.0,102.0,103.0,104.0,105.0,108.0,109.0,110.0,112.0,113.0,114.0,115.0,116.0,117.0,118.0,119.0,120.0,121.0,122.0,125.0,126.0,128.0,129.0,130.0,135.0,136.0,144.0,183.0,240.0,96.0,97.0,99.0,100.0,101.0,102.0,103.0,104.0,105.0,106.0,108.0,109.0,110.0,111.0,112.0,113.0,114.0,115.0,116.0,120.0,123.0,129.0,131.0,133.0,136.0,140.0,141.0,146.0,147.0,149.0,150.0,128.0,130.0,132.0,133.0,135.0,103.0,151.0,55.0,59.0,69.0,86.0,96.0,97.0,100.0,103.0,104.0,106.0,108.0,109.0,118.0,115.0,119.0,125.0,110.0,122.0,124.0,84.0,88.0,92.0,96.0,98.0,99.0,101.0,102.0,103.0,104.0,105.0,106.0,107.0,108.0,113.0,115.0,118.0,119.0,93.0,97.0,100.0,101.0,102.0,106.0,109.0,111.0,113.0,115.0,117.0,125.0,129.0,109.0,125.0,128.0,129.0,130.0,133.0,99.0,109.0,111.0,114.0,116.0,117.0,118.0,119.0,133.0,96.0,115.0,142.0,134.0,136.0,137.0,191.0,132.0,133.0,144.0,170.0,174.0,115.0,117.0,124.0,132.0,119.0,121.0,124.0,126.0,121.0,127.0,129.0,117.0,127.0,125.0,126.0,129.0,136.0,124.0,129.0,130.0,131.0,130.0,133.0,134.0,137.0,127.0,139.0,115.0,116.0,127.0,123.0,99.0,109.0,110.0,114.0,116.0,129.0,131.0,133.0,134.0,88.0,92.0,94.0,95.0,96.0,98.0,99.0,100.0,101.0,103.0,104.0,110.0,111.0,112.0,119.0,121.0,129.0,132.0,94.0,98.0,100.0,104.0,105.0,108.0,109.0,113.0,114.0,117.0,118.0,119.0,120.0,124.0,122.0,125.0,126.0,130.0,132.0,135.0,138.0,139.0,142.0,149.0,92.0,93.0,99.0,110.0,116.0,121.0,122.0,123.0,125.0,127.0,128.0,136.0,137.0,107.0,110.0,112.0,117.0,118.0,119.0,120.0,121.0,122.0,123.0,124.0,129.0,97.0,99.0,106.0,107.0,110.0,111.0,113.0,114.0,121.0,122.0,125.0,133.0,105.0,106.0,107.0,112.0,114.0,117.0,118.0,119.0,120.0,122.0,123.0,124.0,126.0,127.0,128.0,68.0,71.0,72.0,74.0,75.0,80.0,83.0,91.0,118.0,115.0,116.0,118.0,122.0,127.0,130.0,132.0,135.0,137.0,141.0,115.0,119.0,147.0,100.0,138.0,86.0,87.0,89.0,90.0,91.0,92.0,93.0,94.0,95.0,96.0,98.0,101.0,104.0,106.0,107.0,114.0,116.0,92.0,97.0,99.0,100.0,101.0,102.0,105.0,106.0,107.0,111.0,88.0,89.0,90.0,91.0,95.0,98.0,99.0,106.0,108.0,112.0,114.0,121.0,124.0,139.0,111.0,116.0,117.0,119.0,96.0,97.0,102.0,105.0,107.0,113.0,95.0,96.0,97.0,100.0,103.0,105.0,94.0,99.0,101.0,104.0,105.0,106.0,116.0,119.0,121.0,123.0,124.0,127.0,134.0,135.0,116.0,126.0,87.0,89.0,91.0,100.0,103.0,109.0,110.0,115.0,120.0,121.0,123.0,125.0,127.0,133.0,136.0,137.0,138.0,141.0,144.0,151.0,109.0,110.0,111.0,112.0,113.0,114.0,115.0,116.0,117.0,109.0,111.0,112.0,113.0,114.0,115.0,116.0,117.0,118.0,119.0,113.0,117.0,123.0,104.0,110.0,114.0,84.0,89.0,90.0,91.0,92.0,93.0,94.0,96.0,97.0,98.0,99.0,100.0,101.0,102.0,104.0,105.0,106.0,107.0,108.0,114.0,115.0,116.0,118.0,123.0,98.0,102.0,107.0,122.0,129.0,133.0,96.0,100.0,101.0,102.0,103.0,104.0,105.0,107.0,111.0,112.0,114.0,119.0,120.0,121.0,122.0,127.0,129.0,136.0,91.0,96.0,120.0,129.0,69.0,95.0,99.0,103.0,104.0,105.0,106.0,107.0,108.0,110.0,113.0,114.0,115.0,116.0,117.0,93.0,95.0,104.0,105.0,106.0,107.0,108.0,109.0,110.0,111.0,113.0,114.0,115.0,91.0,101.0,104.0,105.0,106.0,107.0,109.0,110.0,112.0,113.0,108.0,111.0,112.0,115.0,116.0,118.0,121.0,123.0,126.0,127.0,128.0,141.0,123.0,132.0,151.0,117.0,129.0,117.0,-45.0,-44.0,-43.0,-42.0,-40.0,-37.0,-34.0,-33.0,-32.0,-31.0,-4.0,-3.0,-2.0,0.0,1.0,16.0,28.0,50.0,52.0,59.0,70.0,85.0,97.0,98.0,110.0,117.0,124.0,126.0,128.0,137.0,141.0,145.0,148.0,158.0,172.0,183.0,298.0,-68.0,-14.0,89.0,90.0,91.0,93.0,95.0,97.0,98.0,99.0,100.0,101.0,102.0,103.0,104.0,105.0,107.0,108.0,109.0,110.0,112.0,113.0,114.0,117.0,118.0,119.0,122.0,123.0,125.0,127.0,130.0,135.0,138.0,150.0,153.0,157.0,158.0,160.0,176.0,233.0,243.0,89.0,102.0,103.0,105.0,106.0,107.0,109.0,110.0,111.0,112.0,113.0,115.0,116.0,117.0,119.0,120.0,121.0,122.0,123.0,124.0,125.0,126.0,127.0,128.0,129.0,130.0,131.0,133.0,138.0,114.0,115.0,116.0,117.0,118.0,119.0,120.0,121.0,122.0,123.0,124.0,125.0,126.0,127.0,128.0,129.0,130.0,131.0,132.0,120.0,121.0,122.0,123.0,124.0,125.0,126.0,127.0,128.0,129.0,130.0,131.0,132.0,134.0,136.0,1.0,15.0,117.0,120.0,121.0,122.0,123.0,124.0,125.0,126.0,127.0,128.0,129.0,130.0,131.0,132.0,133.0,134.0,135.0,137.0,157.0,161.0,166.0,173.0,177.0,178.0,179.0,180.0,181.0,185.0,186.0,191.0,185.0,186.0,140.0,172.0,99.0,100.0,106.0,108.0,111.0,115.0,116.0,117.0,119.0,120.0,130.0,135.0,152.0,167.0,181.0,184.0,190.0,198.0,9.0,10.0,11.0,12.0,13.0,14.0,16.0,220.0,228.0,236.0,-7.0,-6.0,-5.0,-4.0,115.0,121.0,122.0,123.0,125.0,126.0,127.0,128.0,129.0,130.0,132.0,135.0,149.0,165.0,171.0,172.0,175.0,176.0,178.0,180.0,181.0,182.0,184.0,188.0,189.0,194.0,195.0,197.0,199.0,0.0,153.0,177.0,192.0,194.0,195.0,127.0,128.0,129.0,131.0,132.0,134.0,136.0,139.0,140.0,142.0,145.0,146.0,149.0,150.0,151.0,153.0,157.0,166.0,167.0,170.0,173.0,174.0,175.0,176.0,181.0,182.0,183.0,184.0,185.0,186.0,188.0,190.0,201.0,-4.0,-1.0,0.0,109.0,117.0,138.0,140.0,146.0,147.0,152.0,153.0,154.0,155.0,159.0,160.0,164.0,165.0,167.0,168.0,170.0,171.0,172.0,175.0,176.0,178.0,179.0,180.0,182.0,184.0,185.0,188.0,189.0,190.0,197.0,207.0,209.0,239.0,113.0,114.0,117.0,118.0,131.0,137.0,138.0,139.0,148.0,162.0,133.0,138.0,157.0,167.0,169.0,175.0,177.0,178.0,181.0,113.0,114.0,118.0,122.0,123.0,126.0,129.0,134.0,157.0,170.0,174.0,176.0,180.0,188.0,-34.0,-13.0,-12.0,-9.0,0.0,2.0,3.0,5.0,172.0,180.0,181.0,183.0,184.0,187.0,188.0,189.0,190.0,191.0,194.0,197.0,207.0,109.0,110.0,117.0,121.0,124.0,125.0,126.0,127.0,131.0,133.0,136.0,137.0,139.0,141.0,142.0,143.0,144.0,145.0,148.0,155.0,156.0,157.0,162.0,163.0,164.0,166.0,167.0,168.0,169.0,170.0,173.0,178.0,179.0,182.0,183.0,185.0,186.0,188.0,190.0,194.0,197.0,208.0,133.0,136.0,137.0,138.0,140.0,141.0,146.0,147.0,149.0,153.0,154.0,155.0,156.0,157.0,158.0,159.0,160.0,163.0,164.0,165.0,166.0,167.0,168.0,169.0,170.0,171.0,172.0,173.0,175.0,176.0,177.0,178.0,181.0,182.0,184.0,125.0,126.0,127.0,129.0,130.0,131.0,132.0,133.0,135.0,137.0,138.0,139.0,140.0,141.0,142.0,143.0,144.0,145.0,146.0,147.0,148.0,149.0,152.0,153.0,154.0,155.0,156.0,157.0,158.0,160.0,162.0,124.0,129.0,130.0,131.0,133.0,136.0,137.0,144.0,147.0,148.0,149.0,154.0,156.0,157.0,158.0,159.0,162.0,163.0,164.0,165.0,169.0,171.0,172.0,177.0,178.0,180.0,135.0,169.0,170.0,174.0,178.0,183.0,189.0,128.0,145.0,152.0,154.0,159.0,160.0,176.0,139.0,146.0,154.0,155.0,160.0,161.0,162.0,163.0,165.0,166.0,168.0,173.0,174.0,177.0,178.0,182.0,187.0,188.0,205.0,140.0,144.0,149.0,159.0,161.0,170.0,109.0,128.0,81.0,83.0,84.0,86.0,87.0,89.0,93.0,95.0,96.0,99.0,100.0,103.0,105.0,106.0,109.0,112.0,87.0,94.0,97.0,99.0,100.0,102.0,103.0,104.0,106.0,107.0,119.0,120.0,154.0,105.0,112.0,116.0,118.0,119.0,121.0,126.0,130.0,135.0,138.0,139.0,141.0,142.0,84.0,86.0,88.0,89.0,91.0,92.0,94.0,95.0,103.0,105.0,110.0,111.0,116.0,82.0,98.0,99.0,100.0,101.0,104.0,110.0,132.0,134.0,139.0,159.0,169.0,107.0,109.0,114.0,124.0,125.0,127.0,129.0,130.0,135.0,136.0,137.0,138.0,143.0,147.0,152.0,156.0,103.0,107.0,108.0,109.0,111.0,115.0,116.0,117.0,119.0,121.0,123.0,126.0,127.0,128.0,137.0,115.0,116.0,117.0,118.0,119.0,121.0,122.0,126.0,129.0,132.0,139.0,140.0,142.0,87.0,88.0,92.0,105.0,108.0,112.0,142.0,158.0,160.0,81.0,83.0,84.0,88.0,90.0,96.0,101.0,110.0,111.0,113.0,83.0,85.0,132.0,113.0,118.0,120.0,121.0,123.0,124.0,127.0,128.0,132.0,134.0,137.0,140.0,141.0,181.0,98.0,107.0,110.0,112.0,121.0,123.0,124.0,127.0,136.0,141.0,143.0,151.0,165.0,167.0,85.0,99.0,100.0,106.0,107.0,111.0,112.0,116.0,120.0,129.0,132.0,138.0,170.0,83.0,86.0,91.0,97.0,99.0,102.0,103.0,104.0,108.0,109.0,110.0,114.0,137.0,138.0,141.0,142.0,165.0,90.0,91.0,93.0,96.0,98.0,105.0,111.0,115.0,118.0,122.0,131.0,141.0,148.0,149.0,155.0,163.0,170.0,172.0,85.0,87.0,95.0,96.0,97.0,98.0,100.0,101.0,105.0,107.0,109.0,116.0,121.0,125.0,86.0,87.0,96.0,98.0,106.0,124.0,131.0,141.0,146.0,161.0,125.0,127.0,129.0,132.0,134.0,135.0,136.0,138.0,141.0,142.0,143.0,144.0,146.0,153.0,154.0,116.0,127.0,128.0,132.0,135.0,141.0,151.0,171.0,114.0,115.0,118.0,131.0,140.0,145.0,93.0,94.0,96.0,99.0,103.0,106.0,107.0,109.0,110.0,114.0,115.0,119.0,123.0,127.0,92.0,94.0,96.0,99.0,100.0,101.0,102.0,103.0,104.0,105.0,106.0,107.0,108.0,110.0,119.0,120.0,97.0,98.0,99.0,101.0,102.0,103.0,109.0,111.0,116.0,120.0,115.0,120.0,127.0,133.0,137.0,142.0,143.0,144.0,145.0,152.0,160.0,167.0,169.0,170.0,171.0,182.0,189.0,169.0,170.0,177.0,178.0,180.0,181.0,182.0,183.0,186.0,187.0,188.0,189.0,198.0,199.0,202.0,204.0,205.0,176.0,179.0,181.0,182.0,183.0,186.0,190.0,214.0,96.0,100.0,103.0,108.0,110.0,112.0,114.0,122.0,132.0,136.0,149.0,155.0,99.0,102.0,107.0,108.0,109.0,114.0,115.0,118.0,120.0,127.0,93.0,94.0,95.0,103.0,110.0,97.0,100.0,103.0,105.0,106.0,111.0,114.0,115.0,116.0,121.0,162.0,183.0,81.0,83.0,103.0,104.0,105.0,80.0,83.0,86.0,93.0,101.0,103.0,105.0,107.0,111.0,116.0,118.0,119.0,136.0,154.0,78.0,79.0,80.0,83.0,85.0,87.0,88.0,91.0,92.0,94.0,97.0,104.0,106.0,120.0,124.0,128.0,148.0,167.0,108.0,112.0,114.0,88.0,100.0,103.0,110.0,111.0,112.0,113.0,114.0,115.0,116.0,117.0,118.0,120.0,122.0,123.0,124.0,125.0,126.0,127.0,132.0,135.0,150.0,106.0,108.0,113.0,115.0,117.0,124.0,127.0,121.0,126.0,128.0,130.0,137.0,140.0,161.0,170.0,123.0,124.0,129.0,130.0,132.0,137.0,145.0,151.0,169.0,81.0,82.0,83.0,107.0,117.0,83.0,79.0,82.0,83.0,84.0,86.0,90.0,92.0,94.0,96.0,98.0,110.0,89.0,99.0,108.0,113.0,116.0,137.0,138.0,141.0,142.0,144.0,147.0,148.0,154.0,93.0,97.0,98.0,100.0,101.0,102.0,103.0,104.0,106.0,112.0,114.0,115.0,119.0,91.0,92.0,96.0,129.0,93.0,94.0,95.0,97.0,158.0,90.0,97.0,102.0,103.0,108.0,109.0,110.0,111.0,117.0,119.0,124.0,127.0,130.0,144.0,107.0,111.0,118.0,119.0,120.0,125.0,131.0,135.0,92.0,95.0,98.0,101.0,103.0,108.0,96.0,103.0,106.0,103.0,108.0,112.0,114.0,117.0,124.0,115.0,116.0,117.0,123.0,116.0,121.0,124.0,103.0,112.0,136.0,104.0,124.0,101.0,111.0,115.0,116.0,117.0,116.0,117.0,135.0,141.0,125.0,126.0,137.0,146.0,111.0,113.0,119.0,120.0,128.0,133.0,162.0,109.0,118.0,122.0,124.0,134.0,121.0,125.0,136.0,116.0,119.0,89.0,90.0,95.0,96.0,98.0,99.0,101.0,102.0,104.0,106.0,109.0,110.0,113.0,120.0,124.0,125.0,98.0,99.0,100.0,104.0,108.0,111.0,93.0,101.0,108.0,111.0,117.0,129.0,130.0,137.0,176.0,94.0,96.0,97.0,98.0,103.0,104.0,105.0,107.0,115.0,121.0,84.0,85.0,87.0,89.0,90.0,91.0,92.0,94.0,95.0,97.0,103.0,105.0,113.0,115.0,120.0,139.0,149.0,109.0,114.0,144.0,98.0,121.0,121.0,125.0,130.0,131.0,134.0,139.0,142.0,143.0,103.0,105.0,108.0,111.0,114.0,116.0,118.0,129.0,102.0,161.0,178.0,83.0,86.0,90.0,92.0,93.0,96.0,99.0,100.0,110.0,112.0,113.0,114.0,90.0,102.0,119.0,80.0,87.0,93.0,107.0,109.0,126.0,144.0,148.0,80.0,88.0,94.0,105.0,107.0,108.0,110.0,131.0,146.0,148.0,174.0,101.0,108.0,109.0,111.0,134.0,174.0,175.0,190.0,244.0,90.0,95.0,97.0,99.0,104.0,105.0,107.0,108.0,114.0,117.0,129.0,131.0,169.0,211.0,228.0,109.0,110.0,126.0,155.0,186.0,200.0,-1.0,23.0,36.0,42.0,44.0,47.0,68.0,70.0,76.0,87.0,88.0,102.0,104.0,106.0,112.0,114.0,115.0,116.0,119.0,126.0,127.0,128.0,130.0,132.0,133.0,138.0,141.0,145.0,148.0,151.0,153.0,155.0,159.0,163.0,164.0,169.0,80.0,86.0,92.0,93.0,95.0,96.0,97.0,98.0,99.0,101.0,102.0,103.0,104.0,105.0,106.0,107.0,108.0,109.0,111.0,112.0,113.0,114.0,115.0,116.0,117.0,118.0,119.0,120.0,121.0,122.0,123.0,124.0,126.0,127.0,128.0,129.0,131.0,132.0,134.0,135.0,136.0,138.0,141.0,142.0,144.0,149.0,150.0,153.0,157.0,74.0,81.0,86.0,87.0,88.0,89.0,92.0,94.0,95.0,96.0,97.0,98.0,100.0,101.0,102.0,103.0,104.0,105.0,106.0,107.0,108.0,109.0,110.0,112.0,113.0,114.0,115.0,116.0,117.0,118.0,119.0,120.0,121.0,122.0,123.0,126.0,127.0,128.0,129.0,130.0,132.0,133.0,139.0,142.0,159.0,96.0,98.0,102.0,103.0,106.0,108.0,109.0,112.0,118.0,119.0,120.0,122.0,123.0,126.0,127.0,128.0,129.0,130.0,131.0,132.0,133.0,136.0,137.0,138.0,139.0,140.0,143.0,144.0,145.0,146.0,148.0,149.0,150.0,151.0,152.0,153.0,154.0,157.0,158.0,160.0,183.0,85.0,87.0,89.0,90.0,95.0,96.0,97.0,98.0,100.0,102.0,103.0,105.0,106.0,107.0,108.0,110.0,111.0,112.0,113.0,114.0,116.0,117.0,118.0,119.0,120.0,121.0,125.0,127.0,130.0,132.0,135.0,137.0,140.0,141.0,143.0,147.0,148.0,98.0,99.0,101.0,102.0,107.0,108.0,109.0,110.0,111.0,112.0,113.0,114.0,115.0,116.0,117.0,118.0,119.0,120.0,123.0,127.0,128.0,129.0,130.0,132.0,133.0,134.0,136.0,137.0,139.0,141.0,143.0,144.0,146.0,147.0,150.0,154.0,155.0,162.0,84.0,109.0,112.0,115.0,117.0,118.0,119.0,120.0,121.0,122.0,123.0,125.0,126.0,127.0,128.0,129.0,130.0,131.0,132.0,134.0,135.0,136.0,137.0,138.0,141.0,144.0,146.0,147.0,151.0,101.0,102.0,103.0,104.0,105.0,107.0,108.0,110.0,111.0,114.0,115.0,116.0,117.0,119.0,120.0,121.0,123.0,124.0,127.0,128.0,129.0,130.0,131.0,132.0,133.0,134.0,135.0,136.0,138.0,139.0,140.0,141.0,145.0,147.0,149.0,151.0,152.0,155.0,0.0,83.0,85.0,89.0,91.0,98.0,102.0,109.0,111.0,112.0,113.0,114.0,115.0,118.0,119.0,120.0,121.0,122.0,123.0,124.0,125.0,127.0,128.0,129.0,133.0,138.0,175.0,96.0,98.0,100.0,102.0,108.0,114.0,115.0,116.0,122.0,126.0,132.0,133.0,138.0,139.0,141.0,143.0,144.0,145.0,147.0,148.0,150.0,155.0,161.0,107.0,109.0,112.0,113.0,114.0,119.0,120.0,121.0,122.0,123.0,124.0,125.0,126.0,128.0,129.0,131.0,132.0,133.0,134.0,135.0,136.0,137.0,138.0,139.0,140.0,141.0,142.0,143.0,144.0,145.0,146.0,149.0,151.0,153.0,154.0,155.0,157.0,158.0,159.0,164.0,165.0,167.0,170.0,172.0,173.0,176.0,-42.0,-13.0,70.0,90.0,101.0,109.0,110.0,111.0,113.0,115.0,118.0,119.0,122.0,153.0,156.0,157.0,159.0,160.0,163.0,164.0,176.0,177.0,180.0,184.0,192.0,204.0,205.0,-308.0,-306.0,111.0,115.0,121.0,123.0,124.0,125.0,127.0,132.0,137.0,140.0,141.0,142.0,143.0,144.0,145.0,146.0,147.0,307.0,83.0,85.0,87.0,89.0,90.0,91.0,92.0,93.0,94.0,95.0,96.0,97.0,98.0,99.0,100.0,101.0,102.0,103.0,104.0,105.0,106.0,107.0,108.0,109.0,112.0,113.0,114.0,129.0,88.0,91.0,93.0,94.0,95.0,96.0,97.0,98.0,99.0,100.0,101.0,102.0,103.0,104.0,105.0,107.0,108.0,109.0,110.0,111.0,112.0,113.0,114.0,115.0,116.0,118.0,99.0,107.0,110.0,113.0,116.0,119.0,123.0,126.0,130.0,97.0,100.0,105.0,107.0,110.0,113.0,118.0,119.0,121.0,123.0,124.0,125.0,126.0,127.0,160.0,162.0,163.0,118.0,120.0,123.0,124.0,127.0,108.0,114.0,126.0,127.0,128.0,130.0,131.0,138.0,87.0,92.0,94.0,95.0,96.0,98.0,99.0,100.0,104.0,106.0,107.0,124.0,125.0,128.0,99.0,101.0,103.0,104.0,122.0,130.0,141.0,144.0,154.0,155.0,160.0,173.0,177.0,86.0,95.0,96.0,97.0,98.0,100.0,101.0,107.0,108.0,114.0,115.0,116.0,118.0,93.0,94.0,100.0,109.0,147.0,151.0,72.0,73.0,79.0,85.0,88.0,90.0,95.0,98.0,99.0,105.0,109.0,111.0,132.0,99.0,100.0,104.0,107.0,124.0,128.0,129.0,136.0,152.0,162.0,101.0,115.0,116.0,128.0,130.0,137.0,141.0,144.0,146.0,148.0,152.0,90.0,101.0,106.0,107.0,110.0,114.0,116.0,122.0,123.0,124.0,127.0,130.0,131.0,134.0,141.0,142.0,146.0,160.0,163.0,91.0,93.0,94.0,95.0,99.0,101.0,109.0,110.0,112.0,117.0,118.0,119.0,120.0,122.0,123.0,127.0,100.0,106.0,108.0,111.0,112.0,113.0,116.0,117.0,121.0,123.0,125.0,128.0,133.0,95.0,96.0,97.0,99.0,100.0,101.0,103.0,105.0,107.0,108.0,111.0,112.0,113.0,114.0,115.0,117.0,135.0,108.0,112.0,123.0,145.0,96.0,98.0,101.0,103.0,104.0,105.0,106.0,107.0,109.0,110.0,112.0,113.0,119.0,121.0,126.0,127.0,95.0,102.0,103.0,104.0,112.0,126.0,90.0,91.0,92.0,93.0,94.0,95.0,96.0,98.0,99.0,99.0,104.0,111.0,119.0,122.0,124.0,128.0,131.0,110.0,122.0,127.0,153.0,113.0,118.0,119.0,127.0,115.0,123.0,99.0,109.0,111.0,113.0,114.0,120.0,133.0,154.0,155.0,77.0,85.0,98.0,99.0,113.0,116.0,126.0,132.0,133.0,165.0,84.0,85.0,86.0,87.0,89.0,91.0,94.0,95.0,98.0,99.0,100.0,101.0,102.0,103.0,105.0,114.0,74.0,75.0,84.0,86.0,87.0,90.0,91.0,92.0,95.0,98.0,101.0,102.0,103.0,125.0,93.0,108.0,110.0,115.0,126.0,157.0,162.0,172.0,174.0,176.0,85.0,95.0,96.0,99.0,100.0,102.0,108.0,111.0,112.0,115.0,120.0,130.0,136.0,147.0,161.0,76.0,91.0,92.0,95.0,98.0,100.0,105.0,106.0,112.0,113.0,116.0,121.0,122.0,125.0,126.0,127.0,129.0,87.0,89.0,90.0,91.0,92.0,93.0,94.0,96.0,97.0,101.0,106.0,107.0,108.0,116.0,119.0,88.0,95.0,99.0,100.0,101.0,102.0,104.0,106.0,107.0,109.0,110.0,111.0,112.0,114.0,115.0,119.0,101.0,106.0,107.0,111.0,113.0,114.0,115.0,117.0,118.0,120.0,133.0,138.0,141.0,143.0,153.0,103.0,110.0,115.0,125.0,132.0,110.0,113.0,116.0,119.0,128.0,130.0,131.0,151.0,179.0,232.0,109.0,113.0,118.0,119.0,120.0,121.0,124.0,125.0,126.0,129.0,130.0,133.0,151.0,154.0,160.0,162.0,163.0,87.0,88.0,93.0,98.0,102.0,103.0,116.0,120.0,89.0,91.0,107.0,82.0,89.0,91.0,93.0,99.0,93.0,95.0,103.0,108.0,110.0,118.0,94.0,97.0,98.0,106.0,107.0,108.0,109.0,113.0,114.0,119.0,126.0,139.0,145.0,146.0,152.0,159.0,176.0,110.0,115.0,123.0,124.0,125.0,127.0,139.0,141.0,138.0],\"y0\":\" \",\"yaxis\":\"y\",\"type\":\"box\"}],                        {\"template\":{\"data\":{\"histogram2dcontour\":[{\"type\":\"histogram2dcontour\",\"colorbar\":{\"outlinewidth\":0,\"ticks\":\"\"},\"colorscale\":[[0.0,\"#0d0887\"],[0.1111111111111111,\"#46039f\"],[0.2222222222222222,\"#7201a8\"],[0.3333333333333333,\"#9c179e\"],[0.4444444444444444,\"#bd3786\"],[0.5555555555555556,\"#d8576b\"],[0.6666666666666666,\"#ed7953\"],[0.7777777777777778,\"#fb9f3a\"],[0.8888888888888888,\"#fdca26\"],[1.0,\"#f0f921\"]]}],\"choropleth\":[{\"type\":\"choropleth\",\"colorbar\":{\"outlinewidth\":0,\"ticks\":\"\"}}],\"histogram2d\":[{\"type\":\"histogram2d\",\"colorbar\":{\"outlinewidth\":0,\"ticks\":\"\"},\"colorscale\":[[0.0,\"#0d0887\"],[0.1111111111111111,\"#46039f\"],[0.2222222222222222,\"#7201a8\"],[0.3333333333333333,\"#9c179e\"],[0.4444444444444444,\"#bd3786\"],[0.5555555555555556,\"#d8576b\"],[0.6666666666666666,\"#ed7953\"],[0.7777777777777778,\"#fb9f3a\"],[0.8888888888888888,\"#fdca26\"],[1.0,\"#f0f921\"]]}],\"heatmap\":[{\"type\":\"heatmap\",\"colorbar\":{\"outlinewidth\":0,\"ticks\":\"\"},\"colorscale\":[[0.0,\"#0d0887\"],[0.1111111111111111,\"#46039f\"],[0.2222222222222222,\"#7201a8\"],[0.3333333333333333,\"#9c179e\"],[0.4444444444444444,\"#bd3786\"],[0.5555555555555556,\"#d8576b\"],[0.6666666666666666,\"#ed7953\"],[0.7777777777777778,\"#fb9f3a\"],[0.8888888888888888,\"#fdca26\"],[1.0,\"#f0f921\"]]}],\"heatmapgl\":[{\"type\":\"heatmapgl\",\"colorbar\":{\"outlinewidth\":0,\"ticks\":\"\"},\"colorscale\":[[0.0,\"#0d0887\"],[0.1111111111111111,\"#46039f\"],[0.2222222222222222,\"#7201a8\"],[0.3333333333333333,\"#9c179e\"],[0.4444444444444444,\"#bd3786\"],[0.5555555555555556,\"#d8576b\"],[0.6666666666666666,\"#ed7953\"],[0.7777777777777778,\"#fb9f3a\"],[0.8888888888888888,\"#fdca26\"],[1.0,\"#f0f921\"]]}],\"contourcarpet\":[{\"type\":\"contourcarpet\",\"colorbar\":{\"outlinewidth\":0,\"ticks\":\"\"}}],\"contour\":[{\"type\":\"contour\",\"colorbar\":{\"outlinewidth\":0,\"ticks\":\"\"},\"colorscale\":[[0.0,\"#0d0887\"],[0.1111111111111111,\"#46039f\"],[0.2222222222222222,\"#7201a8\"],[0.3333333333333333,\"#9c179e\"],[0.4444444444444444,\"#bd3786\"],[0.5555555555555556,\"#d8576b\"],[0.6666666666666666,\"#ed7953\"],[0.7777777777777778,\"#fb9f3a\"],[0.8888888888888888,\"#fdca26\"],[1.0,\"#f0f921\"]]}],\"surface\":[{\"type\":\"surface\",\"colorbar\":{\"outlinewidth\":0,\"ticks\":\"\"},\"colorscale\":[[0.0,\"#0d0887\"],[0.1111111111111111,\"#46039f\"],[0.2222222222222222,\"#7201a8\"],[0.3333333333333333,\"#9c179e\"],[0.4444444444444444,\"#bd3786\"],[0.5555555555555556,\"#d8576b\"],[0.6666666666666666,\"#ed7953\"],[0.7777777777777778,\"#fb9f3a\"],[0.8888888888888888,\"#fdca26\"],[1.0,\"#f0f921\"]]}],\"mesh3d\":[{\"type\":\"mesh3d\",\"colorbar\":{\"outlinewidth\":0,\"ticks\":\"\"}}],\"scatter\":[{\"fillpattern\":{\"fillmode\":\"overlay\",\"size\":10,\"solidity\":0.2},\"type\":\"scatter\"}],\"parcoords\":[{\"type\":\"parcoords\",\"line\":{\"colorbar\":{\"outlinewidth\":0,\"ticks\":\"\"}}}],\"scatterpolargl\":[{\"type\":\"scatterpolargl\",\"marker\":{\"colorbar\":{\"outlinewidth\":0,\"ticks\":\"\"}}}],\"bar\":[{\"error_x\":{\"color\":\"#2a3f5f\"},\"error_y\":{\"color\":\"#2a3f5f\"},\"marker\":{\"line\":{\"color\":\"#E5ECF6\",\"width\":0.5},\"pattern\":{\"fillmode\":\"overlay\",\"size\":10,\"solidity\":0.2}},\"type\":\"bar\"}],\"scattergeo\":[{\"type\":\"scattergeo\",\"marker\":{\"colorbar\":{\"outlinewidth\":0,\"ticks\":\"\"}}}],\"scatterpolar\":[{\"type\":\"scatterpolar\",\"marker\":{\"colorbar\":{\"outlinewidth\":0,\"ticks\":\"\"}}}],\"histogram\":[{\"marker\":{\"pattern\":{\"fillmode\":\"overlay\",\"size\":10,\"solidity\":0.2}},\"type\":\"histogram\"}],\"scattergl\":[{\"type\":\"scattergl\",\"marker\":{\"colorbar\":{\"outlinewidth\":0,\"ticks\":\"\"}}}],\"scatter3d\":[{\"type\":\"scatter3d\",\"line\":{\"colorbar\":{\"outlinewidth\":0,\"ticks\":\"\"}},\"marker\":{\"colorbar\":{\"outlinewidth\":0,\"ticks\":\"\"}}}],\"scattermapbox\":[{\"type\":\"scattermapbox\",\"marker\":{\"colorbar\":{\"outlinewidth\":0,\"ticks\":\"\"}}}],\"scatterternary\":[{\"type\":\"scatterternary\",\"marker\":{\"colorbar\":{\"outlinewidth\":0,\"ticks\":\"\"}}}],\"scattercarpet\":[{\"type\":\"scattercarpet\",\"marker\":{\"colorbar\":{\"outlinewidth\":0,\"ticks\":\"\"}}}],\"carpet\":[{\"aaxis\":{\"endlinecolor\":\"#2a3f5f\",\"gridcolor\":\"white\",\"linecolor\":\"white\",\"minorgridcolor\":\"white\",\"startlinecolor\":\"#2a3f5f\"},\"baxis\":{\"endlinecolor\":\"#2a3f5f\",\"gridcolor\":\"white\",\"linecolor\":\"white\",\"minorgridcolor\":\"white\",\"startlinecolor\":\"#2a3f5f\"},\"type\":\"carpet\"}],\"table\":[{\"cells\":{\"fill\":{\"color\":\"#EBF0F8\"},\"line\":{\"color\":\"white\"}},\"header\":{\"fill\":{\"color\":\"#C8D4E3\"},\"line\":{\"color\":\"white\"}},\"type\":\"table\"}],\"barpolar\":[{\"marker\":{\"line\":{\"color\":\"#E5ECF6\",\"width\":0.5},\"pattern\":{\"fillmode\":\"overlay\",\"size\":10,\"solidity\":0.2}},\"type\":\"barpolar\"}],\"pie\":[{\"automargin\":true,\"type\":\"pie\"}]},\"layout\":{\"autotypenumbers\":\"strict\",\"colorway\":[\"#636efa\",\"#EF553B\",\"#00cc96\",\"#ab63fa\",\"#FFA15A\",\"#19d3f3\",\"#FF6692\",\"#B6E880\",\"#FF97FF\",\"#FECB52\"],\"font\":{\"color\":\"#2a3f5f\"},\"hovermode\":\"closest\",\"hoverlabel\":{\"align\":\"left\"},\"paper_bgcolor\":\"white\",\"plot_bgcolor\":\"#E5ECF6\",\"polar\":{\"bgcolor\":\"#E5ECF6\",\"angularaxis\":{\"gridcolor\":\"white\",\"linecolor\":\"white\",\"ticks\":\"\"},\"radialaxis\":{\"gridcolor\":\"white\",\"linecolor\":\"white\",\"ticks\":\"\"}},\"ternary\":{\"bgcolor\":\"#E5ECF6\",\"aaxis\":{\"gridcolor\":\"white\",\"linecolor\":\"white\",\"ticks\":\"\"},\"baxis\":{\"gridcolor\":\"white\",\"linecolor\":\"white\",\"ticks\":\"\"},\"caxis\":{\"gridcolor\":\"white\",\"linecolor\":\"white\",\"ticks\":\"\"}},\"coloraxis\":{\"colorbar\":{\"outlinewidth\":0,\"ticks\":\"\"}},\"colorscale\":{\"sequential\":[[0.0,\"#0d0887\"],[0.1111111111111111,\"#46039f\"],[0.2222222222222222,\"#7201a8\"],[0.3333333333333333,\"#9c179e\"],[0.4444444444444444,\"#bd3786\"],[0.5555555555555556,\"#d8576b\"],[0.6666666666666666,\"#ed7953\"],[0.7777777777777778,\"#fb9f3a\"],[0.8888888888888888,\"#fdca26\"],[1.0,\"#f0f921\"]],\"sequentialminus\":[[0.0,\"#0d0887\"],[0.1111111111111111,\"#46039f\"],[0.2222222222222222,\"#7201a8\"],[0.3333333333333333,\"#9c179e\"],[0.4444444444444444,\"#bd3786\"],[0.5555555555555556,\"#d8576b\"],[0.6666666666666666,\"#ed7953\"],[0.7777777777777778,\"#fb9f3a\"],[0.8888888888888888,\"#fdca26\"],[1.0,\"#f0f921\"]],\"diverging\":[[0,\"#8e0152\"],[0.1,\"#c51b7d\"],[0.2,\"#de77ae\"],[0.3,\"#f1b6da\"],[0.4,\"#fde0ef\"],[0.5,\"#f7f7f7\"],[0.6,\"#e6f5d0\"],[0.7,\"#b8e186\"],[0.8,\"#7fbc41\"],[0.9,\"#4d9221\"],[1,\"#276419\"]]},\"xaxis\":{\"gridcolor\":\"white\",\"linecolor\":\"white\",\"ticks\":\"\",\"title\":{\"standoff\":15},\"zerolinecolor\":\"white\",\"automargin\":true,\"zerolinewidth\":2},\"yaxis\":{\"gridcolor\":\"white\",\"linecolor\":\"white\",\"ticks\":\"\",\"title\":{\"standoff\":15},\"zerolinecolor\":\"white\",\"automargin\":true,\"zerolinewidth\":2},\"scene\":{\"xaxis\":{\"backgroundcolor\":\"#E5ECF6\",\"gridcolor\":\"white\",\"linecolor\":\"white\",\"showbackground\":true,\"ticks\":\"\",\"zerolinecolor\":\"white\",\"gridwidth\":2},\"yaxis\":{\"backgroundcolor\":\"#E5ECF6\",\"gridcolor\":\"white\",\"linecolor\":\"white\",\"showbackground\":true,\"ticks\":\"\",\"zerolinecolor\":\"white\",\"gridwidth\":2},\"zaxis\":{\"backgroundcolor\":\"#E5ECF6\",\"gridcolor\":\"white\",\"linecolor\":\"white\",\"showbackground\":true,\"ticks\":\"\",\"zerolinecolor\":\"white\",\"gridwidth\":2}},\"shapedefaults\":{\"line\":{\"color\":\"#2a3f5f\"}},\"annotationdefaults\":{\"arrowcolor\":\"#2a3f5f\",\"arrowhead\":0,\"arrowwidth\":1},\"geo\":{\"bgcolor\":\"white\",\"landcolor\":\"#E5ECF6\",\"subunitcolor\":\"white\",\"showland\":true,\"showlakes\":true,\"lakecolor\":\"white\"},\"title\":{\"x\":0.05},\"mapbox\":{\"style\":\"light\"}}},\"xaxis\":{\"anchor\":\"y\",\"domain\":[0.0,1.0]},\"yaxis\":{\"anchor\":\"x\",\"domain\":[0.0,1.0],\"title\":{\"text\":\"lab_result_num_val\"}},\"legend\":{\"tracegroupgap\":0},\"margin\":{\"t\":60},\"boxmode\":\"group\"},                        {\"responsive\": true}                    ).then(function(){\n",
              "                            \n",
              "var gd = document.getElementById('033708f7-43f9-4601-841e-68691fa9c790');\n",
              "var x = new MutationObserver(function (mutations, observer) {{\n",
              "        var display = window.getComputedStyle(gd).display;\n",
              "        if (!display || display === 'none') {{\n",
              "            console.log([gd, 'removed!']);\n",
              "            Plotly.purge(gd);\n",
              "            observer.disconnect();\n",
              "        }}\n",
              "}});\n",
              "\n",
              "// Listen for the removal of the full notebook cells\n",
              "var notebookContainer = gd.closest('#notebook-container');\n",
              "if (notebookContainer) {{\n",
              "    x.observe(notebookContainer, {childList: true});\n",
              "}}\n",
              "\n",
              "// Listen for the clearing of the current output cell\n",
              "var outputEl = gd.closest('.output');\n",
              "if (outputEl) {{\n",
              "    x.observe(outputEl, {childList: true});\n",
              "}}\n",
              "\n",
              "                        })                };                            </script>        </div>\n",
              "</body>\n",
              "</html>"
            ]
          },
          "metadata": {}
        }
      ]
    },
    {
      "cell_type": "markdown",
      "source": [
        "# Check for Outliers using Standard Deviation quantile method"
      ],
      "metadata": {
        "id": "Wkj3QbhZY1o8"
      }
    },
    {
      "cell_type": "markdown",
      "source": [
        "# Analyze the distribution of creatinine levels in this data set"
      ],
      "metadata": {
        "id": "jHXo4CrswCQo"
      }
    },
    {
      "cell_type": "code",
      "source": [
        "creatinine = df_lab[df_lab['code'] == '2160-0']\n",
        "creatinine['lab_result_num_val'].describe()\n"
      ],
      "metadata": {
        "colab": {
          "base_uri": "https://localhost:8080/"
        },
        "id": "YBBfSHdSvtr3",
        "outputId": "b32a5048-2f3a-4931-f196-5a27d9575302"
      },
      "execution_count": 12,
      "outputs": [
        {
          "output_type": "execute_result",
          "data": {
            "text/plain": [
              "count    3801.000000\n",
              "mean        1.087006\n",
              "std         1.093288\n",
              "min         0.100000\n",
              "25%         0.610000\n",
              "50%         0.810000\n",
              "75%         1.100000\n",
              "max        18.000000\n",
              "Name: lab_result_num_val, dtype: float64"
            ]
          },
          "metadata": {},
          "execution_count": 12
        }
      ]
    },
    {
      "cell_type": "code",
      "source": [
        "plt.hist(creatinine['lab_result_num_val'], bins=30, density=True, alpha=0.7, color='blue', label='Normal Distribution')\n",
        "plt.title('Normal Distribution')\n",
        "plt.xlabel('Value')\n",
        "plt.ylabel('Probability Density')\n",
        "plt.legend()\n",
        "plt.grid(True)\n",
        "plt.show()"
      ],
      "metadata": {
        "colab": {
          "base_uri": "https://localhost:8080/",
          "height": 472
        },
        "id": "dPmkBH1iv7a5",
        "outputId": "4e3080c9-757e-4687-a9a8-c96e1c83d61a"
      },
      "execution_count": 13,
      "outputs": [
        {
          "output_type": "display_data",
          "data": {
            "text/plain": [
              "<Figure size 640x480 with 1 Axes>"
            ],
            "image/png": "[encoded data removed]"
          },
          "metadata": {}
        }
      ]
    },
    {
      "cell_type": "markdown",
      "source": [
        "# Check for kurtosis and skewness  \n",
        "The kurtosis of 38.7 shows a sharper peak than a normal distribution. It is \"skinny \"in the center, and features \"fat tails\"\n",
        "\n",
        "The skew number of 4.9 is a right-skewed distribution, demonstrated by the tail on the right side. It means that the right tail is longer than the left tail. The mass of the distribution is concentrated on the left."
      ],
      "metadata": {
        "id": "jAbBigF8FccH"
      }
    },
    {
      "cell_type": "code",
      "source": [
        "creatinine_kurt = kurtosis(creatinine['lab_result_num_val'], fisher=False)\n",
        "print(creatinine_kurt)"
      ],
      "metadata": {
        "colab": {
          "base_uri": "https://localhost:8080/"
        },
        "id": "LBcY_OB3CjJR",
        "outputId": "ec5a75c3-c47f-47f1-895a-f199a04890a3"
      },
      "execution_count": 16,
      "outputs": [
        {
          "output_type": "stream",
          "name": "stdout",
          "text": [
            "38.73653613237473\n"
          ]
        }
      ]
    },
    {
      "cell_type": "code",
      "source": [
        "creatinine_skew = skew(creatinine['lab_result_num_val'])\n",
        "print(creatinine_skew)"
      ],
      "metadata": {
        "colab": {
          "base_uri": "https://localhost:8080/"
        },
        "id": "_lg3tlAKH7QD",
        "outputId": "68dc60f1-7923-4371-baf1-c67ede7fda83"
      },
      "execution_count": 22,
      "outputs": [
        {
          "output_type": "stream",
          "name": "stdout",
          "text": [
            "4.934355942367434\n"
          ]
        }
      ]
    },
    {
      "cell_type": "markdown",
      "source": [
        "# Check for Outliers in Creatinine\n",
        "Used your code from the textbook don't know why it didn't work"
      ],
      "metadata": {
        "id": "a-BLXA6QYEmg"
      }
    },
    {
      "cell_type": "code",
      "source": [
        "# Calculate quartiles and IQR\n",
        "q1 = np.percentile(creatinine, 25)\n",
        "q3 = np.percentile(creatinine, 75)\n",
        "iqr = q3 - q1\n",
        "\n",
        "# Set threshold for outlier detection\n",
        "threshold_lower = q1 - 1.5 * iqr\n",
        "threshold_upper = q3 + 1.5 * iqr\n",
        "\n",
        "# Identify outliers\n",
        "outliers = [x for x in creatinine if x < threshold_lower or x > threshold_upper]\n",
        "\n",
        "print(\"Outliers:\", outliers)"
      ],
      "metadata": {
        "colab": {
          "base_uri": "https://localhost:8080/",
          "height": 408
        },
        "id": "gZo090R7c_3q",
        "outputId": "1960a943-9862-44c1-c3d9-8bc952518030"
      },
      "execution_count": 87,
      "outputs": [
        {
          "output_type": "error",
          "ename": "TypeError",
          "evalue": "ignored",
          "traceback": [
            "\u001b[0;31m---------------------------------------------------------------------------\u001b[0m",
            "\u001b[0;31mTypeError\u001b[0m                                 Traceback (most recent call last)",
            "\u001b[0;32m<ipython-input-87-5d31e0f2324b>\u001b[0m in \u001b[0;36m<cell line: 2>\u001b[0;34m()\u001b[0m\n\u001b[1;32m      1\u001b[0m \u001b[0;31m# Calculate quartiles and IQR\u001b[0m\u001b[0;34m\u001b[0m\u001b[0;34m\u001b[0m\u001b[0m\n\u001b[0;32m----> 2\u001b[0;31m \u001b[0mq1\u001b[0m \u001b[0;34m=\u001b[0m \u001b[0mnp\u001b[0m\u001b[0;34m.\u001b[0m\u001b[0mpercentile\u001b[0m\u001b[0;34m(\u001b[0m\u001b[0mcreatinine\u001b[0m\u001b[0;34m,\u001b[0m \u001b[0;36m25\u001b[0m\u001b[0;34m)\u001b[0m\u001b[0;34m\u001b[0m\u001b[0;34m\u001b[0m\u001b[0m\n\u001b[0m\u001b[1;32m      3\u001b[0m \u001b[0mq3\u001b[0m \u001b[0;34m=\u001b[0m \u001b[0mnp\u001b[0m\u001b[0;34m.\u001b[0m\u001b[0mpercentile\u001b[0m\u001b[0;34m(\u001b[0m\u001b[0mcreatinine\u001b[0m\u001b[0;34m,\u001b[0m \u001b[0;36m75\u001b[0m\u001b[0;34m)\u001b[0m\u001b[0;34m\u001b[0m\u001b[0;34m\u001b[0m\u001b[0m\n\u001b[1;32m      4\u001b[0m \u001b[0miqr\u001b[0m \u001b[0;34m=\u001b[0m \u001b[0mq3\u001b[0m \u001b[0;34m-\u001b[0m \u001b[0mq1\u001b[0m\u001b[0;34m\u001b[0m\u001b[0;34m\u001b[0m\u001b[0m\n\u001b[1;32m      5\u001b[0m \u001b[0;34m\u001b[0m\u001b[0m\n",
            "\u001b[0;32m/usr/local/lib/python3.10/dist-packages/numpy/core/overrides.py\u001b[0m in \u001b[0;36mpercentile\u001b[0;34m(*args, **kwargs)\u001b[0m\n",
            "\u001b[0;32m/usr/local/lib/python3.10/dist-packages/numpy/lib/function_base.py\u001b[0m in \u001b[0;36mpercentile\u001b[0;34m(a, q, axis, out, overwrite_input, method, keepdims, interpolation)\u001b[0m\n\u001b[1;32m   4164\u001b[0m     \u001b[0;32mif\u001b[0m \u001b[0;32mnot\u001b[0m \u001b[0m_quantile_is_valid\u001b[0m\u001b[0;34m(\u001b[0m\u001b[0mq\u001b[0m\u001b[0;34m)\u001b[0m\u001b[0;34m:\u001b[0m\u001b[0;34m\u001b[0m\u001b[0;34m\u001b[0m\u001b[0m\n\u001b[1;32m   4165\u001b[0m         \u001b[0;32mraise\u001b[0m \u001b[0mValueError\u001b[0m\u001b[0;34m(\u001b[0m\u001b[0;34m\"Percentiles must be in the range [0, 100]\"\u001b[0m\u001b[0;34m)\u001b[0m\u001b[0;34m\u001b[0m\u001b[0;34m\u001b[0m\u001b[0m\n\u001b[0;32m-> 4166\u001b[0;31m     return _quantile_unchecked(\n\u001b[0m\u001b[1;32m   4167\u001b[0m         a, q, axis, out, overwrite_input, method, keepdims)\n\u001b[1;32m   4168\u001b[0m \u001b[0;34m\u001b[0m\u001b[0m\n",
            "\u001b[0;32m/usr/local/lib/python3.10/dist-packages/numpy/lib/function_base.py\u001b[0m in \u001b[0;36m_quantile_unchecked\u001b[0;34m(a, q, axis, out, overwrite_input, method, keepdims)\u001b[0m\n\u001b[1;32m   4422\u001b[0m                         keepdims=False):\n\u001b[1;32m   4423\u001b[0m     \u001b[0;34m\"\"\"Assumes that q is in [0, 1], and is an ndarray\"\"\"\u001b[0m\u001b[0;34m\u001b[0m\u001b[0;34m\u001b[0m\u001b[0m\n\u001b[0;32m-> 4424\u001b[0;31m     r, k = _ureduce(a,\n\u001b[0m\u001b[1;32m   4425\u001b[0m                     \u001b[0mfunc\u001b[0m\u001b[0;34m=\u001b[0m\u001b[0m_quantile_ureduce_func\u001b[0m\u001b[0;34m,\u001b[0m\u001b[0;34m\u001b[0m\u001b[0;34m\u001b[0m\u001b[0m\n\u001b[1;32m   4426\u001b[0m                     \u001b[0mq\u001b[0m\u001b[0;34m=\u001b[0m\u001b[0mq\u001b[0m\u001b[0;34m,\u001b[0m\u001b[0;34m\u001b[0m\u001b[0;34m\u001b[0m\u001b[0m\n",
            "\u001b[0;32m/usr/local/lib/python3.10/dist-packages/numpy/lib/function_base.py\u001b[0m in \u001b[0;36m_ureduce\u001b[0;34m(a, func, **kwargs)\u001b[0m\n\u001b[1;32m   3723\u001b[0m         \u001b[0mkeepdim\u001b[0m \u001b[0;34m=\u001b[0m \u001b[0;34m(\u001b[0m\u001b[0;36m1\u001b[0m\u001b[0;34m,\u001b[0m\u001b[0;34m)\u001b[0m \u001b[0;34m*\u001b[0m \u001b[0ma\u001b[0m\u001b[0;34m.\u001b[0m\u001b[0mndim\u001b[0m\u001b[0;34m\u001b[0m\u001b[0;34m\u001b[0m\u001b[0m\n\u001b[1;32m   3724\u001b[0m \u001b[0;34m\u001b[0m\u001b[0m\n\u001b[0;32m-> 3725\u001b[0;31m     \u001b[0mr\u001b[0m \u001b[0;34m=\u001b[0m \u001b[0mfunc\u001b[0m\u001b[0;34m(\u001b[0m\u001b[0ma\u001b[0m\u001b[0;34m,\u001b[0m \u001b[0;34m**\u001b[0m\u001b[0mkwargs\u001b[0m\u001b[0;34m)\u001b[0m\u001b[0;34m\u001b[0m\u001b[0;34m\u001b[0m\u001b[0m\n\u001b[0m\u001b[1;32m   3726\u001b[0m     \u001b[0;32mreturn\u001b[0m \u001b[0mr\u001b[0m\u001b[0;34m,\u001b[0m \u001b[0mkeepdim\u001b[0m\u001b[0;34m\u001b[0m\u001b[0;34m\u001b[0m\u001b[0m\n\u001b[1;32m   3727\u001b[0m \u001b[0;34m\u001b[0m\u001b[0m\n",
            "\u001b[0;32m/usr/local/lib/python3.10/dist-packages/numpy/lib/function_base.py\u001b[0m in \u001b[0;36m_quantile_ureduce_func\u001b[0;34m(a, q, axis, out, overwrite_input, method)\u001b[0m\n\u001b[1;32m   4591\u001b[0m         \u001b[0;32melse\u001b[0m\u001b[0;34m:\u001b[0m\u001b[0;34m\u001b[0m\u001b[0;34m\u001b[0m\u001b[0m\n\u001b[1;32m   4592\u001b[0m             \u001b[0marr\u001b[0m \u001b[0;34m=\u001b[0m \u001b[0ma\u001b[0m\u001b[0;34m.\u001b[0m\u001b[0mcopy\u001b[0m\u001b[0;34m(\u001b[0m\u001b[0;34m)\u001b[0m\u001b[0;34m\u001b[0m\u001b[0;34m\u001b[0m\u001b[0m\n\u001b[0;32m-> 4593\u001b[0;31m     result = _quantile(arr,\n\u001b[0m\u001b[1;32m   4594\u001b[0m                        \u001b[0mquantiles\u001b[0m\u001b[0;34m=\u001b[0m\u001b[0mq\u001b[0m\u001b[0;34m,\u001b[0m\u001b[0;34m\u001b[0m\u001b[0;34m\u001b[0m\u001b[0m\n\u001b[1;32m   4595\u001b[0m                        \u001b[0maxis\u001b[0m\u001b[0;34m=\u001b[0m\u001b[0maxis\u001b[0m\u001b[0;34m,\u001b[0m\u001b[0;34m\u001b[0m\u001b[0;34m\u001b[0m\u001b[0m\n",
            "\u001b[0;32m/usr/local/lib/python3.10/dist-packages/numpy/lib/function_base.py\u001b[0m in \u001b[0;36m_quantile\u001b[0;34m(arr, quantiles, axis, method, out)\u001b[0m\n\u001b[1;32m   4689\u001b[0m                                                       values_count)\n\u001b[1;32m   4690\u001b[0m         \u001b[0;31m# --- Sorting\u001b[0m\u001b[0;34m\u001b[0m\u001b[0;34m\u001b[0m\u001b[0m\n\u001b[0;32m-> 4691\u001b[0;31m         arr.partition(\n\u001b[0m\u001b[1;32m   4692\u001b[0m             np.unique(np.concatenate(([0, -1],\n\u001b[1;32m   4693\u001b[0m                                       \u001b[0mprevious_indexes\u001b[0m\u001b[0;34m.\u001b[0m\u001b[0mravel\u001b[0m\u001b[0;34m(\u001b[0m\u001b[0;34m)\u001b[0m\u001b[0;34m,\u001b[0m\u001b[0;34m\u001b[0m\u001b[0;34m\u001b[0m\u001b[0m\n",
            "\u001b[0;31mTypeError\u001b[0m: '<' not supported between instances of 'int' and 'str'"
          ]
        }
      ]
    },
    {
      "cell_type": "code",
      "source": [
        "fig = px.box(creatinine, y='lab_result_num_val')\n",
        "\n",
        "fig.show()"
      ],
      "metadata": {
        "colab": {
          "base_uri": "https://localhost:8080/",
          "height": 542
        },
        "id": "m_s1MrVPYC89",
        "outputId": "6d0c64d3-09e1-4c49-b444-879c8e47a69a"
      },
      "execution_count": 64,
      "outputs": [
        {
          "output_type": "display_data",
          "data": {
            "text/html": [
              "<html>\n",
              "<head><meta charset=\"utf-8\" /></head>\n",
              "<body>\n",
              "    <div>            <script src=\"https://cdnjs.cloudflare.com/ajax/libs/mathjax/2.7.5/MathJax.js?config=TeX-AMS-MML_SVG\"></script><script type=\"text/javascript\">if (window.MathJax && window.MathJax.Hub && window.MathJax.Hub.Config) {window.MathJax.Hub.Config({SVG: {font: \"STIX-Web\"}});}</script>                <script type=\"text/javascript\">window.PlotlyConfig = {MathJaxConfig: 'local'};</script>\n",
              "        <script charset=\"utf-8\" src=\"https://cdn.plot.ly/plotly-2.24.1.min.js\"></script>                <div id=\"7d48bb24-067c-4486-8743-90a60a87ba5b\" class=\"plotly-graph-div\" style=\"height:525px; width:100%;\"></div>            <script type=\"text/javascript\">                                    window.PLOTLYENV=window.PLOTLYENV || {};                                    if (document.getElementById(\"7d48bb24-067c-4486-8743-90a60a87ba5b\")) {                    Plotly.newPlot(                        \"7d48bb24-067c-4486-8743-90a60a87ba5b\",                        [{\"alignmentgroup\":\"True\",\"hovertemplate\":\"lab_result_num_val=%{y}\\u003cextra\\u003e\\u003c\\u002fextra\\u003e\",\"legendgroup\":\"\",\"marker\":{\"color\":\"#636efa\"},\"name\":\"\",\"notched\":false,\"offsetgroup\":\"\",\"orientation\":\"v\",\"showlegend\":false,\"x0\":\" \",\"xaxis\":\"x\",\"y\":[1.02,0.74,0.65,0.61,0.62,0.56,0.52,0.53,0.59,0.56,1.03,1.05,1.02,1.1,0.88,0.7,0.7,0.6,0.6,0.6,0.5,0.6,0.5,0.5,0.5,0.6,0.62,0.67,0.62,1.17,1.25,1.19,1.36,1.4,1.1,1.0,0.9,1.0,1.22,1.12,1.3,1.25,1.03,1.13,1.24,1.06,1.33,0.75,0.77,1.22,2.4,2.3,2.2,1.9,2.4,2.4,2.2,1.8,2.0,2.0,2.2,2.0,2.2,2.2,2.1,0.3,2.1,2.2,2.1,0.99,0.98,1.06,1.02,1.19,0.86,1.06,1.08,1.14,1.0,0.94,1.12,1.19,1.23,1.12,1.13,1.19,1.31,1.23,1.15,1.48,0.4,0.4,0.5,0.63,0.67,0.52,0.51,0.85,0.91,0.95,0.91,0.91,0.92,0.84,1.13,0.65,0.74,0.78,0.71,0.64,0.8,0.92,1.36,1.69,1.26,2.05,2.17,2.8,3.33,3.48,3.78,3.79,3.55,3.79,3.5,3.13,3.04,3.01,2.88,3.16,3.11,3.11,3.37,3.29,3.27,2.98,2.6,2.19,2.07,2.0,1.76,1.92,1.62,1.55,1.59,1.71,1.66,1.31,0.93,0.75,0.54,0.69,0.69,0.55,0.6,3.2,2.8,2.8,3.8,3.8,3.6,3.3,0.75,0.74,0.8,0.96,0.83,0.91,0.86,0.8,0.9,0.6,1.0,0.84,0.78,0.84,0.87,0.89,0.91,0.6,0.7,0.7,0.6,0.83,0.66,0.73,0.81,0.94,0.73,0.95,1.01,1.07,0.94,0.82,0.82,0.87,0.79,0.56,0.53,0.9,0.53,0.89,0.5,0.5,0.7,0.5,0.52,0.62,0.71,0.54,1.15,1.06,1.03,1.03,0.98,1.72,1.6,1.44,1.31,1.09,0.8,0.77,0.81,0.9,0.91,0.79,0.78,1.02,1.2,1.2,1.3,1.3,1.4,1.2,1.2,1.1,1.1,1.3,1.2,1.1,1.1,1.2,0.9,1.1,1.2,1.1,1.0,1.0,1.0,1.2,1.8,1.9,1.6,2.6,0.6,0.38,1.04,0.81,0.67,0.79,0.95,0.69,0.67,0.64,0.64,0.63,0.61,0.58,0.6,0.49,0.59,0.67,0.65,0.64,0.7,0.8,1.2,1.3,1.2,1.1,1.3,1.3,0.6,0.6,0.5,0.6,0.6,0.9,1.2,0.8,0.7,0.7,0.6,0.6,0.6,0.6,0.6,0.6,0.9,0.7,0.6,0.7,0.5,0.4,0.6,0.6,0.4,0.4,0.4,0.4,0.4,0.5,0.4,0.4,0.5,0.5,0.8,1.1,0.78,0.63,0.84,0.91,0.92,0.89,0.81,0.78,0.7,0.73,0.77,0.76,0.79,0.86,0.7,0.83,0.84,0.9,0.72,0.76,0.91,0.74,0.68,0.42,0.71,0.69,0.63,0.6,0.65,0.6,0.64,8.4,6.5,7.1,7.5,7.5,7.9,8.7,5.5,7.3,5.8,7.8,6.2,8.1,6.6,8.9,8.7,8.4,8.4,8.0,9.9,9.4,9.8,7.6,8.0,8.7,6.3,4.8,5.6,7.6,5.7,6.8,7.7,0.68,0.98,0.74,0.68,0.19,0.7,0.7,0.6,0.6,0.7,0.7,0.6,0.75,0.65,0.64,0.68,0.65,0.35,0.79,0.69,0.89,0.63,0.66,0.75,0.84,0.74,0.68,0.72,0.64,0.76,0.67,0.6,0.68,0.64,0.68,0.72,0.94,0.81,1.94,1.97,1.9,1.76,1.56,1.5,1.37,0.96,0.89,0.79,0.78,0.95,1.07,0.74,0.97,0.94,0.72,0.71,0.71,0.2,0.84,0.89,0.4,0.4,0.41,0.45,0.48,0.42,0.45,0.54,0.51,0.56,0.63,0.64,0.58,0.48,0.46,0.4,0.44,0.53,0.75,0.67,0.79,0.78,0.78,0.51,1.08,0.75,0.85,0.86,0.97,0.89,0.86,0.86,0.83,0.91,0.85,1.22,1.34,1.39,1.5,1.27,1.21,1.45,1.32,1.18,1.57,1.49,1.41,1.25,1.57,1.81,2.11,2.14,1.77,1.8,1.61,1.49,1.02,0.41,0.82,0.57,0.8,0.73,0.71,0.6,0.73,0.76,0.63,0.83,0.79,0.73,0.93,0.73,0.95,0.81,0.78,0.64,0.74,0.75,0.63,0.56,0.73,0.69,0.62,0.78,0.81,0.73,0.72,0.71,0.66,0.61,0.58,0.7,0.65,0.74,0.73,0.27,1.2,1.0,0.8,0.83,0.75,0.75,0.74,0.81,0.82,0.76,0.88,0.8,0.73,0.84,0.75,0.8,0.8,0.78,1.13,0.74,0.66,0.73,0.63,0.7,0.74,0.71,0.76,0.74,0.78,0.73,0.78,0.54,0.92,0.94,1.15,1.25,1.07,1.21,1.29,1.23,1.26,1.52,1.35,1.32,1.36,1.36,1.42,1.36,1.34,1.29,1.22,1.25,1.15,1.23,2.18,2.04,2.52,2.3,1.98,2.06,1.78,1.84,1.68,1.68,1.53,0.73,0.7,0.73,0.85,0.78,0.76,0.7,0.77,0.89,0.8,1.0,0.27,0.29,0.6,0.6,0.6,0.5,0.5,0.5,0.5,0.6,0.6,0.6,0.5,0.6,0.5,0.6,0.5,0.5,0.5,0.5,0.5,0.5,0.6,0.5,0.5,0.5,0.4,0.5,0.5,0.5,0.5,0.6,0.5,0.5,0.4,0.5,0.5,0.5,0.4,0.8,0.98,1.04,1.13,0.97,1.2,1.06,1.17,1.89,1.78,1.63,1.31,0.99,1.15,1.18,0.86,1.8,1.62,1.48,1.47,1.68,1.57,1.62,1.65,1.63,1.49,1.67,1.61,1.71,1.69,1.62,2.54,2.37,2.16,1.73,2.17,1.86,1.82,1.87,1.87,1.76,1.55,1.58,1.59,2.96,2.35,1.92,1.81,2.24,1.6,1.47,1.55,1.92,1.54,1.69,1.55,1.54,1.52,3.24,2.84,2.55,2.31,2.28,2.85,2.91,2.83,3.08,3.55,3.78,3.94,4.13,3.06,2.0,1.83,1.72,1.64,1.43,1.35,1.32,1.27,1.19,1.2,1.75,1.79,1.98,2.27,1.76,1.97,1.59,1.72,2.17,0.94,0.7,1.01,1.02,1.15,0.68,0.69,0.77,0.82,0.87,0.71,0.73,0.84,0.77,0.73,0.78,0.86,0.85,0.84,0.82,0.98,0.88,0.95,1.11,0.85,0.89,1.02,0.88,0.88,1.1,0.9,1.0,1.2,1.0,0.9,0.8,0.9,1.0,0.95,0.85,0.94,0.86,0.85,0.6,0.6,0.9,0.56,0.56,0.64,0.55,0.58,0.61,0.6,0.52,0.53,0.52,0.52,0.55,0.53,0.56,0.56,0.53,0.5,0.55,0.56,0.55,0.62,0.58,1.08,0.72,0.78,0.74,0.76,0.8,0.78,0.84,0.88,0.82,0.73,0.81,0.63,0.9,0.78,0.99,0.86,0.83,0.82,0.86,0.9,1.0,0.4,0.6,0.67,0.82,0.67,0.74,0.54,0.78,0.65,0.86,0.81,0.84,0.87,0.56,0.6,0.58,0.58,0.6,0.6,0.6,0.55,0.57,0.63,0.56,0.6,0.53,0.63,0.61,0.53,0.55,0.59,0.63,0.56,0.64,0.65,0.6,0.57,0.6,0.61,0.57,0.46,0.52,0.94,1.22,0.94,1.02,1.08,0.97,1.05,1.05,1.2,1.9,1.5,0.5,0.69,0.79,0.65,0.82,0.87,0.85,0.8,0.79,1.07,1.3,1.2,0.87,0.66,0.65,0.75,0.83,0.98,0.98,2.54,1.97,1.46,0.6,0.68,0.41,0.92,0.81,0.8,0.96,1.08,0.86,0.72,0.7,0.59,0.8,0.92,0.67,0.7,0.69,0.71,0.68,0.7,0.55,0.6,0.57,0.53,0.47,0.5,0.61,0.7,0.72,0.76,0.86,0.61,0.83,0.79,0.78,0.8,0.91,0.83,0.82,0.98,0.94,1.03,0.95,0.93,0.91,0.88,0.77,0.75,0.74,0.68,1.2,0.8,1.0,1.1,0.34,0.44,0.93,0.84,0.75,1.23,1.34,1.25,1.55,1.44,1.79,1.83,1.49,1.41,1.58,1.37,1.37,1.55,1.53,2.03,2.01,1.48,1.6,1.54,1.46,1.5,1.78,1.7,1.64,0.52,0.98,0.57,0.47,0.49,0.5,1.11,0.88,0.89,0.8,0.8,1.1,0.53,0.57,0.56,0.83,0.69,0.89,0.84,0.72,0.66,0.8,0.72,2.36,2.29,2.19,2.27,2.43,2.38,2.48,2.34,0.61,0.9,0.48,0.6,0.5,0.54,0.54,0.5,0.42,0.36,0.6,0.7,0.7,0.6,0.81,0.81,0.62,0.59,0.67,0.67,0.56,0.8,0.5,0.4,0.5,0.4,0.5,0.5,0.5,0.5,0.4,0.4,0.5,0.7,0.5,0.5,0.71,0.66,0.63,3.3,0.79,0.97,0.6,0.98,1.13,0.79,0.69,0.89,0.49,0.73,0.56,0.6,0.9,1.0,1.02,0.6,0.7,0.7,0.7,0.6,0.8,0.4,0.7,0.7,0.7,0.7,0.7,0.7,0.7,0.8,0.8,0.7,0.6,0.7,0.7,0.6,0.6,0.6,0.6,0.5,0.5,0.6,0.6,0.6,0.5,0.5,0.6,0.5,0.5,0.5,0.5,0.5,0.5,0.5,0.6,0.5,0.6,0.6,0.5,0.7,0.64,0.63,0.63,0.68,0.75,0.72,0.7,0.83,0.92,1.01,1.15,0.81,0.87,0.78,0.84,0.93,0.82,0.85,1.01,0.87,0.91,0.88,0.86,1.3,1.01,0.87,0.68,0.77,0.96,0.8,1.02,0.85,0.75,0.89,0.8,0.85,0.9,0.94,1.05,0.8,1.01,0.84,0.98,1.0,1.0,0.92,0.81,0.94,0.91,1.16,0.95,0.98,1.1,1.03,0.96,1.08,0.89,1.02,1.0,0.91,1.19,1.17,1.25,1.16,0.79,0.8,0.88,0.92,0.7,0.77,0.78,0.71,0.77,0.82,1.08,0.99,1.18,1.34,1.23,1.06,0.68,0.83,0.63,0.56,0.7,0.53,1.88,1.85,2.01,2.03,2.0,1.84,1.84,1.76,1.8,1.56,1.95,1.68,1.81,1.85,1.77,1.98,1.8,1.93,2.16,2.04,1.96,1.69,1.65,1.51,1.59,1.61,1.48,1.57,1.61,1.52,1.53,1.64,1.72,1.61,1.66,0.76,0.7,0.78,0.51,0.53,0.5,0.59,0.55,0.76,0.49,1.0,1.03,0.99,0.99,0.93,0.93,0.53,0.98,0.6,0.5,0.8,0.7,0.74,0.67,0.66,0.6,0.72,0.74,0.74,0.74,0.75,0.66,0.68,0.71,0.7,0.77,1.14,2.91,3.1,2.86,2.45,2.12,0.9,0.6,0.58,0.57,0.62,0.65,0.68,0.66,0.66,1.0,0.74,0.93,0.85,0.84,0.93,0.92,0.92,1.1,1.1,1.12,1.12,1.08,1.06,1.28,1.08,0.9,1.18,0.89,0.98,0.97,1.07,1.24,1.0,0.9,1.0,0.9,1.5,1.2,1.2,1.4,1.95,1.59,1.45,1.2,0.88,0.87,0.78,0.92,0.83,0.91,0.99,0.87,0.91,0.96,0.86,0.74,0.76,0.63,0.69,0.56,0.68,0.69,0.64,0.68,0.67,0.74,0.77,0.69,0.8,0.8,0.8,0.8,0.8,0.9,0.8,1.0,1.3,1.2,0.7,0.8,0.85,3.46,2.49,1.67,0.7,0.7,0.93,0.85,0.83,0.97,0.76,0.77,0.81,0.76,0.72,0.87,0.92,0.63,0.58,0.56,0.79,0.71,0.83,0.54,0.65,0.66,0.91,0.3,0.5,0.5,0.52,0.7,0.75,0.5,0.65,0.85,0.78,0.74,1.14,1.41,1.28,0.79,0.78,0.76,0.8,0.61,0.6,0.54,0.55,0.65,0.7,0.73,0.61,0.52,0.57,0.57,0.65,0.93,1.27,1.8,1.2,0.67,0.47,0.52,0.49,0.55,0.58,0.58,0.56,0.61,0.93,0.7,0.7,0.77,0.8,0.83,0.79,0.61,0.68,0.68,0.76,0.8,0.81,1.2,1.01,0.85,0.84,0.81,0.3,0.4,0.3,0.3,0.3,0.3,0.3,0.3,0.3,0.3,0.3,0.3,0.5,0.5,0.4,0.4,0.3,0.4,0.4,0.3,0.3,0.3,0.3,0.2,0.4,0.2,0.2,0.2,0.2,0.3,0.2,0.4,0.2,0.2,0.3,0.1,0.3,0.2,0.3,0.2,0.2,0.2,0.1,0.1,0.1,0.2,0.2,0.2,0.2,0.2,0.2,0.2,0.2,0.2,0.2,0.2,0.2,0.2,0.1,0.2,0.2,0.2,0.2,0.2,0.2,0.2,0.2,0.2,0.1,0.2,0.2,0.1,0.2,0.1,0.1,0.2,0.1,0.2,0.2,0.2,0.2,0.2,0.2,0.2,0.2,0.2,0.2,0.3,0.3,0.3,0.2,0.3,0.2,0.3,0.4,0.3,0.3,0.3,0.3,0.3,0.3,0.3,0.3,0.2,0.2,0.2,0.2,0.2,0.2,0.2,0.2,0.2,0.2,0.2,0.2,0.2,0.2,0.1,0.2,0.2,0.2,0.2,0.2,0.1,0.1,0.1,0.2,0.1,0.2,0.2,0.3,0.2,0.2,0.3,0.3,0.4,0.2,0.2,0.2,0.2,0.19,0.22,0.3,0.29,0.36,0.35,0.32,0.35,0.27,0.3,0.42,0.32,0.43,0.26,0.22,0.21,0.25,0.26,0.27,0.25,0.26,0.22,0.21,0.19,0.19,0.17,0.12,0.15,0.22,0.21,0.27,0.21,0.39,0.29,0.26,0.18,0.18,0.14,0.18,0.18,0.18,0.18,0.17,0.21,0.22,0.18,0.18,0.17,0.19,0.2,0.21,0.18,0.23,0.19,0.2,0.2,0.2,0.16,0.22,0.24,0.23,0.16,0.16,0.26,0.26,0.28,0.25,1.2,0.67,0.6,0.84,0.84,0.92,0.98,0.98,0.82,0.74,0.79,0.85,0.79,0.82,0.82,0.86,0.8,0.88,0.88,0.89,0.8,1.23,1.09,1.04,0.98,0.85,0.7,0.86,0.76,0.76,0.77,0.74,0.7,0.74,0.77,0.72,0.73,0.74,0.73,0.69,0.69,0.64,0.66,0.62,0.71,0.69,0.71,0.79,0.71,0.85,0.63,0.75,0.74,0.77,0.71,0.85,0.89,0.8,0.88,0.87,0.69,1.26,0.57,0.51,0.59,0.62,0.61,0.91,0.84,0.9,0.9,1.0,1.0,1.0,0.9,0.8,0.8,0.8,0.8,0.9,0.8,0.8,0.8,0.8,0.9,0.8,0.9,0.9,0.8,0.9,0.8,0.8,0.69,0.84,0.9,0.86,0.88,1.01,0.84,0.82,0.81,0.92,0.86,0.93,1.1,1.02,1.03,1.14,1.13,1.08,0.98,1.27,1.27,1.2,1.35,1.15,1.2,1.32,1.43,1.35,1.26,1.18,1.12,1.21,1.11,1.16,1.19,1.26,1.16,1.28,1.41,1.32,1.33,0.9,1.1,0.83,0.86,1.08,0.91,0.87,0.93,0.95,0.65,0.51,0.53,0.9,1.0,0.8,0.9,0.8,0.9,1.0,1.0,1.36,1.09,1.18,1.25,1.38,1.26,1.18,1.16,1.24,1.21,0.8,0.9,0.96,0.94,0.91,0.85,0.87,0.88,0.96,1.02,2.45,2.01,2.37,2.34,2.22,2.17,2.25,2.42,2.45,2.48,2.47,2.53,2.56,2.52,2.54,2.53,2.55,2.61,2.6,2.64,2.6,2.58,2.54,2.66,2.69,2.62,2.57,2.73,2.77,2.74,2.63,2.76,2.89,2.95,2.81,2.66,2.91,2.85,2.75,2.7,2.71,2.71,2.77,2.35,2.12,1.95,2.25,2.51,2.41,2.32,2.08,2.06,2.02,2.32,2.65,2.72,2.77,2.83,2.76,2.79,2.7,2.75,3.0,2.92,2.73,2.59,2.42,2.59,2.45,2.53,2.55,2.78,2.85,2.84,3.1,3.26,3.47,3.49,3.7,3.94,3.89,3.68,3.71,3.54,3.4,3.41,0.29,0.39,0.8,0.9,1.1,0.8,0.7,1.1,1.2,5.36,6.9,0.83,1.28,0.95,0.82,1.23,1.08,1.31,1.06,1.01,0.86,0.81,0.86,0.86,0.75,0.8,0.81,0.75,0.76,0.84,1.29,0.92,0.98,1.03,1.06,0.96,0.77,0.82,0.72,0.7,0.9,0.93,0.95,0.88,0.87,0.89,0.75,0.62,0.76,0.96,0.94,1.1,0.84,0.77,0.79,1.31,1.17,1.2,0.88,0.94,1.1,1.06,1.27,0.98,1.15,0.92,0.95,0.88,0.96,0.91,0.9,0.92,1.2,2.28,1.73,1.13,0.97,1.16,0.52,0.48,0.53,0.53,0.81,0.94,0.9,0.87,0.75,0.97,0.97,0.87,0.99,0.99,0.91,1.0,1.05,0.96,1.05,0.88,1.12,0.98,0.96,0.93,0.94,0.82,0.95,0.84,0.92,1.09,1.0,0.95,0.99,0.92,0.95,1.06,0.99,1.01,0.9,1.02,1.03,0.53,0.6,0.2,0.64,0.54,0.66,0.66,0.62,0.7,0.7,0.6,0.5,0.8,0.7,0.67,0.73,0.72,0.69,0.7,0.62,0.61,0.62,0.95,0.62,0.64,1.4,1.1,0.8,0.66,0.66,0.82,0.82,0.62,0.62,0.79,0.79,0.59,0.59,0.68,0.61,0.59,0.64,0.66,0.67,0.63,0.61,0.55,0.58,0.63,0.65,0.67,0.55,0.55,0.55,0.66,0.6,1.16,1.21,1.21,1.15,1.31,0.8,0.7,0.6,0.6,0.7,0.6,0.7,0.7,0.8,0.7,0.7,0.9,0.43,0.67,0.9,1.0,0.9,0.9,6.55,7.3,4.96,6.06,4.6,5.65,6.12,6.5,3.66,5.07,4.16,4.0,4.56,2.89,4.89,5.21,3.09,0.78,0.84,0.79,0.68,0.78,0.75,0.89,0.88,0.82,0.78,0.72,0.77,0.86,0.76,0.74,0.6,0.58,0.62,0.7,0.61,0.64,0.7,0.67,0.66,0.89,0.76,0.65,0.67,0.93,0.84,0.76,1.02,1.0,0.93,0.91,0.99,0.9,0.91,0.87,0.5,0.6,0.6,0.5,0.5,0.4,0.4,0.4,0.4,0.5,0.5,0.5,0.5,0.4,0.5,0.6,0.8,0.8,0.6,1.0,1.5,2.1,1.8,2.0,2.6,3.1,2.9,3.2,3.5,3.2,3.3,3.8,3.9,3.4,3.3,3.3,3.3,3.2,3.1,3.1,2.9,2.9,2.8,2.4,2.5,2.0,2.2,1.6,2.0,2.1,2.1,1.9,2.2,1.6,1.8,1.7,1.5,1.7,1.4,1.6,1.4,1.6,1.2,1.1,1.1,1.1,1.1,0.9,1.2,0.9,0.8,0.9,1.1,1.1,1.1,0.9,1.0,1.1,0.8,0.9,0.7,0.8,0.7,0.7,0.7,0.7,0.7,0.7,0.9,0.9,1.0,1.1,1.0,1.2,1.3,1.9,1.0,1.0,1.1,1.0,1.0,1.08,1.0,1.06,1.02,1.04,0.99,1.01,1.28,1.63,1.27,1.09,0.97,0.79,0.56,0.62,0.57,0.54,0.56,0.5,0.42,0.42,0.41,0.38,0.43,0.38,0.42,0.4,0.41,0.43,0.37,0.46,1.59,0.65,0.53,0.51,0.46,0.52,0.57,0.55,0.6,0.51,0.49,0.56,0.58,0.77,0.58,0.58,0.55,0.51,0.54,0.74,0.72,0.7,1.1,2.26,2.04,2.12,1.78,1.66,1.59,1.64,1.58,1.61,1.61,1.74,1.63,18.0,1.77,1.92,1.82,1.95,1.77,1.92,2.05,2.34,0.75,0.74,0.78,0.6,0.54,0.65,0.51,0.59,0.6,0.55,0.47,0.59,0.78,1.1,1.1,1.2,0.82,0.48,0.52,0.91,0.96,0.89,0.86,0.88,0.96,0.62,0.88,1.08,0.9,0.8,0.9,1.0,0.9,0.6,0.68,0.66,0.7,0.55,0.7,1.0,0.5,0.6,0.6,0.7,0.6,0.7,0.8,0.6,0.6,0.5,0.7,0.9,0.7,0.8,0.7,0.6,0.6,0.6,0.5,0.5,0.5,0.6,0.6,0.5,0.6,0.6,0.7,0.8,0.72,0.7,0.7,0.6,0.6,0.6,0.6,0.5,0.6,0.5,0.6,0.5,0.4,0.5,0.5,0.7,0.6,0.7,0.7,0.7,0.7,0.6,0.5,0.5,0.5,1.0,1.0,0.9,0.9,0.8,0.7,0.7,0.6,0.5,0.5,0.5,0.5,0.5,0.5,0.5,0.5,0.5,0.5,0.5,0.5,0.4,0.5,0.5,0.5,0.5,0.5,0.5,0.5,0.5,0.5,0.5,0.5,0.5,0.4,0.5,0.5,0.5,0.4,0.5,0.5,0.5,0.5,0.5,0.5,0.5,0.5,0.5,0.5,0.6,0.98,1.11,1.46,2.62,2.78,2.96,0.87,0.99,1.03,1.08,1.24,1.21,1.05,1.06,1.07,1.08,1.27,0.95,1.17,1.09,1.25,1.06,1.4,1.16,1.02,1.07,1.16,1.02,0.94,0.95,0.93,0.99,0.94,0.87,0.97,0.9,0.94,0.96,1.03,0.96,0.97,1.08,0.96,1.01,0.98,1.22,1.03,1.37,1.11,1.22,1.04,1.1,1.24,1.48,1.31,1.32,1.54,1.15,1.16,1.3,1.25,1.26,1.71,1.12,1.14,1.09,1.2,1.1,1.32,1.08,1.11,1.03,0.96,1.0,0.96,1.0,1.0,1.24,0.96,1.04,1.18,1.46,1.1,1.14,1.01,0.6,0.5,0.64,0.73,0.6,1.13,1.09,1.13,1.11,1.14,1.09,1.11,1.09,1.1,0.79,0.92,0.75,0.78,0.75,0.88,0.9,0.87,1.09,0.9,0.78,0.86,0.75,0.88,0.83,0.89,0.87,1.03,0.84,0.89,0.86,0.8,0.92,0.77,0.77,0.8,0.8,0.6,1.0,0.7,0.7,0.7,0.9,0.7,0.9,0.8,0.8,0.7,0.8,0.8,0.8,0.7,1.1,0.9,1.5,1.3,1.2,1.0,1.2,0.9,1.0,0.9,1.0,0.8,0.97,0.9,0.88,1.04,1.07,0.5,0.45,0.46,0.52,0.45,0.43,0.59,0.68,0.69,0.61,0.52,0.53,0.51,0.47,0.57,0.54,0.52,0.54,0.6,0.53,0.51,0.54,0.5,0.6,0.51,0.53,0.58,0.59,0.53,0.54,0.56,0.58,0.56,0.53,0.5,0.54,0.56,0.59,0.58,0.56,0.58,0.54,0.6,0.57,0.6,0.63,0.78,0.59,0.62,0.57,0.58,0.59,0.6,0.68,0.62,0.64,0.73,0.61,0.65,0.6,0.58,0.68,0.64,0.66,0.71,0.73,0.68,0.56,1.2,1.3,1.2,1.2,1.3,1.3,1.1,1.2,1.2,1.1,1.3,1.2,1.1,1.2,1.5,1.6,1.5,1.4,1.4,1.5,1.6,1.6,1.57,1.64,1.93,1.68,1.72,2.17,0.7,0.89,1.0,1.06,1.02,1.06,0.93,0.95,0.93,1.2,0.97,1.05,1.11,1.15,1.25,1.18,1.35,1.38,1.32,1.29,1.12,1.14,0.97,0.94,1.07,0.94,1.04,1.12,1.01,1.06,1.04,1.14,1.05,1.01,0.88,0.85,0.86,1.1,1.03,0.95,1.05,1.1,1.09,0.99,1.03,0.99,1.02,1.0,1.08,1.13,1.07,1.08,1.07,0.99,1.1,0.95,1.0,0.94,1.13,0.92,1.15,1.1,1.14,1.08,1.08,1.23,1.32,1.44,1.58,1.83,1.68,1.39,1.46,1.3,1.3,1.17,1.09,1.51,1.94,1.99,1.97,1.58,1.74,1.19,1.33,1.4,1.38,1.62,1.6,1.48,1.64,1.45,1.29,1.58,1.45,1.54,1.52,1.47,1.3,1.4,1.54,1.73,1.19,0.7,0.6,0.55,0.61,0.53,0.58,0.58,0.51,0.42,0.63,0.65,0.81,0.84,0.8,0.8,0.7,0.7,0.8,0.8,0.7,0.6,0.7,0.8,0.8,0.7,0.8,0.8,0.9,0.9,0.8,0.9,0.9,1.2,0.8,0.8,0.8,2.0,1.9,2.0,1.1,0.8,0.7,0.6,0.6,0.6,0.6,0.6,0.6,0.9,0.8,1.0,0.8,0.9,0.9,0.9,1.05,1.07,6.5,6.3,6.5,6.5,6.3,6.5,7.4,9.8,9.6,9.3,8.4,8.4,8.3,6.9,6.8,5.2,4.1,4.2,3.3,4.1,4.5,3.2,7.0,8.4,8.7,5.4,5.6,7.2,5.0,6.5,5.3,6.6,5.4,7.6,5.1,7.0,0.73,0.79,0.66,0.73,0.58,1.14,0.99,0.84,0.61,0.28,0.34,0.32,0.28,0.25,0.32,0.36,0.41,0.62,0.85,0.67,0.94,0.71,0.8,0.75,0.57,0.6,0.7,0.76,0.58,0.53,0.6,0.55,0.66,0.62,0.57,0.67,0.7,0.8,1.0,0.79,0.9,0.7,0.8,0.7,0.8,0.9,0.9,1.0,0.9,1.0,0.9,0.6,0.6,0.7,0.7,0.67,0.72,0.54,0.68,0.69,1.0,0.96,1.09,1.08,1.2,0.8,0.3,0.53,1.0,0.97,0.8,0.9,1.18,1.18,0.95,1.06,0.8,0.79,0.68,0.7,0.63,0.86,0.81,0.7,1.04,0.91,0.88,1.02,1.12,0.76,0.71,1.0,1.0,1.04,1.17,1.13,1.45,1.19,1.13,1.25,1.03,1.08,1.42,1.4,3.97,3.75,3.56,3.43,3.38,3.13,3.17,3.98,3.59,3.77,3.57,3.37,4.01,4.15,0.7,0.7,0.7,0.7,0.7,0.7,0.75,0.7,0.7,0.7,1.29,0.87,0.65,0.65,0.75,0.67,0.57,0.47,0.52,0.5,0.5,0.53,0.64,0.54,0.56,0.6,0.59,0.65,0.67,0.7,0.62,0.7,0.66,0.72,0.66,0.49,0.66,0.55,0.59,0.67,0.65,0.65,0.65,0.73,0.6,0.8,0.79,0.7,0.6,1.18,1.07,1.17,1.2,0.79,0.77,0.9,0.77,0.76,0.69,0.85,0.82,0.95,1.04,0.76,0.7,0.77,1.1,1.09,1.05,1.05,1.21,1.2,0.96,0.95,0.9,1.02,1.09,1.02,0.63,1.0,1.0,0.9,1.1,1.2,1.1,0.9,0.7,0.9,1.1,0.9,0.9,1.0,1.0,1.13,0.72,0.69,0.72,0.78,0.83,1.0,0.96,1.07,1.09,1.1,0.93,0.7,0.8,0.61,0.55,0.7,0.54,1.28,0.86,0.75,1.0,0.97,1.11,1.06,0.88,0.7,0.81,0.83,0.78,0.95,0.5,0.5,1.1,0.4,0.4,0.73,0.5,0.54,0.51,0.52,1.42,1.39,1.28,1.03,0.93,1.0,1.02,1.09,1.14,1.19,1.1,1.09,1.05,0.53,0.57,0.95,1.06,1.27,1.18,1.22,1.1,0.91,1.32,1.01,0.76,0.69,0.71,0.55,0.73,0.8,0.87,0.87,0.96,1.94,0.95,0.6,0.3,0.3,0.3,0.3,0.6,0.77,0.73,0.88,0.36,1.01,0.95,0.94,1.05,1.04,1.16,1.15,0.5,0.5,0.5,0.5,0.4,0.4,0.4,0.47,0.49,0.46,0.87,0.7,0.8,0.8,0.7,0.8,0.7,0.7,0.7,0.8,0.8,0.9,0.9,0.8,0.9,0.9,0.8,1.0,0.9,0.9,0.9,1.0,0.8,0.8,0.7,0.7,0.7,0.7,0.8,0.7,0.8,0.6,0.6,0.7,0.7,0.7,0.6,0.6,0.75,0.91,0.79,0.78,0.77,0.71,0.91,0.97,0.9,0.9,0.91,0.93,0.76,0.82,0.73,0.76,0.9,0.96,0.93,0.91,1.18,0.97,0.76,0.85,0.76,0.69,1.0,0.94,1.02,1.05,1.0,0.86,0.87,0.91,1.25,1.3,1.34,1.26,1.22,1.11,1.16,1.1,1.06,0.92,0.92,0.83,0.89,0.88,0.91,1.21,1.1,1.1,1.04,1.16,1.19,1.25,1.18,0.9,1.07,1.0,1.08,1.09,1.04,0.98,0.97,1.18,0.95,0.97,0.97,1.0,1.06,1.11,1.03,0.87,0.73,0.51,0.46,0.37,0.41,0.35,0.41,0.48,0.55,0.5,0.64,0.52,0.68,0.43,0.46,0.49,0.53,0.48,0.6,0.53,0.49,0.48,0.6,0.38,0.56,0.49,0.51,0.46,0.44,0.51,0.8,0.7,0.5,0.56,0.47,0.48,0.66,0.71,0.62,0.68,0.71,0.68,0.62,0.61,0.66,0.63,0.9,1.5,1.1,1.06,1.18,1.0,1.05,0.99,0.92,1.22,1.03,1.0,0.7,0.7,0.7,0.7,0.7,0.7,1.0,0.7,0.7,0.8,0.9,0.92,0.99,0.94,0.98,1.08,1.13,0.95,0.96,1.24,1.21,1.29,1.31,1.5,1.15,1.03,1.56,1.23,1.21,1.22,1.3,1.4,1.24,1.33,1.34,1.35,1.94,0.6,0.6,0.8,0.89,0.92,1.02,0.92,1.32,1.33,1.3,1.25,1.29,1.3,1.21,1.27,1.24,1.24,1.47,1.28,1.23,1.23,1.39,1.07,0.97,1.15,1.13,1.07,0.88,1.01,1.07,1.02,1.07,1.08,1.0,0.7,0.7,0.3,0.64,0.49,0.6,0.56,0.57,1.1,0.96,1.08,0.94,0.98,1.06,0.95,0.84,0.93,0.72,0.79,0.69,0.73,0.72,0.79,0.82,0.87,0.66,0.96,0.83,0.56,0.59,0.61,0.58,0.59,0.53,0.64,0.48,0.5,0.56,0.65,0.47,0.53,0.53,0.66,0.62,0.62,0.7,0.64,0.57,0.63,0.66,0.59,0.6,0.57,0.5,0.47,0.58,0.63,0.66,0.26,0.84,0.79,0.69,0.84,0.73,0.8,0.78,0.83,0.94,0.9,0.81,1.0,0.72,0.61,0.61,0.69,0.67,0.69,0.82,0.74,0.77,0.71,0.71,0.6,0.7,0.95,1.07,1.14,1.01,1.02,1.15,1.19,1.12,1.19,1.08,1.05,1.31,1.12,0.84,0.98,0.95,1.03,0.99,1.01,0.8,0.85,0.66,0.73,0.69,0.75,0.75,0.77,0.72,0.77,0.83,0.93,0.9,0.66,0.82,0.79,0.87,0.89,0.83,0.85,0.9,0.96,0.72,0.79,0.67,0.81,0.75,0.6,0.7,0.77,0.7,0.75,0.95,0.86,0.77,0.76,0.82,0.81,0.78,0.7,0.66,0.71,0.83,0.83,0.83,0.83,0.58,0.86,0.91,0.77,0.78,0.8,0.81,0.65,0.73,0.4,0.4,0.3,0.3,0.3,0.3,0.3,0.3,0.3,0.3,0.2,0.2,0.2,0.2,0.3,0.3,0.3,1.6,0.94,1.12,0.97,0.82,0.72,0.67,0.63,0.69,0.58,0.63,0.58,0.54,0.58,0.53,0.6,0.58,0.65,0.59,0.59,0.6,0.59,0.61,0.63,0.58,0.56,0.58,0.56,0.54,0.54,0.52,0.5,0.53,0.45,0.44,0.51,0.48,0.5,0.53,0.49,0.55,0.42,0.46,0.53,0.51,0.48,0.48,0.56,0.51,0.44,0.46,0.78,0.67,0.72,0.87,0.73,0.72,0.68,0.66,0.69,0.68,0.64,0.65,0.65,0.74,0.65,0.58,0.6,0.64,0.65,0.63,0.52,0.7,1.0,0.8,0.8,0.94,0.84,0.8,0.6,0.6,0.65,0.79,0.7,0.71,0.83,0.75,0.65,0.55,0.77,0.75,0.58,0.58,0.66,0.62,0.61,0.76,0.78,0.84,0.73,0.64,0.52,0.52,0.56,0.54,0.6,0.73,0.63,0.74,0.58,0.61,0.54,0.55,0.65,0.61,0.65,0.64,0.56,0.64,0.73,0.77,0.72,0.72,0.8,0.7,0.9,0.9,0.88,0.98,0.84],\"y0\":\" \",\"yaxis\":\"y\",\"type\":\"box\"}],                        {\"template\":{\"data\":{\"histogram2dcontour\":[{\"type\":\"histogram2dcontour\",\"colorbar\":{\"outlinewidth\":0,\"ticks\":\"\"},\"colorscale\":[[0.0,\"#0d0887\"],[0.1111111111111111,\"#46039f\"],[0.2222222222222222,\"#7201a8\"],[0.3333333333333333,\"#9c179e\"],[0.4444444444444444,\"#bd3786\"],[0.5555555555555556,\"#d8576b\"],[0.6666666666666666,\"#ed7953\"],[0.7777777777777778,\"#fb9f3a\"],[0.8888888888888888,\"#fdca26\"],[1.0,\"#f0f921\"]]}],\"choropleth\":[{\"type\":\"choropleth\",\"colorbar\":{\"outlinewidth\":0,\"ticks\":\"\"}}],\"histogram2d\":[{\"type\":\"histogram2d\",\"colorbar\":{\"outlinewidth\":0,\"ticks\":\"\"},\"colorscale\":[[0.0,\"#0d0887\"],[0.1111111111111111,\"#46039f\"],[0.2222222222222222,\"#7201a8\"],[0.3333333333333333,\"#9c179e\"],[0.4444444444444444,\"#bd3786\"],[0.5555555555555556,\"#d8576b\"],[0.6666666666666666,\"#ed7953\"],[0.7777777777777778,\"#fb9f3a\"],[0.8888888888888888,\"#fdca26\"],[1.0,\"#f0f921\"]]}],\"heatmap\":[{\"type\":\"heatmap\",\"colorbar\":{\"outlinewidth\":0,\"ticks\":\"\"},\"colorscale\":[[0.0,\"#0d0887\"],[0.1111111111111111,\"#46039f\"],[0.2222222222222222,\"#7201a8\"],[0.3333333333333333,\"#9c179e\"],[0.4444444444444444,\"#bd3786\"],[0.5555555555555556,\"#d8576b\"],[0.6666666666666666,\"#ed7953\"],[0.7777777777777778,\"#fb9f3a\"],[0.8888888888888888,\"#fdca26\"],[1.0,\"#f0f921\"]]}],\"heatmapgl\":[{\"type\":\"heatmapgl\",\"colorbar\":{\"outlinewidth\":0,\"ticks\":\"\"},\"colorscale\":[[0.0,\"#0d0887\"],[0.1111111111111111,\"#46039f\"],[0.2222222222222222,\"#7201a8\"],[0.3333333333333333,\"#9c179e\"],[0.4444444444444444,\"#bd3786\"],[0.5555555555555556,\"#d8576b\"],[0.6666666666666666,\"#ed7953\"],[0.7777777777777778,\"#fb9f3a\"],[0.8888888888888888,\"#fdca26\"],[1.0,\"#f0f921\"]]}],\"contourcarpet\":[{\"type\":\"contourcarpet\",\"colorbar\":{\"outlinewidth\":0,\"ticks\":\"\"}}],\"contour\":[{\"type\":\"contour\",\"colorbar\":{\"outlinewidth\":0,\"ticks\":\"\"},\"colorscale\":[[0.0,\"#0d0887\"],[0.1111111111111111,\"#46039f\"],[0.2222222222222222,\"#7201a8\"],[0.3333333333333333,\"#9c179e\"],[0.4444444444444444,\"#bd3786\"],[0.5555555555555556,\"#d8576b\"],[0.6666666666666666,\"#ed7953\"],[0.7777777777777778,\"#fb9f3a\"],[0.8888888888888888,\"#fdca26\"],[1.0,\"#f0f921\"]]}],\"surface\":[{\"type\":\"surface\",\"colorbar\":{\"outlinewidth\":0,\"ticks\":\"\"},\"colorscale\":[[0.0,\"#0d0887\"],[0.1111111111111111,\"#46039f\"],[0.2222222222222222,\"#7201a8\"],[0.3333333333333333,\"#9c179e\"],[0.4444444444444444,\"#bd3786\"],[0.5555555555555556,\"#d8576b\"],[0.6666666666666666,\"#ed7953\"],[0.7777777777777778,\"#fb9f3a\"],[0.8888888888888888,\"#fdca26\"],[1.0,\"#f0f921\"]]}],\"mesh3d\":[{\"type\":\"mesh3d\",\"colorbar\":{\"outlinewidth\":0,\"ticks\":\"\"}}],\"scatter\":[{\"fillpattern\":{\"fillmode\":\"overlay\",\"size\":10,\"solidity\":0.2},\"type\":\"scatter\"}],\"parcoords\":[{\"type\":\"parcoords\",\"line\":{\"colorbar\":{\"outlinewidth\":0,\"ticks\":\"\"}}}],\"scatterpolargl\":[{\"type\":\"scatterpolargl\",\"marker\":{\"colorbar\":{\"outlinewidth\":0,\"ticks\":\"\"}}}],\"bar\":[{\"error_x\":{\"color\":\"#2a3f5f\"},\"error_y\":{\"color\":\"#2a3f5f\"},\"marker\":{\"line\":{\"color\":\"#E5ECF6\",\"width\":0.5},\"pattern\":{\"fillmode\":\"overlay\",\"size\":10,\"solidity\":0.2}},\"type\":\"bar\"}],\"scattergeo\":[{\"type\":\"scattergeo\",\"marker\":{\"colorbar\":{\"outlinewidth\":0,\"ticks\":\"\"}}}],\"scatterpolar\":[{\"type\":\"scatterpolar\",\"marker\":{\"colorbar\":{\"outlinewidth\":0,\"ticks\":\"\"}}}],\"histogram\":[{\"marker\":{\"pattern\":{\"fillmode\":\"overlay\",\"size\":10,\"solidity\":0.2}},\"type\":\"histogram\"}],\"scattergl\":[{\"type\":\"scattergl\",\"marker\":{\"colorbar\":{\"outlinewidth\":0,\"ticks\":\"\"}}}],\"scatter3d\":[{\"type\":\"scatter3d\",\"line\":{\"colorbar\":{\"outlinewidth\":0,\"ticks\":\"\"}},\"marker\":{\"colorbar\":{\"outlinewidth\":0,\"ticks\":\"\"}}}],\"scattermapbox\":[{\"type\":\"scattermapbox\",\"marker\":{\"colorbar\":{\"outlinewidth\":0,\"ticks\":\"\"}}}],\"scatterternary\":[{\"type\":\"scatterternary\",\"marker\":{\"colorbar\":{\"outlinewidth\":0,\"ticks\":\"\"}}}],\"scattercarpet\":[{\"type\":\"scattercarpet\",\"marker\":{\"colorbar\":{\"outlinewidth\":0,\"ticks\":\"\"}}}],\"carpet\":[{\"aaxis\":{\"endlinecolor\":\"#2a3f5f\",\"gridcolor\":\"white\",\"linecolor\":\"white\",\"minorgridcolor\":\"white\",\"startlinecolor\":\"#2a3f5f\"},\"baxis\":{\"endlinecolor\":\"#2a3f5f\",\"gridcolor\":\"white\",\"linecolor\":\"white\",\"minorgridcolor\":\"white\",\"startlinecolor\":\"#2a3f5f\"},\"type\":\"carpet\"}],\"table\":[{\"cells\":{\"fill\":{\"color\":\"#EBF0F8\"},\"line\":{\"color\":\"white\"}},\"header\":{\"fill\":{\"color\":\"#C8D4E3\"},\"line\":{\"color\":\"white\"}},\"type\":\"table\"}],\"barpolar\":[{\"marker\":{\"line\":{\"color\":\"#E5ECF6\",\"width\":0.5},\"pattern\":{\"fillmode\":\"overlay\",\"size\":10,\"solidity\":0.2}},\"type\":\"barpolar\"}],\"pie\":[{\"automargin\":true,\"type\":\"pie\"}]},\"layout\":{\"autotypenumbers\":\"strict\",\"colorway\":[\"#636efa\",\"#EF553B\",\"#00cc96\",\"#ab63fa\",\"#FFA15A\",\"#19d3f3\",\"#FF6692\",\"#B6E880\",\"#FF97FF\",\"#FECB52\"],\"font\":{\"color\":\"#2a3f5f\"},\"hovermode\":\"closest\",\"hoverlabel\":{\"align\":\"left\"},\"paper_bgcolor\":\"white\",\"plot_bgcolor\":\"#E5ECF6\",\"polar\":{\"bgcolor\":\"#E5ECF6\",\"angularaxis\":{\"gridcolor\":\"white\",\"linecolor\":\"white\",\"ticks\":\"\"},\"radialaxis\":{\"gridcolor\":\"white\",\"linecolor\":\"white\",\"ticks\":\"\"}},\"ternary\":{\"bgcolor\":\"#E5ECF6\",\"aaxis\":{\"gridcolor\":\"white\",\"linecolor\":\"white\",\"ticks\":\"\"},\"baxis\":{\"gridcolor\":\"white\",\"linecolor\":\"white\",\"ticks\":\"\"},\"caxis\":{\"gridcolor\":\"white\",\"linecolor\":\"white\",\"ticks\":\"\"}},\"coloraxis\":{\"colorbar\":{\"outlinewidth\":0,\"ticks\":\"\"}},\"colorscale\":{\"sequential\":[[0.0,\"#0d0887\"],[0.1111111111111111,\"#46039f\"],[0.2222222222222222,\"#7201a8\"],[0.3333333333333333,\"#9c179e\"],[0.4444444444444444,\"#bd3786\"],[0.5555555555555556,\"#d8576b\"],[0.6666666666666666,\"#ed7953\"],[0.7777777777777778,\"#fb9f3a\"],[0.8888888888888888,\"#fdca26\"],[1.0,\"#f0f921\"]],\"sequentialminus\":[[0.0,\"#0d0887\"],[0.1111111111111111,\"#46039f\"],[0.2222222222222222,\"#7201a8\"],[0.3333333333333333,\"#9c179e\"],[0.4444444444444444,\"#bd3786\"],[0.5555555555555556,\"#d8576b\"],[0.6666666666666666,\"#ed7953\"],[0.7777777777777778,\"#fb9f3a\"],[0.8888888888888888,\"#fdca26\"],[1.0,\"#f0f921\"]],\"diverging\":[[0,\"#8e0152\"],[0.1,\"#c51b7d\"],[0.2,\"#de77ae\"],[0.3,\"#f1b6da\"],[0.4,\"#fde0ef\"],[0.5,\"#f7f7f7\"],[0.6,\"#e6f5d0\"],[0.7,\"#b8e186\"],[0.8,\"#7fbc41\"],[0.9,\"#4d9221\"],[1,\"#276419\"]]},\"xaxis\":{\"gridcolor\":\"white\",\"linecolor\":\"white\",\"ticks\":\"\",\"title\":{\"standoff\":15},\"zerolinecolor\":\"white\",\"automargin\":true,\"zerolinewidth\":2},\"yaxis\":{\"gridcolor\":\"white\",\"linecolor\":\"white\",\"ticks\":\"\",\"title\":{\"standoff\":15},\"zerolinecolor\":\"white\",\"automargin\":true,\"zerolinewidth\":2},\"scene\":{\"xaxis\":{\"backgroundcolor\":\"#E5ECF6\",\"gridcolor\":\"white\",\"linecolor\":\"white\",\"showbackground\":true,\"ticks\":\"\",\"zerolinecolor\":\"white\",\"gridwidth\":2},\"yaxis\":{\"backgroundcolor\":\"#E5ECF6\",\"gridcolor\":\"white\",\"linecolor\":\"white\",\"showbackground\":true,\"ticks\":\"\",\"zerolinecolor\":\"white\",\"gridwidth\":2},\"zaxis\":{\"backgroundcolor\":\"#E5ECF6\",\"gridcolor\":\"white\",\"linecolor\":\"white\",\"showbackground\":true,\"ticks\":\"\",\"zerolinecolor\":\"white\",\"gridwidth\":2}},\"shapedefaults\":{\"line\":{\"color\":\"#2a3f5f\"}},\"annotationdefaults\":{\"arrowcolor\":\"#2a3f5f\",\"arrowhead\":0,\"arrowwidth\":1},\"geo\":{\"bgcolor\":\"white\",\"landcolor\":\"#E5ECF6\",\"subunitcolor\":\"white\",\"showland\":true,\"showlakes\":true,\"lakecolor\":\"white\"},\"title\":{\"x\":0.05},\"mapbox\":{\"style\":\"light\"}}},\"xaxis\":{\"anchor\":\"y\",\"domain\":[0.0,1.0]},\"yaxis\":{\"anchor\":\"x\",\"domain\":[0.0,1.0],\"title\":{\"text\":\"lab_result_num_val\"}},\"legend\":{\"tracegroupgap\":0},\"margin\":{\"t\":60},\"boxmode\":\"group\"},                        {\"responsive\": true}                    ).then(function(){\n",
              "                            \n",
              "var gd = document.getElementById('7d48bb24-067c-4486-8743-90a60a87ba5b');\n",
              "var x = new MutationObserver(function (mutations, observer) {{\n",
              "        var display = window.getComputedStyle(gd).display;\n",
              "        if (!display || display === 'none') {{\n",
              "            console.log([gd, 'removed!']);\n",
              "            Plotly.purge(gd);\n",
              "            observer.disconnect();\n",
              "        }}\n",
              "}});\n",
              "\n",
              "// Listen for the removal of the full notebook cells\n",
              "var notebookContainer = gd.closest('#notebook-container');\n",
              "if (notebookContainer) {{\n",
              "    x.observe(notebookContainer, {childList: true});\n",
              "}}\n",
              "\n",
              "// Listen for the clearing of the current output cell\n",
              "var outputEl = gd.closest('.output');\n",
              "if (outputEl) {{\n",
              "    x.observe(outputEl, {childList: true});\n",
              "}}\n",
              "\n",
              "                        })                };                            </script>        </div>\n",
              "</body>\n",
              "</html>"
            ]
          },
          "metadata": {}
        }
      ]
    },
    {
      "cell_type": "markdown",
      "source": [
        "# Shapiro test for normal distribution"
      ],
      "metadata": {
        "id": "Vk1M1Qt8JDwT"
      }
    },
    {
      "cell_type": "code",
      "source": [
        "stat, p = shapiro(systolic_bp['lab_result_num_val'])\n",
        "if p > 0.05:\n",
        "    print(\"Systolic BP data follows a normal distribution.\")\n",
        "else:\n",
        "    print(\"Systolic BP data does not follow a normal distribution.\")\n",
        "print(stat, p)"
      ],
      "metadata": {
        "colab": {
          "base_uri": "https://localhost:8080/"
        },
        "id": "XBm69BBoJGxO",
        "outputId": "a2f933ad-609a-4f7c-e30e-90eafcb31805"
      },
      "execution_count": 35,
      "outputs": [
        {
          "output_type": "stream",
          "name": "stdout",
          "text": [
            "Systolic BP data does not follow a normal distribution.\n",
            "0.8792375326156616 0.0\n"
          ]
        },
        {
          "output_type": "stream",
          "name": "stderr",
          "text": [
            "/usr/local/lib/python3.10/dist-packages/scipy/stats/_morestats.py:1882: UserWarning: p-value may not be accurate for N > 5000.\n",
            "  warnings.warn(\"p-value may not be accurate for N > 5000.\")\n"
          ]
        }
      ]
    },
    {
      "cell_type": "code",
      "source": [
        "stat, p = shapiro(creatinine['lab_result_num_val'])\n",
        "if p > 0.05:\n",
        "    print(\"Creatinine data follows a normal distribution.\")\n",
        "else:\n",
        "    print(\"Creatinine data does not follow a normal distribution.\")\n",
        "print(stat, p)"
      ],
      "metadata": {
        "colab": {
          "base_uri": "https://localhost:8080/"
        },
        "id": "0I5d1pj7JnTk",
        "outputId": "40461611-d835-48ee-de7e-3be695afb6ba"
      },
      "execution_count": 34,
      "outputs": [
        {
          "output_type": "stream",
          "name": "stdout",
          "text": [
            "Creatinine data does not follow a normal distribution.\n",
            "0.5349443554878235 0.0\n"
          ]
        }
      ]
    },
    {
      "cell_type": "markdown",
      "source": [
        "# Pandas Profiling\n",
        "Needed to choose a different file as the original one for lab values was too big and yielded error messages"
      ],
      "metadata": {
        "id": "I9wx-yCEQQkF"
      }
    },
    {
      "cell_type": "code",
      "source": [
        "!pip install pandas-profiling"
      ],
      "metadata": {
        "colab": {
          "base_uri": "https://localhost:8080/"
        },
        "id": "yBwj5CE0Mx-k",
        "outputId": "619c9ba2-8aa3-40dc-f5a1-0512ad13b476"
      },
      "execution_count": 38,
      "outputs": [
        {
          "output_type": "stream",
          "name": "stdout",
          "text": [
            "Collecting pandas-profiling\n",
            "  Downloading pandas_profiling-3.6.6-py2.py3-none-any.whl (324 kB)\n",
            "\u001b[2K     \u001b[90m━━━━━━━━━━━━━━━━━━━━━━━━━━━━━━━━━━━━━━━\u001b[0m \u001b[32m324.4/324.4 kB\u001b[0m \u001b[31m4.8 MB/s\u001b[0m eta \u001b[36m0:00:00\u001b[0m\n",
            "\u001b[?25hCollecting ydata-profiling (from pandas-profiling)\n",
            "  Downloading ydata_profiling-4.5.1-py2.py3-none-any.whl (357 kB)\n",
            "\u001b[2K     \u001b[90m━━━━━━━━━━━━━━━━━━━━━━━━━━━━━━━━━━━━━━━\u001b[0m \u001b[32m357.3/357.3 kB\u001b[0m \u001b[31m9.0 MB/s\u001b[0m eta \u001b[36m0:00:00\u001b[0m\n",
            "\u001b[?25hRequirement already satisfied: scipy<1.12,>=1.4.1 in /usr/local/lib/python3.10/dist-packages (from ydata-profiling->pandas-profiling) (1.11.2)\n",
            "Requirement already satisfied: pandas!=1.4.0,<2.1,>1.1 in /usr/local/lib/python3.10/dist-packages (from ydata-profiling->pandas-profiling) (1.5.3)\n",
            "Requirement already satisfied: matplotlib<4,>=3.2 in /usr/local/lib/python3.10/dist-packages (from ydata-profiling->pandas-profiling) (3.7.1)\n",
            "Requirement already satisfied: pydantic<2,>=1.8.1 in /usr/local/lib/python3.10/dist-packages (from ydata-profiling->pandas-profiling) (1.10.12)\n",
            "Requirement already satisfied: PyYAML<6.1,>=5.0.0 in /usr/local/lib/python3.10/dist-packages (from ydata-profiling->pandas-profiling) (6.0.1)\n",
            "Requirement already satisfied: jinja2<3.2,>=2.11.1 in /usr/local/lib/python3.10/dist-packages (from ydata-profiling->pandas-profiling) (3.1.2)\n",
            "Collecting visions[type_image_path]==0.7.5 (from ydata-profiling->pandas-profiling)\n",
            "  Downloading visions-0.7.5-py3-none-any.whl (102 kB)\n",
            "\u001b[2K     \u001b[90m━━━━━━━━━━━━━━━━━━━━━━━━━━━━━━━━━━━━━━━\u001b[0m \u001b[32m102.7/102.7 kB\u001b[0m \u001b[31m6.7 MB/s\u001b[0m eta \u001b[36m0:00:00\u001b[0m\n",
            "\u001b[?25hRequirement already satisfied: numpy<1.24,>=1.16.0 in /usr/local/lib/python3.10/dist-packages (from ydata-profiling->pandas-profiling) (1.23.5)\n",
            "Collecting htmlmin==0.1.12 (from ydata-profiling->pandas-profiling)\n",
            "  Downloading htmlmin-0.1.12.tar.gz (19 kB)\n",
            "  Preparing metadata (setup.py) ... \u001b[?25l\u001b[?25hdone\n",
            "Collecting phik<0.13,>=0.11.1 (from ydata-profiling->pandas-profiling)\n",
            "  Downloading phik-0.12.3-cp310-cp310-manylinux_2_17_x86_64.manylinux2014_x86_64.whl (679 kB)\n",
            "\u001b[2K     \u001b[90m━━━━━━━━━━━━━━━━━━━━━━━━━━━━━━━━━━━━━━\u001b[0m \u001b[32m679.5/679.5 kB\u001b[0m \u001b[31m14.1 MB/s\u001b[0m eta \u001b[36m0:00:00\u001b[0m\n",
            "\u001b[?25hRequirement already satisfied: requests<3,>=2.24.0 in /usr/local/lib/python3.10/dist-packages (from ydata-profiling->pandas-profiling) (2.31.0)\n",
            "Requirement already satisfied: tqdm<5,>=4.48.2 in /usr/local/lib/python3.10/dist-packages (from ydata-profiling->pandas-profiling) (4.66.1)\n",
            "Requirement already satisfied: seaborn<0.13,>=0.10.1 in /usr/local/lib/python3.10/dist-packages (from ydata-profiling->pandas-profiling) (0.12.2)\n",
            "Collecting multimethod<2,>=1.4 (from ydata-profiling->pandas-profiling)\n",
            "  Downloading multimethod-1.10-py3-none-any.whl (9.9 kB)\n",
            "Requirement already satisfied: statsmodels<1,>=0.13.2 in /usr/local/lib/python3.10/dist-packages (from ydata-profiling->pandas-profiling) (0.14.0)\n",
            "Collecting typeguard<3,>=2.13.2 (from ydata-profiling->pandas-profiling)\n",
            "  Downloading typeguard-2.13.3-py3-none-any.whl (17 kB)\n",
            "Collecting imagehash==4.3.1 (from ydata-profiling->pandas-profiling)\n",
            "  Downloading ImageHash-4.3.1-py2.py3-none-any.whl (296 kB)\n",
            "\u001b[2K     \u001b[90m━━━━━━━━━━━━━━━━━━━━━━━━━━━━━━━━━━━━━━\u001b[0m \u001b[32m296.5/296.5 kB\u001b[0m \u001b[31m12.1 MB/s\u001b[0m eta \u001b[36m0:00:00\u001b[0m\n",
            "\u001b[?25hRequirement already satisfied: wordcloud>=1.9.1 in /usr/local/lib/python3.10/dist-packages (from ydata-profiling->pandas-profiling) (1.9.2)\n",
            "Collecting dacite>=1.8 (from ydata-profiling->pandas-profiling)\n",
            "  Downloading dacite-1.8.1-py3-none-any.whl (14 kB)\n",
            "Requirement already satisfied: PyWavelets in /usr/local/lib/python3.10/dist-packages (from imagehash==4.3.1->ydata-profiling->pandas-profiling) (1.4.1)\n",
            "Requirement already satisfied: pillow in /usr/local/lib/python3.10/dist-packages (from imagehash==4.3.1->ydata-profiling->pandas-profiling) (9.4.0)\n",
            "Requirement already satisfied: attrs>=19.3.0 in /usr/local/lib/python3.10/dist-packages (from visions[type_image_path]==0.7.5->ydata-profiling->pandas-profiling) (23.1.0)\n",
            "Requirement already satisfied: networkx>=2.4 in /usr/local/lib/python3.10/dist-packages (from visions[type_image_path]==0.7.5->ydata-profiling->pandas-profiling) (3.1)\n",
            "Collecting tangled-up-in-unicode>=0.0.4 (from visions[type_image_path]==0.7.5->ydata-profiling->pandas-profiling)\n",
            "  Downloading tangled_up_in_unicode-0.2.0-py3-none-any.whl (4.7 MB)\n",
            "\u001b[2K     \u001b[90m━━━━━━━━━━━━━━━━━━━━━━━━━━━━━━━━━━━━━━━━\u001b[0m \u001b[32m4.7/4.7 MB\u001b[0m \u001b[31m27.1 MB/s\u001b[0m eta \u001b[36m0:00:00\u001b[0m\n",
            "\u001b[?25hRequirement already satisfied: MarkupSafe>=2.0 in /usr/local/lib/python3.10/dist-packages (from jinja2<3.2,>=2.11.1->ydata-profiling->pandas-profiling) (2.1.3)\n",
            "Requirement already satisfied: contourpy>=1.0.1 in /usr/local/lib/python3.10/dist-packages (from matplotlib<4,>=3.2->ydata-profiling->pandas-profiling) (1.1.0)\n",
            "Requirement already satisfied: cycler>=0.10 in /usr/local/lib/python3.10/dist-packages (from matplotlib<4,>=3.2->ydata-profiling->pandas-profiling) (0.11.0)\n",
            "Requirement already satisfied: fonttools>=4.22.0 in /usr/local/lib/python3.10/dist-packages (from matplotlib<4,>=3.2->ydata-profiling->pandas-profiling) (4.42.1)\n",
            "Requirement already satisfied: kiwisolver>=1.0.1 in /usr/local/lib/python3.10/dist-packages (from matplotlib<4,>=3.2->ydata-profiling->pandas-profiling) (1.4.5)\n",
            "Requirement already satisfied: packaging>=20.0 in /usr/local/lib/python3.10/dist-packages (from matplotlib<4,>=3.2->ydata-profiling->pandas-profiling) (23.1)\n",
            "Requirement already satisfied: pyparsing>=2.3.1 in /usr/local/lib/python3.10/dist-packages (from matplotlib<4,>=3.2->ydata-profiling->pandas-profiling) (3.1.1)\n",
            "Requirement already satisfied: python-dateutil>=2.7 in /usr/local/lib/python3.10/dist-packages (from matplotlib<4,>=3.2->ydata-profiling->pandas-profiling) (2.8.2)\n",
            "Requirement already satisfied: pytz>=2020.1 in /usr/local/lib/python3.10/dist-packages (from pandas!=1.4.0,<2.1,>1.1->ydata-profiling->pandas-profiling) (2023.3.post1)\n",
            "Requirement already satisfied: joblib>=0.14.1 in /usr/local/lib/python3.10/dist-packages (from phik<0.13,>=0.11.1->ydata-profiling->pandas-profiling) (1.3.2)\n",
            "Requirement already satisfied: typing-extensions>=4.2.0 in /usr/local/lib/python3.10/dist-packages (from pydantic<2,>=1.8.1->ydata-profiling->pandas-profiling) (4.5.0)\n",
            "Requirement already satisfied: charset-normalizer<4,>=2 in /usr/local/lib/python3.10/dist-packages (from requests<3,>=2.24.0->ydata-profiling->pandas-profiling) (3.2.0)\n",
            "Requirement already satisfied: idna<4,>=2.5 in /usr/local/lib/python3.10/dist-packages (from requests<3,>=2.24.0->ydata-profiling->pandas-profiling) (3.4)\n",
            "Requirement already satisfied: urllib3<3,>=1.21.1 in /usr/local/lib/python3.10/dist-packages (from requests<3,>=2.24.0->ydata-profiling->pandas-profiling) (2.0.4)\n",
            "Requirement already satisfied: certifi>=2017.4.17 in /usr/local/lib/python3.10/dist-packages (from requests<3,>=2.24.0->ydata-profiling->pandas-profiling) (2023.7.22)\n",
            "Requirement already satisfied: patsy>=0.5.2 in /usr/local/lib/python3.10/dist-packages (from statsmodels<1,>=0.13.2->ydata-profiling->pandas-profiling) (0.5.3)\n",
            "Requirement already satisfied: six in /usr/local/lib/python3.10/dist-packages (from patsy>=0.5.2->statsmodels<1,>=0.13.2->ydata-profiling->pandas-profiling) (1.16.0)\n",
            "Building wheels for collected packages: htmlmin\n",
            "  Building wheel for htmlmin (setup.py) ... \u001b[?25l\u001b[?25hdone\n",
            "  Created wheel for htmlmin: filename=htmlmin-0.1.12-py3-none-any.whl size=27081 sha256=ae298cfaf693a06dd998532736a0e17e7ea93b631cc3f734be17b4a184fb7828\n",
            "  Stored in directory: /root/.cache/pip/wheels/dd/91/29/a79cecb328d01739e64017b6fb9a1ab9d8cb1853098ec5966d\n",
            "Successfully built htmlmin\n",
            "Installing collected packages: htmlmin, typeguard, tangled-up-in-unicode, multimethod, dacite, imagehash, visions, phik, ydata-profiling, pandas-profiling\n",
            "Successfully installed dacite-1.8.1 htmlmin-0.1.12 imagehash-4.3.1 multimethod-1.10 pandas-profiling-3.6.6 phik-0.12.3 tangled-up-in-unicode-0.2.0 typeguard-2.13.3 visions-0.7.5 ydata-profiling-4.5.1\n"
          ]
        }
      ]
    },
    {
      "cell_type": "code",
      "source": [
        "from pandas_profiling import ProfileReport"
      ],
      "metadata": {
        "id": "jcUIhoiSM8BB"
      },
      "execution_count": 41,
      "outputs": []
    },
    {
      "cell_type": "code",
      "source": [
        "data = pd.read_csv('https://raw.githubusercontent.com/hantswilliams/HHA_507_2023/main/WK3/data/trinetx/medication_drug.csv')"
      ],
      "metadata": {
        "id": "u0Wo7DQxOot_"
      },
      "execution_count": 46,
      "outputs": []
    },
    {
      "cell_type": "code",
      "source": [
        "report = ProfileReport(data)\n",
        "report.to_file('eda_report_html')"
      ],
      "metadata": {
        "colab": {
          "base_uri": "https://localhost:8080/",
          "height": 200,
          "referenced_widgets": [
            "91a9571bddea4c7980b111d68ad8a61c",
            "5cc41055dc9b4552b9a0a1e7693634c7",
            "48788e57f71746839dfe0f150e7ebfac",
            "fadf809af29d49b1ae8b6a4888018fdc",
            "8eecc6266b794dd8bd78abf1a381079d",
            "eaba23883ff54736a13b6a5681609bfc",
            "f3fd12aae6c144e592523ba0745e0492",
            "4ef96cd0eadb4199991e8ece7475ff3f",
            "f677345b622644ad932f5f7cb109b07e",
            "734f9bbf30864dd1ad91653184a6c2aa",
            "d0c1956a35fb4557adb9011b82bdaaec",
            "edcaddda0ca7406abc35f5df60b23c46",
            "1bf65e2bcea648169b5c960f99320408",
            "c13a0dfb16e94a2395cbaa3338af4b10",
            "1df5b9690b26410496d970d1288c545f",
            "1d743b9fe21543e6ae037a3f17fbe344",
            "c8a1701de4334c61a0dadff4ce714036",
            "72f1d6cbd9ba48cd8cbf867df69c8bbc",
            "f3ba231f3c5b441fbbd8a732d58a1026",
            "383f59ff712f403b98b8291fa1c8608c",
            "2dea4e93c4d449568c261919f1ff0854",
            "a03c99dca2f24a5b8664896b6d120b11",
            "4933a76d911344088fb6bd7882653a3e",
            "3d46930cf24b42afa02680ceaca108ca",
            "9655c89c56ab43ec90aa8f347629e3ea",
            "9d86ddaada044489b915bc427270aba1",
            "5795056764d84ffe8e7eacb07dc527d6",
            "6e6c3e84ff954442a93ad81524e0dcae",
            "11bf0f887a6b430b98cec8766d938250",
            "90f6d422929742b2b77393437716f2df",
            "7c8e33a5afff40da89cc1dfc1760fa47",
            "4e3a2d065c78453f924bd3b25fd0aa46",
            "f446cd1dc96a4d33b56ebfa831a9e88d",
            "5c7a6cba6f8c496fa0c87d25ec446a3a",
            "16f6edf976bc4369821a02e7894b9704",
            "92a59173bbf14f0994a5c7a547009991",
            "c5c6324f68a54de2bafe863a4e8f491d",
            "f1a702ade9e849a7b445af23ffd3585c",
            "a17b529b45d14b17b0220539374c2e41",
            "9bc7113a7eda4aec8c0f4585c5b83a55",
            "0576db461cd1484d9ff5387d9e35f5f0",
            "c5da68499b0044fc8c16c44a48e90c4a",
            "45bbfeefeb704f92b41c3a7c917c639b",
            "d870dc923f454ce5a0bd57c3a63db01f"
          ]
        },
        "id": "SQs9jUrANLR4",
        "outputId": "363f3bf3-1496-4491-a58a-7a29e9b74c11"
      },
      "execution_count": 47,
      "outputs": [
        {
          "output_type": "display_data",
          "data": {
            "text/plain": [
              "Summarize dataset:   0%|          | 0/5 [00:00<?, ?it/s]"
            ],
            "application/vnd.jupyter.widget-view+json": {
              "version_major": 2,
              "version_minor": 0,
              "model_id": "91a9571bddea4c7980b111d68ad8a61c"
            }
          },
          "metadata": {}
        },
        {
          "output_type": "display_data",
          "data": {
            "text/plain": [
              "Generate report structure:   0%|          | 0/1 [00:00<?, ?it/s]"
            ],
            "application/vnd.jupyter.widget-view+json": {
              "version_major": 2,
              "version_minor": 0,
              "model_id": "edcaddda0ca7406abc35f5df60b23c46"
            }
          },
          "metadata": {}
        },
        {
          "output_type": "display_data",
          "data": {
            "text/plain": [
              "Render HTML:   0%|          | 0/1 [00:00<?, ?it/s]"
            ],
            "application/vnd.jupyter.widget-view+json": {
              "version_major": 2,
              "version_minor": 0,
              "model_id": "4933a76d911344088fb6bd7882653a3e"
            }
          },
          "metadata": {}
        },
        {
          "output_type": "stream",
          "name": "stderr",
          "text": [
            "/usr/local/lib/python3.10/dist-packages/pandas_profiling/profile_report.py:314: UserWarning: Extension  not supported. For now we assume .html was intended. To remove this warning, please use .html or .json.\n",
            "  warnings.warn(\n"
          ]
        },
        {
          "output_type": "display_data",
          "data": {
            "text/plain": [
              "Export report to file:   0%|          | 0/1 [00:00<?, ?it/s]"
            ],
            "application/vnd.jupyter.widget-view+json": {
              "version_major": 2,
              "version_minor": 0,
              "model_id": "5c7a6cba6f8c496fa0c87d25ec446a3a"
            }
          },
          "metadata": {}
        }
      ]
    }
  ]
}